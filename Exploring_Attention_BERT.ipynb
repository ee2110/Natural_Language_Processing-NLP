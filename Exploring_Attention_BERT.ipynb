{
  "nbformat": 4,
  "nbformat_minor": 0,
  "metadata": {
    "colab": {
      "name": "Exploring_Attention_BERT.ipynb",
      "provenance": [],
      "collapsed_sections": [
        "64Sbg_A_dcFn"
      ]
    },
    "kernelspec": {
      "name": "python3",
      "display_name": "Python 3"
    },
    "accelerator": "GPU"
  },
  "cells": [
    {
      "cell_type": "markdown",
      "metadata": {
        "id": "64Sbg_A_dcFn"
      },
      "source": [
        "## Setup"
      ]
    },
    {
      "cell_type": "code",
      "metadata": {
        "id": "16C1jXJGdaMi"
      },
      "source": [
        "!pip install tensorflow>=2.0 -Uq"
      ],
      "execution_count": 1,
      "outputs": []
    },
    {
      "cell_type": "code",
      "metadata": {
        "id": "PWi4tGjHh0Rj"
      },
      "source": [
        "import tensorflow"
      ],
      "execution_count": 2,
      "outputs": []
    },
    {
      "cell_type": "code",
      "metadata": {
        "id": "SSYyg4Usdibk"
      },
      "source": [
        "import numpy as np\n",
        "import matplotlib.pyplot as plt\n",
        "import seaborn as sns\n",
        "%matplotlib inline\n",
        "%config InlineBackend.figure_format = \"retina\"\n",
        "\n",
        "import tensorflow.compat.v2 as tf"
      ],
      "execution_count": 3,
      "outputs": []
    },
    {
      "cell_type": "markdown",
      "metadata": {
        "id": "bn447DUtdkK1"
      },
      "source": [
        "Helper functions for prettier displays"
      ]
    },
    {
      "cell_type": "code",
      "metadata": {
        "id": "TKpheNmkdhAg"
      },
      "source": [
        "def plot_weights(array):\n",
        "    \"\"\"\n",
        "    Plot attention weights\n",
        "    \"\"\"\n",
        "    try:\n",
        "        array = array.numpy()\n",
        "    except:\n",
        "        pass\n",
        "    sns.heatmap(array[0,:].T)\n",
        "    plt.title(\"Attention Map\")\n",
        "    plt.xlabel(\"Query\")\n",
        "    plt.ylabel(\"Key\")\n",
        "    plt.show()\n",
        "    \n",
        "def print_outputs(output):\n",
        "    \"\"\"\n",
        "    Print value vector (V) or self-attention output\n",
        "    \"\"\"\n",
        "    try:\n",
        "        output = output.numpy()\n",
        "    except:\n",
        "        pass\n",
        "    print(\"Output:\")\n",
        "    print(str(output[0]))\n",
        "\n",
        "def causal_attention_mask(size):\n",
        "    mask = 1 - tf.linalg.band_part(tf.ones((size, size)), -1, 0)\n",
        "    return mask"
      ],
      "execution_count": 4,
      "outputs": []
    },
    {
      "cell_type": "markdown",
      "metadata": {
        "id": "PDH_E3CedpuO"
      },
      "source": [
        "# Exploring Self-Attention\n",
        "\n",
        "In this notebook, we take a deep dive into the self-attention mechanism and see what it is doing.\n",
        "\n",
        "We will explore an implementation of attention in TensorFlow 2.0 and some toy examples of self-attention.\n",
        "\n",
        "![Self-attention mechanism](https://github.com/NVAITC/dnn_animations/raw/master/gif/self_attention.gif)"
      ]
    },
    {
      "cell_type": "markdown",
      "metadata": {
        "id": "IFj-0EcIor5d"
      },
      "source": [
        "## Attention Mechanism"
      ]
    },
    {
      "cell_type": "markdown",
      "metadata": {
        "id": "YRFeU0aDmmjO"
      },
      "source": [
        "The attention mechanism takes in three vectors (query `Q`, key `K` and value `V`) and returns the product of `V` and an attention map.\n",
        "\n",
        "We show a simple implementation of the **dot-product attention** mechanism as shown by the equation below. There are other methods of calculating attention scores, but dot-product is by far the most common method.\n",
        "\n",
        "Note the optional the scaling of the dot-product by $\\sqrt{H}$ (square-root of model dimension) in order to prevent the value of the dot-product from being too large. This is a problem for high dimensions.\n",
        "\n",
        "$\\text{attention}(Q,K,V) = \\text{softmax}(\\frac{QK^T}{\\sqrt{H}})V $\n",
        "\n",
        "In addition to returning the output, we will also return the **attention map** so that we can visualize it and understand how attention works."
      ]
    },
    {
      "cell_type": "code",
      "metadata": {
        "id": "vRfrnhdFdq_o"
      },
      "source": [
        "def attention(query, key, value, mask, scale=False):\n",
        "    matmul_qk = tf.matmul(query, key, transpose_b=True)\n",
        "    if scale:\n",
        "        H = tf.cast(tf.shape(key)[-1], matmul_qk.dtype)\n",
        "        matmul_qk = matmul_qk / tf.math.sqrt(H)\n",
        "    # add the mask to zero out padding tokens\n",
        "    mask = tf.cast(mask, matmul_qk.dtype)\n",
        "    matmul_qk += (mask * -1e9)\n",
        "    # softmax is normalized on the last axis (seq_len)\n",
        "    attention_weights = tf.nn.softmax(matmul_qk, axis=-1)\n",
        "    output = tf.matmul(attention_weights, value)\n",
        "    return output, attention_weights"
      ],
      "execution_count": 5,
      "outputs": []
    },
    {
      "cell_type": "markdown",
      "metadata": {
        "id": "7wR2o2BTWiMi"
      },
      "source": [
        "You may have noticed a `mask` in the implementation above.\n",
        "\n",
        "Sometimes, it is not desirable to allow the attention mechanism to attend to all positions. Hence, we use can use an **attention mask** to prevent attention to specific positions. In positions where the mask has a value of `1`, the attention weight will be set to effectively zero."
      ]
    },
    {
      "cell_type": "markdown",
      "metadata": {
        "id": "NZU0DEsbeBbo"
      },
      "source": [
        "## `K`, `Q` and `V` vectors"
      ]
    },
    {
      "cell_type": "markdown",
      "metadata": {
        "id": "hdmaBfeofsiQ"
      },
      "source": [
        "The **query** vector, `Q`, is a representation of the information that is relevant to the current token.\n",
        "\n",
        "During the training process, the model learns to transform the input token into the `Q` vector via a fully-connected (dense) layer.\n",
        "\n",
        "Below, we create a toy example of what the `Q` matrix might look like for a sequence of five tokens."
      ]
    },
    {
      "cell_type": "code",
      "metadata": {
        "id": "VcCJ_6_EgOVl"
      },
      "source": [
        "Q = tf.constant([[[0,10,0],\n",
        "                  [0,10,0],\n",
        "                  [0,10,0],\n",
        "                  [10,0,0],\n",
        "                  [0,0,10]]], dtype=tf.float32)"
      ],
      "execution_count": 6,
      "outputs": []
    },
    {
      "cell_type": "code",
      "metadata": {
        "id": "Cw13EoIOofay",
        "colab": {
          "base_uri": "https://localhost:8080/"
        },
        "outputId": "a13ac5a8-19ad-4155-fef1-b775f9397ed2"
      },
      "source": [
        "print(Q)"
      ],
      "execution_count": 7,
      "outputs": [
        {
          "output_type": "stream",
          "text": [
            "tf.Tensor(\n",
            "[[[ 0. 10.  0.]\n",
            "  [ 0. 10.  0.]\n",
            "  [ 0. 10.  0.]\n",
            "  [10.  0.  0.]\n",
            "  [ 0.  0. 10.]]], shape=(1, 5, 3), dtype=float32)\n"
          ],
          "name": "stdout"
        }
      ]
    },
    {
      "cell_type": "markdown",
      "metadata": {
        "id": "Zbtt5knzgMyN"
      },
      "source": [
        "The **key** vector, `K`, is a representation of the type of information that is contained inside the current token. \n",
        "\n",
        "Same as the `Q` vector, this representation is learnt during the training process."
      ]
    },
    {
      "cell_type": "code",
      "metadata": {
        "id": "P5vkiR_Jebrx",
        "colab": {
          "base_uri": "https://localhost:8080/"
        },
        "outputId": "25dc8976-c557-4c05-9c16-52132a588191"
      },
      "source": [
        "K = tf.constant([[[10,0,0],\n",
        "                  [0,10,0],\n",
        "                  [0,0,10],\n",
        "                  [0,0,10],\n",
        "                  [0,0,10]]], dtype=tf.float32)\n",
        "\n",
        "print(K)"
      ],
      "execution_count": 8,
      "outputs": [
        {
          "output_type": "stream",
          "text": [
            "tf.Tensor(\n",
            "[[[10.  0.  0.]\n",
            "  [ 0. 10.  0.]\n",
            "  [ 0.  0. 10.]\n",
            "  [ 0.  0. 10.]\n",
            "  [ 0.  0. 10.]]], shape=(1, 5, 3), dtype=float32)\n"
          ],
          "name": "stdout"
        }
      ]
    },
    {
      "cell_type": "code",
      "metadata": {
        "id": "k6mKIYoigSre",
        "colab": {
          "base_uri": "https://localhost:8080/"
        },
        "outputId": "48ea187a-d7ed-416e-9e17-ac16e55ae476"
      },
      "source": [
        "print(\"K and Q have the same shape:\", Q.shape)"
      ],
      "execution_count": 9,
      "outputs": [
        {
          "output_type": "stream",
          "text": [
            "K and Q have the same shape: (1, 5, 3)\n"
          ],
          "name": "stdout"
        }
      ]
    },
    {
      "cell_type": "markdown",
      "metadata": {
        "id": "_OM7sbjFeM9_"
      },
      "source": [
        "The **value** vector, `V`, represents the semantic meaning encoded in the input token. \n",
        "\n",
        "Here, we are using a sequence of integer values to represent the input sequence.\n",
        "\n",
        "The values reflect the indices of the individual elements (element 0 has value `0.0`).\n",
        "\n",
        "We can use this as a proxy to identify which elements of the sequence are attended to later."
      ]
    },
    {
      "cell_type": "code",
      "metadata": {
        "id": "P-yy_e4Vdx5Z",
        "colab": {
          "base_uri": "https://localhost:8080/"
        },
        "outputId": "21bcbd65-f363-48f0-aff4-7b39fd6b253b"
      },
      "source": [
        "V = np.arange(int(K.shape[1]), dtype=\"float32\").reshape((1,K.shape[1],1))\n",
        "\n",
        "print(\"Sequence:\", V.tolist())\n",
        "print(\"Sequence length:\", V.shape[1])\n",
        "print(\"Sequence shape:\", V.shape)"
      ],
      "execution_count": 10,
      "outputs": [
        {
          "output_type": "stream",
          "text": [
            "Sequence: [[[0.0], [1.0], [2.0], [3.0], [4.0]]]\n",
            "Sequence length: 5\n",
            "Sequence shape: (1, 5, 1)\n"
          ],
          "name": "stdout"
        }
      ]
    },
    {
      "cell_type": "markdown",
      "metadata": {
        "id": "_hH_MWBDhKvS"
      },
      "source": [
        "## Performing Self-Attention"
      ]
    },
    {
      "cell_type": "code",
      "metadata": {
        "id": "ldp-YdUEpyh2"
      },
      "source": [
        "# causal attention mask - explained later\n",
        "causal_mask = causal_attention_mask(K.shape[1])\n",
        "# for now we will use no mask (no positions are masked)\n",
        "no_mask = np.zeros_like(causal_mask)"
      ],
      "execution_count": 11,
      "outputs": []
    },
    {
      "cell_type": "code",
      "metadata": {
        "id": "Ikqbf8J0hKIB",
        "colab": {
          "base_uri": "https://localhost:8080/"
        },
        "outputId": "549c99af-da03-41ca-c123-dcd617d6662b"
      },
      "source": [
        "output, attn_w = attention(Q, K, V, no_mask)\n",
        "\n",
        "print(\"Output shape:\", output.shape)\n",
        "print(\"Attention Map shape:\", attn_w.shape)"
      ],
      "execution_count": 12,
      "outputs": [
        {
          "output_type": "stream",
          "text": [
            "Output shape: (1, 5, 1)\n",
            "Attention Map shape: (1, 5, 5)\n"
          ],
          "name": "stdout"
        }
      ]
    },
    {
      "cell_type": "markdown",
      "metadata": {
        "id": "VMlQJzfUjOtx"
      },
      "source": [
        "The shape of `output` is same as the input `V`, while the attention map has shape `(seq_len, seq_len)`."
      ]
    },
    {
      "cell_type": "markdown",
      "metadata": {
        "id": "MqxERduUiSoz"
      },
      "source": [
        "### Interpreting the Attention Map"
      ]
    },
    {
      "cell_type": "markdown",
      "metadata": {
        "id": "wuxHU2hSjnxJ"
      },
      "source": [
        "We can visualize the attention map to inteprete what it is trying to do."
      ]
    },
    {
      "cell_type": "code",
      "metadata": {
        "id": "NoM2fqOghkG_",
        "colab": {
          "base_uri": "https://localhost:8080/",
          "height": 294
        },
        "outputId": "dc487662-51be-4149-b9be-abef1d395c68"
      },
      "source": [
        "plot_weights(attn_w)"
      ],
      "execution_count": 13,
      "outputs": [
        {
          "output_type": "display_data",
          "data": {
            "image/png": "[encoded data removed]",
            "text/plain": [
              "<Figure size 432x288 with 2 Axes>"
            ]
          },
          "metadata": {
            "tags": [],
            "image/png": {
              "width": 362,
              "height": 277
            },
            "needs_background": "light"
          }
        }
      ]
    },
    {
      "cell_type": "code",
      "metadata": {
        "id": "SoQxiFzaqttd",
        "colab": {
          "base_uri": "https://localhost:8080/"
        },
        "outputId": "e6405d21-3858-4e3c-c835-84e910f63d94"
      },
      "source": [
        "print('Q vector is\\n',Q)\n",
        "print('K vector is\\n',K)\n",
        "print('V vector is\\n',V)"
      ],
      "execution_count": 14,
      "outputs": [
        {
          "output_type": "stream",
          "text": [
            "Q vector is\n",
            " tf.Tensor(\n",
            "[[[ 0. 10.  0.]\n",
            "  [ 0. 10.  0.]\n",
            "  [ 0. 10.  0.]\n",
            "  [10.  0.  0.]\n",
            "  [ 0.  0. 10.]]], shape=(1, 5, 3), dtype=float32)\n",
            "K vector is\n",
            " tf.Tensor(\n",
            "[[[10.  0.  0.]\n",
            "  [ 0. 10.  0.]\n",
            "  [ 0.  0. 10.]\n",
            "  [ 0.  0. 10.]\n",
            "  [ 0.  0. 10.]]], shape=(1, 5, 3), dtype=float32)\n",
            "V vector is\n",
            " [[[0.]\n",
            "  [1.]\n",
            "  [2.]\n",
            "  [3.]\n",
            "  [4.]]]\n"
          ],
          "name": "stdout"
        }
      ]
    },
    {
      "cell_type": "markdown",
      "metadata": {
        "id": "i1iia78EjsMo"
      },
      "source": [
        "Moving horizontally across the map (x-axis), we see that positions `0`, `1` and `2` perform queries that attend to position `1`.\n",
        "\n",
        "Looking at our `Q` vector, we see that the `Q` vector at positions `0`, `1`, `2` have the same value of `Q=[0,10,0]`. Comparing with all the possible key values in `K`, we find a direct match in index `1` (`K=[0,10,0]`).\n",
        "\n",
        "Hence, we can see that the attention mechanism behaves conceptually similar to a dictionary lookup or database query, in that it searches for a key that matches the query. In the case of the attention mechanism, the \"quality\" of the match is given by the value of the dot product between `Q` and `V`, also referred to as the attention score. In our toy examples, all our `Q` and `K` vectors are large and octogonal to each other, resulting in either a very strong or a very weak match.\n",
        "\n",
        "Likewise, we can see that:\n",
        "\n",
        "* position `3` (`Q=[10,0,0]`) attends to position `0` (`K=[10,0,0]`)\n",
        "* position `4` (`Q=[0,0,10]`) gives equal attention to positions `2`, `3` and `4` (`K=[0,0,10]`)."
      ]
    },
    {
      "cell_type": "markdown",
      "metadata": {
        "id": "tKHqkiQApDjw"
      },
      "source": [
        "### Interpreting the Outputs"
      ]
    },
    {
      "cell_type": "markdown",
      "metadata": {
        "id": "KTERN2NGYodF"
      },
      "source": [
        "Here, we have the output from the attention mechanism: an array of five values."
      ]
    },
    {
      "cell_type": "code",
      "metadata": {
        "id": "T08S6iDphoEe",
        "colab": {
          "base_uri": "https://localhost:8080/"
        },
        "outputId": "eb1f4017-3307-4b61-a0e3-05776d110fdf"
      },
      "source": [
        "print_outputs(output)"
      ],
      "execution_count": 15,
      "outputs": [
        {
          "output_type": "stream",
          "text": [
            "Output:\n",
            "[[1.]\n",
            " [1.]\n",
            " [1.]\n",
            " [0.]\n",
            " [3.]]\n"
          ],
          "name": "stdout"
        }
      ]
    },
    {
      "cell_type": "markdown",
      "metadata": {
        "id": "2FbIS5u7pFtT"
      },
      "source": [
        "Remember how our `V` vector contains a sequence of values from `0.0` to `4.0`?\n",
        "\n",
        "The output of the self-attention operation shows that:\n",
        "\n",
        "* Positions `0`, `1`, `2` retained information mostly from position `1`\n",
        "* Position `3` retained information mostly from position `0`\n",
        "* Position `4` retained information from a even mix of position `2`, `3`, `4`\n"
      ]
    },
    {
      "cell_type": "markdown",
      "metadata": {
        "id": "AvkjgqpfeGp8"
      },
      "source": [
        "## Causal Masking"
      ]
    },
    {
      "cell_type": "markdown",
      "metadata": {
        "id": "6vAB1YMsrmek"
      },
      "source": [
        "Sometimes, we do not want the attention mechanism to be able to \"look into the future\". An example of this is in the decoder portion of a language model. At each position, we do not want to allow the attention mechanism to look into positions on the right (\"future words\"), but only attend to positions on the left (\"past words\").\n",
        "\n",
        "In order to facilitate this, we introduce the concept of a **causal attention mask**."
      ]
    },
    {
      "cell_type": "code",
      "metadata": {
        "id": "hJek5-X1dx70",
        "colab": {
          "base_uri": "https://localhost:8080/"
        },
        "outputId": "a1b14a40-9f1a-4f2d-aef7-bc080264bfa8"
      },
      "source": [
        "causal_mask = causal_attention_mask(K.shape[1])\n",
        "\n",
        "causal_mask"
      ],
      "execution_count": 16,
      "outputs": [
        {
          "output_type": "execute_result",
          "data": {
            "text/plain": [
              "<tf.Tensor: shape=(5, 5), dtype=float32, numpy=\n",
              "array([[0., 1., 1., 1., 1.],\n",
              "       [0., 0., 1., 1., 1.],\n",
              "       [0., 0., 0., 1., 1.],\n",
              "       [0., 0., 0., 0., 1.],\n",
              "       [0., 0., 0., 0., 0.]], dtype=float32)>"
            ]
          },
          "metadata": {
            "tags": []
          },
          "execution_count": 16
        }
      ]
    },
    {
      "cell_type": "markdown",
      "metadata": {
        "id": "XC6oOEdRZXeL"
      },
      "source": [
        "Now, we will use \"softer\" values for our `Q` and `K` vectors to get a more spread-out attention map.\n",
        "\n",
        "This will allow us to see the masked-out areas of the map more easily."
      ]
    },
    {
      "cell_type": "code",
      "metadata": {
        "id": "731ToBkJtRij"
      },
      "source": [
        "Q = tf.constant([[[0.1,1.0,0.1],\n",
        "                  [0.1,1.0,0.1],\n",
        "                  [0.1,1.0,0.1],\n",
        "                  [1.0,0.1,0.1],\n",
        "                  [0.1,0.1,1.0]]], dtype=tf.float32)\n",
        "\n",
        "K = tf.constant([[[1.0,0.1,0.1],\n",
        "                  [0.1,1.0,0.1],\n",
        "                  [0.1,0.1,1.0],\n",
        "                  [0.1,0.1,1.0],\n",
        "                  [0.1,0.1,1.0]]], dtype=tf.float32)"
      ],
      "execution_count": 17,
      "outputs": []
    },
    {
      "cell_type": "code",
      "metadata": {
        "id": "Q4AShLBotAvU",
        "colab": {
          "base_uri": "https://localhost:8080/",
          "height": 294
        },
        "outputId": "89edc476-3e6d-4810-912d-00c21a0d755a"
      },
      "source": [
        "output, attn_w = attention(Q, K, V, causal_mask)\n",
        "plot_weights(attn_w)"
      ],
      "execution_count": 18,
      "outputs": [
        {
          "output_type": "display_data",
          "data": {
            "image/png": "[encoded data removed]",
            "text/plain": [
              "<Figure size 432x288 with 2 Axes>"
            ]
          },
          "metadata": {
            "tags": [],
            "image/png": {
              "width": 362,
              "height": 277
            },
            "needs_background": "light"
          }
        }
      ]
    },
    {
      "cell_type": "markdown",
      "metadata": {
        "id": "AzKOzG5xuNVi"
      },
      "source": [
        "We observe that in the attention map, position `n` is not allowed to attend to keys at position `>n`. For example, position `2` cannot attend to position `3`. The effect of this can also be seen on the output:"
      ]
    },
    {
      "cell_type": "code",
      "metadata": {
        "id": "RPbwjWCptHPE",
        "colab": {
          "base_uri": "https://localhost:8080/"
        },
        "outputId": "aed68eb7-6449-4910-ff05-f71533594033"
      },
      "source": [
        "print_outputs(output)"
      ],
      "execution_count": 19,
      "outputs": [
        {
          "output_type": "stream",
          "text": [
            "Output:\n",
            "[[0.       ]\n",
            " [0.6921095]\n",
            " [1.       ]\n",
            " [1.1433128]\n",
            " [2.4281611]]\n"
          ],
          "name": "stdout"
        }
      ]
    },
    {
      "cell_type": "markdown",
      "metadata": {
        "id": "2gMVyyfYujw2"
      },
      "source": [
        "We can see that now, position `0` cannot attend to position `1` at all. However, position `1` and `2` are able to.\n",
        "\n",
        "In the same way, position `4` can attend to all the other positions."
      ]
    }
  ]
}