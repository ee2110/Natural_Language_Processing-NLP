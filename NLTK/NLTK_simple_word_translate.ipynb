{
  "nbformat": 4,
  "nbformat_minor": 0,
  "metadata": {
    "colab": {
      "name": "NLTK_simple_word_translate.ipynb",
      "provenance": [],
      "collapsed_sections": [],
      "machine_shape": "hm"
    },
    "kernelspec": {
      "name": "python3",
      "display_name": "Python 3"
    },
    "language_info": {
      "name": "python"
    },
    "accelerator": "GPU"
  },
  "cells": [
    {
      "cell_type": "code",
      "metadata": {
        "id": "dmVaZ38Ld1s3"
      },
      "source": [
        "import nltk"
      ],
      "execution_count": null,
      "outputs": []
    },
    {
      "cell_type": "code",
      "metadata": {
        "colab": {
          "base_uri": "https://localhost:8080/"
        },
        "id": "6QSw_DOlfAFK",
        "outputId": "751fd1de-b2e7-4e51-fd09-f752b34bce8b"
      },
      "source": [
        "from nltk.corpus import swadesh\n",
        "nltk.download('swadesh')"
      ],
      "execution_count": null,
      "outputs": [
        {
          "output_type": "stream",
          "name": "stdout",
          "text": [
            "[nltk_data] Downloading package swadesh to /root/nltk_data...\n",
            "[nltk_data]   Unzipping corpora/swadesh.zip.\n"
          ]
        },
        {
          "output_type": "execute_result",
          "data": {
            "text/plain": [
              "True"
            ]
          },
          "metadata": {},
          "execution_count": 12
        }
      ]
    },
    {
      "cell_type": "code",
      "metadata": {
        "colab": {
          "base_uri": "https://localhost:8080/"
        },
        "id": "65wffcvf293x",
        "outputId": "ec5dec9b-976a-4ce2-ef67-1f685cabf685"
      },
      "source": [
        "swadesh.fileids()"
      ],
      "execution_count": null,
      "outputs": [
        {
          "output_type": "execute_result",
          "data": {
            "text/plain": [
              "['be',\n",
              " 'bg',\n",
              " 'bs',\n",
              " 'ca',\n",
              " 'cs',\n",
              " 'cu',\n",
              " 'de',\n",
              " 'en',\n",
              " 'es',\n",
              " 'fr',\n",
              " 'hr',\n",
              " 'it',\n",
              " 'la',\n",
              " 'mk',\n",
              " 'nl',\n",
              " 'pl',\n",
              " 'pt',\n",
              " 'ro',\n",
              " 'ru',\n",
              " 'sk',\n",
              " 'sl',\n",
              " 'sr',\n",
              " 'sw',\n",
              " 'uk']"
            ]
          },
          "metadata": {},
          "execution_count": 19
        }
      ]
    },
    {
      "cell_type": "code",
      "metadata": {
        "colab": {
          "base_uri": "https://localhost:8080/"
        },
        "id": "55KDFvae3L76",
        "outputId": "95d160be-840c-4e10-8d2a-9c6d9f0edb87"
      },
      "source": [
        "len(swadesh.words('en'))"
      ],
      "execution_count": null,
      "outputs": [
        {
          "output_type": "execute_result",
          "data": {
            "text/plain": [
              "207"
            ]
          },
          "metadata": {},
          "execution_count": 16
        }
      ]
    },
    {
      "cell_type": "code",
      "metadata": {
        "colab": {
          "base_uri": "https://localhost:8080/"
        },
        "id": "LX72Wv813lVZ",
        "outputId": "d3a4b3b7-8142-46ae-90c2-227992f83bf6"
      },
      "source": [
        "len(swadesh.words('fr'))"
      ],
      "execution_count": null,
      "outputs": [
        {
          "output_type": "execute_result",
          "data": {
            "text/plain": [
              "207"
            ]
          },
          "metadata": {},
          "execution_count": 18
        }
      ]
    },
    {
      "cell_type": "code",
      "metadata": {
        "colab": {
          "base_uri": "https://localhost:8080/"
        },
        "id": "MYfOy0S824XC",
        "outputId": "6cf87d8b-1743-4daf-b266-199cf17cd501"
      },
      "source": [
        "fr2en = swadesh.entries(['fr', 'en'])\n",
        "fr2en"
      ],
      "execution_count": null,
      "outputs": [
        {
          "output_type": "execute_result",
          "data": {
            "text/plain": [
              "[('je', 'I'),\n",
              " ('tu, vous', 'you (singular), thou'),\n",
              " ('il', 'he'),\n",
              " ('nous', 'we'),\n",
              " ('vous', 'you (plural)'),\n",
              " ('ils, elles', 'they'),\n",
              " ('ceci', 'this'),\n",
              " ('cela', 'that'),\n",
              " ('ici', 'here'),\n",
              " ('là', 'there'),\n",
              " ('qui', 'who'),\n",
              " ('quoi', 'what'),\n",
              " ('où', 'where'),\n",
              " ('quand', 'when'),\n",
              " ('comment', 'how'),\n",
              " ('ne...pas', 'not'),\n",
              " ('tout', 'all'),\n",
              " ('plusieurs', 'many'),\n",
              " ('quelques', 'some'),\n",
              " ('peu', 'few'),\n",
              " ('autre', 'other'),\n",
              " ('un', 'one'),\n",
              " ('deux', 'two'),\n",
              " ('trois', 'three'),\n",
              " ('quatre', 'four'),\n",
              " ('cinq', 'five'),\n",
              " ('grand', 'big'),\n",
              " ('long', 'long'),\n",
              " ('large', 'wide'),\n",
              " ('épais', 'thick'),\n",
              " ('lourd', 'heavy'),\n",
              " ('petit', 'small'),\n",
              " ('court', 'short'),\n",
              " ('étroit', 'narrow'),\n",
              " ('mince', 'thin'),\n",
              " ('femme', 'woman'),\n",
              " ('homme', 'man (adult male)'),\n",
              " ('homme', 'man (human being)'),\n",
              " ('enfant', 'child'),\n",
              " ('femme, épouse', 'wife'),\n",
              " ('mari, époux', 'husband'),\n",
              " ('mère', 'mother'),\n",
              " ('père', 'father'),\n",
              " ('animal', 'animal'),\n",
              " ('poisson', 'fish'),\n",
              " ('oiseau', 'bird'),\n",
              " ('chien', 'dog'),\n",
              " ('pou', 'louse'),\n",
              " ('serpent', 'snake'),\n",
              " ('ver', 'worm'),\n",
              " ('arbre', 'tree'),\n",
              " ('forêt', 'forest'),\n",
              " ('bâton', 'stick'),\n",
              " ('fruit', 'fruit'),\n",
              " ('graine', 'seed'),\n",
              " ('feuille', 'leaf'),\n",
              " ('racine', 'root'),\n",
              " ('écorce', 'bark (from tree)'),\n",
              " ('fleur', 'flower'),\n",
              " ('herbe', 'grass'),\n",
              " ('corde', 'rope'),\n",
              " ('peau', 'skin'),\n",
              " ('viande', 'meat'),\n",
              " ('sang', 'blood'),\n",
              " ('os', 'bone'),\n",
              " ('graisse', 'fat (noun)'),\n",
              " ('œuf', 'egg'),\n",
              " ('corne', 'horn'),\n",
              " ('queue', 'tail'),\n",
              " ('plume', 'feather'),\n",
              " ('cheveu', 'hair'),\n",
              " ('tête', 'head'),\n",
              " ('oreille', 'ear'),\n",
              " ('œil', 'eye'),\n",
              " ('nez', 'nose'),\n",
              " ('bouche', 'mouth'),\n",
              " ('dent', 'tooth'),\n",
              " ('langue', 'tongue'),\n",
              " ('ongle', 'fingernail'),\n",
              " ('pied', 'foot'),\n",
              " ('jambe', 'leg'),\n",
              " ('genou', 'knee'),\n",
              " ('main', 'hand'),\n",
              " ('aile', 'wing'),\n",
              " ('ventre', 'belly'),\n",
              " ('entrailles', 'guts'),\n",
              " ('cou', 'neck'),\n",
              " ('dos', 'back'),\n",
              " ('sein, poitrine', 'breast'),\n",
              " ('cœur', 'heart'),\n",
              " ('foie', 'liver'),\n",
              " ('boire', 'drink'),\n",
              " ('manger', 'eat'),\n",
              " ('mordre', 'bite'),\n",
              " ('sucer', 'suck'),\n",
              " ('cracher', 'spit'),\n",
              " ('vomir', 'vomit'),\n",
              " ('souffler', 'blow'),\n",
              " ('respirer', 'breathe'),\n",
              " ('rire', 'laugh'),\n",
              " ('voir', 'see'),\n",
              " ('entendre', 'hear'),\n",
              " ('savoir', 'know (a fact)'),\n",
              " ('penser', 'think'),\n",
              " ('sentir', 'smell'),\n",
              " ('craindre, avoir peur', 'fear'),\n",
              " ('dormir', 'sleep'),\n",
              " ('vivre', 'live'),\n",
              " ('mourir', 'die'),\n",
              " ('tuer', 'kill'),\n",
              " ('se battre', 'fight'),\n",
              " ('chasser', 'hunt'),\n",
              " ('frapper', 'hit'),\n",
              " ('couper', 'cut'),\n",
              " ('fendre', 'split'),\n",
              " ('poignarder', 'stab'),\n",
              " ('gratter', 'scratch'),\n",
              " ('creuser', 'dig'),\n",
              " ('nager', 'swim'),\n",
              " ('voler', 'fly (verb)'),\n",
              " ('marcher', 'walk'),\n",
              " ('venir', 'come'),\n",
              " (\"s'étendre\", 'lie'),\n",
              " (\"s'asseoir\", 'sit'),\n",
              " ('se lever', 'stand'),\n",
              " ('tourner', 'turn'),\n",
              " ('tomber', 'fall'),\n",
              " ('donner', 'give'),\n",
              " ('tenir', 'hold'),\n",
              " ('serrer', 'squeeze'),\n",
              " ('frotter', 'rub'),\n",
              " ('laver', 'wash'),\n",
              " ('essuyer', 'wipe'),\n",
              " ('tirer', 'pull'),\n",
              " ('pousser', 'push'),\n",
              " ('jeter', 'throw'),\n",
              " ('lier', 'tie'),\n",
              " ('coudre', 'sew'),\n",
              " ('compter', 'count'),\n",
              " ('dire', 'say'),\n",
              " ('chanter', 'sing'),\n",
              " ('jouer', 'play'),\n",
              " ('flotter', 'float'),\n",
              " ('couler', 'flow'),\n",
              " ('geler', 'freeze'),\n",
              " ('gonfler', 'swell'),\n",
              " ('soleil', 'sun'),\n",
              " ('lune', 'moon'),\n",
              " ('étoile', 'star'),\n",
              " ('eau', 'water'),\n",
              " ('pluie', 'rain'),\n",
              " ('rivière', 'river'),\n",
              " ('lac', 'lake'),\n",
              " ('mer', 'sea'),\n",
              " ('sel', 'salt'),\n",
              " ('pierre', 'stone'),\n",
              " ('sable', 'sand'),\n",
              " ('poussière', 'dust'),\n",
              " ('terre', 'earth'),\n",
              " ('nuage', 'cloud'),\n",
              " ('brouillard', 'fog'),\n",
              " ('ciel', 'sky'),\n",
              " ('vent', 'wind'),\n",
              " ('neige', 'snow'),\n",
              " ('glace', 'ice'),\n",
              " ('fumée', 'smoke'),\n",
              " ('feu', 'fire'),\n",
              " ('cendres', 'ashes'),\n",
              " ('brûler', 'burn'),\n",
              " ('route', 'road'),\n",
              " ('montagne', 'mountain'),\n",
              " ('rouge', 'red'),\n",
              " ('vert', 'green'),\n",
              " ('jaune', 'yellow'),\n",
              " ('blanc', 'white'),\n",
              " ('noir', 'black'),\n",
              " ('nuit', 'night'),\n",
              " ('jour', 'day'),\n",
              " ('an, année', 'year'),\n",
              " ('chaud', 'warm'),\n",
              " ('froid', 'cold'),\n",
              " ('plein', 'full'),\n",
              " ('nouveau', 'new'),\n",
              " ('vieux', 'old'),\n",
              " ('bon', 'good'),\n",
              " ('mauvais', 'bad'),\n",
              " ('pourri', 'rotten'),\n",
              " ('sale', 'dirty'),\n",
              " ('droit', 'straight'),\n",
              " ('rond', 'round'),\n",
              " ('tranchant, pointu, aigu', 'sharp'),\n",
              " ('émoussé', 'dull'),\n",
              " ('lisse', 'smooth'),\n",
              " ('mouillé', 'wet'),\n",
              " ('sec', 'dry'),\n",
              " ('juste, correct', 'correct'),\n",
              " ('proche', 'near'),\n",
              " ('loin', 'far'),\n",
              " ('à droite', 'right'),\n",
              " ('à gauche', 'left'),\n",
              " ('à', 'at'),\n",
              " ('dans', 'in'),\n",
              " ('avec', 'with'),\n",
              " ('et', 'and'),\n",
              " ('si', 'if'),\n",
              " ('parce que', 'because'),\n",
              " ('nom', 'name')]"
            ]
          },
          "metadata": {},
          "execution_count": 15
        }
      ]
    },
    {
      "cell_type": "code",
      "metadata": {
        "colab": {
          "base_uri": "https://localhost:8080/",
          "height": 35
        },
        "id": "djDUj_dYyf2F",
        "outputId": "b7ad3d87-59c5-4716-bbaa-740c974a228b"
      },
      "source": [
        "translate = dict(fr2en)\n",
        "translate['lune']"
      ],
      "execution_count": null,
      "outputs": [
        {
          "output_type": "execute_result",
          "data": {
            "application/vnd.google.colaboratory.intrinsic+json": {
              "type": "string"
            },
            "text/plain": [
              "'moon'"
            ]
          },
          "metadata": {},
          "execution_count": 21
        }
      ]
    },
    {
      "cell_type": "code",
      "metadata": {
        "id": "er5ROg1C3qNn"
      },
      "source": [
        "de2en = swadesh.entries(['de', 'en'])    # German-English\n",
        "es2en = swadesh.entries(['es', 'en'])    # Spanish-English\n",
        "translate.update(dict(de2en))\n",
        "translate.update(dict(es2en))"
      ],
      "execution_count": null,
      "outputs": []
    },
    {
      "cell_type": "code",
      "metadata": {
        "colab": {
          "base_uri": "https://localhost:8080/"
        },
        "id": "OGIEGk0I4CdA",
        "outputId": "c23522c9-591b-4098-8c7d-f522be9743b0"
      },
      "source": [
        "from itertools import islice\n",
        "\n",
        "def take(n, iterable):\n",
        "    return list(islice(iterable, n))\n",
        "\n",
        "take(20, translate.items())"
      ],
      "execution_count": null,
      "outputs": [
        {
          "output_type": "execute_result",
          "data": {
            "text/plain": [
              "[('je', 'I'),\n",
              " ('tu, vous', 'you (singular), thou'),\n",
              " ('il', 'he'),\n",
              " ('nous', 'we'),\n",
              " ('vous', 'you (plural)'),\n",
              " ('ils, elles', 'they'),\n",
              " ('ceci', 'this'),\n",
              " ('cela', 'that'),\n",
              " ('ici', 'here'),\n",
              " ('là', 'there'),\n",
              " ('qui', 'who'),\n",
              " ('quoi', 'what'),\n",
              " ('où', 'where'),\n",
              " ('quand', 'when'),\n",
              " ('comment', 'how'),\n",
              " ('ne...pas', 'not'),\n",
              " ('tout', 'all'),\n",
              " ('plusieurs', 'many'),\n",
              " ('quelques', 'some'),\n",
              " ('peu', 'few')]"
            ]
          },
          "metadata": {},
          "execution_count": 29
        }
      ]
    },
    {
      "cell_type": "code",
      "metadata": {
        "colab": {
          "base_uri": "https://localhost:8080/",
          "height": 35
        },
        "id": "Lapvafqk3__p",
        "outputId": "f3e9199d-9565-4a88-c1dd-f2c13068dbcc"
      },
      "source": [
        "translate['cela'] # french"
      ],
      "execution_count": null,
      "outputs": [
        {
          "output_type": "execute_result",
          "data": {
            "application/vnd.google.colaboratory.intrinsic+json": {
              "type": "string"
            },
            "text/plain": [
              "'that'"
            ]
          },
          "metadata": {},
          "execution_count": 34
        }
      ]
    },
    {
      "cell_type": "code",
      "metadata": {
        "colab": {
          "base_uri": "https://localhost:8080/",
          "height": 35
        },
        "id": "sk63j4j14Fjl",
        "outputId": "d6654010-1874-4898-f541-5d0c9d41fad5"
      },
      "source": [
        "translate['estrella'] # Spanish"
      ],
      "execution_count": null,
      "outputs": [
        {
          "output_type": "execute_result",
          "data": {
            "application/vnd.google.colaboratory.intrinsic+json": {
              "type": "string"
            },
            "text/plain": [
              "'star'"
            ]
          },
          "metadata": {},
          "execution_count": 36
        }
      ]
    },
    {
      "cell_type": "code",
      "metadata": {
        "id": "dy-IbgJe5v-g"
      },
      "source": [
        ""
      ],
      "execution_count": null,
      "outputs": []
    }
  ]
}