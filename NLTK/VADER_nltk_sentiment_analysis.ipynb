{
  "nbformat": 4,
  "nbformat_minor": 0,
  "metadata": {
    "colab": {
      "name": "VADER-sentiment_analysis.ipynb",
      "provenance": [],
      "collapsed_sections": []
    },
    "kernelspec": {
      "name": "python3",
      "display_name": "Python 3"
    },
    "language_info": {
      "name": "python"
    }
  },
  "cells": [
    {
      "cell_type": "markdown",
      "metadata": {
        "id": "6VKFmV4Cb0Am"
      },
      "source": [
        "**VADER** (Valence Aware Dictionary and sEntiment Reasoner) is a lexicon and rule-based sentiment analysis tool"
      ]
    },
    {
      "cell_type": "code",
      "metadata": {
        "colab": {
          "base_uri": "https://localhost:8080/"
        },
        "id": "CrP85EPGbzVm",
        "outputId": "770dd919-c729-4fe1-bcb5-ac7cf58feab0"
      },
      "source": [
        "import pandas as pd\n",
        "import numpy as np\n",
        "import nltk\n",
        "\n",
        "nltk.download('vader_lexicon')\n",
        "from nltk.sentiment.vader import SentimentIntensityAnalyzer"
      ],
      "execution_count": 1,
      "outputs": [
        {
          "output_type": "stream",
          "name": "stdout",
          "text": [
            "[nltk_data] Downloading package vader_lexicon to /root/nltk_data...\n"
          ]
        },
        {
          "output_type": "stream",
          "name": "stderr",
          "text": [
            "/usr/local/lib/python3.7/dist-packages/nltk/twitter/__init__.py:20: UserWarning: The twython library has not been installed. Some functionality from the twitter package will not be available.\n",
            "  warnings.warn(\"The twython library has not been installed. \"\n"
          ]
        }
      ]
    },
    {
      "cell_type": "code",
      "metadata": {
        "colab": {
          "base_uri": "https://localhost:8080/"
        },
        "id": "r17wUezkfDCP",
        "outputId": "5302605c-83c1-421f-9d22-ce4659fa26a9"
      },
      "source": [
        "data = pd.read_csv('combined_data.csv')\n",
        "sentences = data['text'].tolist()\n",
        "labels = data['sentiment'].tolist()\n",
        "for i in range(10): \n",
        "  print(sentences[i], labels[i])"
      ],
      "execution_count": 6,
      "outputs": [
        {
          "output_type": "stream",
          "name": "stdout",
          "text": [
            "So there is no way for me to plug it in here in the US unless I go by a converter. 0\n",
            "Good case Excellent value. 1\n",
            "Great for the jawbone. 1\n",
            "Tied to charger for conversations lasting more than 45 minutes.MAJOR PROBLEMS!! 0\n",
            "The mic is great. 1\n",
            "I have to jiggle the plug to get it to line up right to get decent volume. 0\n",
            "If you have several dozen or several hundred contacts then imagine the fun of sending each of them one by one. 0\n",
            "If you are Razr owner...you must have this! 1\n",
            "Needless to say I wasted my money. 0\n",
            "What a waste of money and time!. 0\n"
          ]
        }
      ]
    },
    {
      "cell_type": "code",
      "metadata": {
        "colab": {
          "base_uri": "https://localhost:8080/"
        },
        "id": "vdxfNP2YgP2l",
        "outputId": "1674814e-0265-4340-c2e3-2f7e73432507"
      },
      "source": [
        "vader_sid = SentimentIntensityAnalyzer()\n",
        "sentiment_dict = vader_sid.polarity_scores(sentences[1])\n",
        "sentiment_dict"
      ],
      "execution_count": 9,
      "outputs": [
        {
          "output_type": "execute_result",
          "data": {
            "text/plain": [
              "{'compound': 0.8402, 'neg': 0.0, 'neu': 0.1, 'pos': 0.9}"
            ]
          },
          "metadata": {},
          "execution_count": 9
        }
      ]
    },
    {
      "cell_type": "markdown",
      "metadata": {
        "id": "1AEa50ADrR2J"
      },
      "source": [
        "The Compound score is a metric that calculates the sum of all the lexicon ratings which have been **normalized between -1(most extreme negative) and +1 (most extreme positive)**.\n",
        "\n",
        "*   positive sentiment : (compound score >= 0.05) \n",
        "*   neutral sentiment : (compound score > -0.05) and (compound score < 0.05) \n",
        "*   negative sentiment : (compound score <= -0.05)"
      ]
    },
    {
      "cell_type": "code",
      "metadata": {
        "id": "mPC70kTmgMOV"
      },
      "source": [
        "def sentiment_polarity(sentence):\n",
        "    vader_sid = SentimentIntensityAnalyzer()\n",
        "    sentiment_dict = vader_sid.polarity_scores(sentence)\n",
        "    if sentiment_dict['compound'] >= 0.05 :\n",
        "        sentiment = \"Positive\"\n",
        "    elif sentiment_dict['compound'] <= - 0.05 :\n",
        "        sentiment = \"Negative\"\n",
        "    else :\n",
        "        sentiment = \"Neutral\"\n",
        "\n",
        "    return sentiment_dict['compound'], sentiment_dict['neg'], sentiment_dict['neu'], sentiment_dict['pos'], sentiment\n",
        "\n",
        "def sentiment_label(sentence):\n",
        "    vader_sid = SentimentIntensityAnalyzer()\n",
        "    sentiment_dict = vader_sid.polarity_scores(sentence)\n",
        "    if sentiment_dict['compound'] >= 0 :\n",
        "        label = 1\n",
        "    elif sentiment_dict['compound'] < 0 :\n",
        "        label = 0\n",
        "    return label"
      ],
      "execution_count": 36,
      "outputs": []
    },
    {
      "cell_type": "code",
      "metadata": {
        "colab": {
          "base_uri": "https://localhost:8080/",
          "height": 419
        },
        "id": "DxAUdHy-fvFM",
        "outputId": "afc14290-fecb-4996-d5ad-0ef37ee7ba54"
      },
      "source": [
        "df_result = pd.DataFrame(\n",
        "    {'text': sentences,\n",
        "     'actual_label': labels\n",
        "    })\n",
        "df_result"
      ],
      "execution_count": 27,
      "outputs": [
        {
          "output_type": "execute_result",
          "data": {
            "text/html": [
              "<div>\n",
              "<style scoped>\n",
              "    .dataframe tbody tr th:only-of-type {\n",
              "        vertical-align: middle;\n",
              "    }\n",
              "\n",
              "    .dataframe tbody tr th {\n",
              "        vertical-align: top;\n",
              "    }\n",
              "\n",
              "    .dataframe thead th {\n",
              "        text-align: right;\n",
              "    }\n",
              "</style>\n",
              "<table border=\"1\" class=\"dataframe\">\n",
              "  <thead>\n",
              "    <tr style=\"text-align: right;\">\n",
              "      <th></th>\n",
              "      <th>text</th>\n",
              "      <th>actual_label</th>\n",
              "    </tr>\n",
              "  </thead>\n",
              "  <tbody>\n",
              "    <tr>\n",
              "      <th>0</th>\n",
              "      <td>So there is no way for me to plug it in here i...</td>\n",
              "      <td>0</td>\n",
              "    </tr>\n",
              "    <tr>\n",
              "      <th>1</th>\n",
              "      <td>Good case Excellent value.</td>\n",
              "      <td>1</td>\n",
              "    </tr>\n",
              "    <tr>\n",
              "      <th>2</th>\n",
              "      <td>Great for the jawbone.</td>\n",
              "      <td>1</td>\n",
              "    </tr>\n",
              "    <tr>\n",
              "      <th>3</th>\n",
              "      <td>Tied to charger for conversations lasting more...</td>\n",
              "      <td>0</td>\n",
              "    </tr>\n",
              "    <tr>\n",
              "      <th>4</th>\n",
              "      <td>The mic is great.</td>\n",
              "      <td>1</td>\n",
              "    </tr>\n",
              "    <tr>\n",
              "      <th>...</th>\n",
              "      <td>...</td>\n",
              "      <td>...</td>\n",
              "    </tr>\n",
              "    <tr>\n",
              "      <th>1987</th>\n",
              "      <td>I think food should have flavor and texture an...</td>\n",
              "      <td>0</td>\n",
              "    </tr>\n",
              "    <tr>\n",
              "      <th>1988</th>\n",
              "      <td>Appetite instantly gone.</td>\n",
              "      <td>0</td>\n",
              "    </tr>\n",
              "    <tr>\n",
              "      <th>1989</th>\n",
              "      <td>Overall I was not impressed and would not go b...</td>\n",
              "      <td>0</td>\n",
              "    </tr>\n",
              "    <tr>\n",
              "      <th>1990</th>\n",
              "      <td>The whole experience was underwhelming and I t...</td>\n",
              "      <td>0</td>\n",
              "    </tr>\n",
              "    <tr>\n",
              "      <th>1991</th>\n",
              "      <td>Then as if I hadn't wasted enough of my life t...</td>\n",
              "      <td>0</td>\n",
              "    </tr>\n",
              "  </tbody>\n",
              "</table>\n",
              "<p>1992 rows × 2 columns</p>\n",
              "</div>"
            ],
            "text/plain": [
              "                                                   text  actual_label\n",
              "0     So there is no way for me to plug it in here i...             0\n",
              "1                            Good case Excellent value.             1\n",
              "2                                Great for the jawbone.             1\n",
              "3     Tied to charger for conversations lasting more...             0\n",
              "4                                     The mic is great.             1\n",
              "...                                                 ...           ...\n",
              "1987  I think food should have flavor and texture an...             0\n",
              "1988                           Appetite instantly gone.             0\n",
              "1989  Overall I was not impressed and would not go b...             0\n",
              "1990  The whole experience was underwhelming and I t...             0\n",
              "1991  Then as if I hadn't wasted enough of my life t...             0\n",
              "\n",
              "[1992 rows x 2 columns]"
            ]
          },
          "metadata": {},
          "execution_count": 27
        }
      ]
    },
    {
      "cell_type": "code",
      "metadata": {
        "colab": {
          "base_uri": "https://localhost:8080/",
          "height": 419
        },
        "id": "R9bC14swJDmp",
        "outputId": "020fd3e1-006e-45b0-916d-0b7347404bd4"
      },
      "source": [
        "df_result['pred_label'] = df_result['text'].apply(lambda t : sentiment_label(t))\n",
        "df_result"
      ],
      "execution_count": 28,
      "outputs": [
        {
          "output_type": "execute_result",
          "data": {
            "text/html": [
              "<div>\n",
              "<style scoped>\n",
              "    .dataframe tbody tr th:only-of-type {\n",
              "        vertical-align: middle;\n",
              "    }\n",
              "\n",
              "    .dataframe tbody tr th {\n",
              "        vertical-align: top;\n",
              "    }\n",
              "\n",
              "    .dataframe thead th {\n",
              "        text-align: right;\n",
              "    }\n",
              "</style>\n",
              "<table border=\"1\" class=\"dataframe\">\n",
              "  <thead>\n",
              "    <tr style=\"text-align: right;\">\n",
              "      <th></th>\n",
              "      <th>text</th>\n",
              "      <th>actual_label</th>\n",
              "      <th>pred_label</th>\n",
              "    </tr>\n",
              "  </thead>\n",
              "  <tbody>\n",
              "    <tr>\n",
              "      <th>0</th>\n",
              "      <td>So there is no way for me to plug it in here i...</td>\n",
              "      <td>0</td>\n",
              "      <td>0</td>\n",
              "    </tr>\n",
              "    <tr>\n",
              "      <th>1</th>\n",
              "      <td>Good case Excellent value.</td>\n",
              "      <td>1</td>\n",
              "      <td>1</td>\n",
              "    </tr>\n",
              "    <tr>\n",
              "      <th>2</th>\n",
              "      <td>Great for the jawbone.</td>\n",
              "      <td>1</td>\n",
              "      <td>1</td>\n",
              "    </tr>\n",
              "    <tr>\n",
              "      <th>3</th>\n",
              "      <td>Tied to charger for conversations lasting more...</td>\n",
              "      <td>0</td>\n",
              "      <td>0</td>\n",
              "    </tr>\n",
              "    <tr>\n",
              "      <th>4</th>\n",
              "      <td>The mic is great.</td>\n",
              "      <td>1</td>\n",
              "      <td>1</td>\n",
              "    </tr>\n",
              "    <tr>\n",
              "      <th>...</th>\n",
              "      <td>...</td>\n",
              "      <td>...</td>\n",
              "      <td>...</td>\n",
              "    </tr>\n",
              "    <tr>\n",
              "      <th>1987</th>\n",
              "      <td>I think food should have flavor and texture an...</td>\n",
              "      <td>0</td>\n",
              "      <td>1</td>\n",
              "    </tr>\n",
              "    <tr>\n",
              "      <th>1988</th>\n",
              "      <td>Appetite instantly gone.</td>\n",
              "      <td>0</td>\n",
              "      <td>1</td>\n",
              "    </tr>\n",
              "    <tr>\n",
              "      <th>1989</th>\n",
              "      <td>Overall I was not impressed and would not go b...</td>\n",
              "      <td>0</td>\n",
              "      <td>0</td>\n",
              "    </tr>\n",
              "    <tr>\n",
              "      <th>1990</th>\n",
              "      <td>The whole experience was underwhelming and I t...</td>\n",
              "      <td>0</td>\n",
              "      <td>1</td>\n",
              "    </tr>\n",
              "    <tr>\n",
              "      <th>1991</th>\n",
              "      <td>Then as if I hadn't wasted enough of my life t...</td>\n",
              "      <td>0</td>\n",
              "      <td>1</td>\n",
              "    </tr>\n",
              "  </tbody>\n",
              "</table>\n",
              "<p>1992 rows × 3 columns</p>\n",
              "</div>"
            ],
            "text/plain": [
              "                                                   text  ...  pred_label\n",
              "0     So there is no way for me to plug it in here i...  ...           0\n",
              "1                            Good case Excellent value.  ...           1\n",
              "2                                Great for the jawbone.  ...           1\n",
              "3     Tied to charger for conversations lasting more...  ...           0\n",
              "4                                     The mic is great.  ...           1\n",
              "...                                                 ...  ...         ...\n",
              "1987  I think food should have flavor and texture an...  ...           1\n",
              "1988                           Appetite instantly gone.  ...           1\n",
              "1989  Overall I was not impressed and would not go b...  ...           0\n",
              "1990  The whole experience was underwhelming and I t...  ...           1\n",
              "1991  Then as if I hadn't wasted enough of my life t...  ...           1\n",
              "\n",
              "[1992 rows x 3 columns]"
            ]
          },
          "metadata": {},
          "execution_count": 28
        }
      ]
    },
    {
      "cell_type": "code",
      "metadata": {
        "colab": {
          "base_uri": "https://localhost:8080/"
        },
        "id": "frgWWurIdi2X",
        "outputId": "e7e7f512-6fd8-402e-9373-2900a8a85b3b"
      },
      "source": [
        "from sklearn.metrics import accuracy_score\n",
        "\n",
        "pred_label = df_result['pred_label'].tolist()\n",
        "actual_label = df_result['actual_label'].tolist()\n",
        "accuracy_score(actual_label, pred_label)"
      ],
      "execution_count": 29,
      "outputs": [
        {
          "output_type": "execute_result",
          "data": {
            "text/plain": [
              "0.7409638554216867"
            ]
          },
          "metadata": {},
          "execution_count": 29
        }
      ]
    },
    {
      "cell_type": "markdown",
      "metadata": {
        "id": "V07yPkU56FaF"
      },
      "source": [
        "The accuracy score of using VADER is approximate **0.74**."
      ]
    },
    {
      "cell_type": "code",
      "metadata": {
        "id": "2yXy8NvCfipN"
      },
      "source": [
        "my_reviews =[\"The new movie is popular and awesome\",\n",
        "             \"The background music is annoying and too loud\",\n",
        "             \"We are very enjoy the movie\",\n",
        "             \"Negative comment in internent is hurt people\",\n",
        "             \"The smile is very sweat and cute!\",\n",
        "             \"The view is so beautiful and attrative\",\n",
        "             ]"
      ],
      "execution_count": 30,
      "outputs": []
    },
    {
      "cell_type": "code",
      "metadata": {
        "colab": {
          "base_uri": "https://localhost:8080/"
        },
        "id": "5pMgo5Ekc8MN",
        "outputId": "26244912-9bb1-496c-d2ef-adb232c9fb9c"
      },
      "source": [
        "sentiment_polarity(my_reviews[0])"
      ],
      "execution_count": 37,
      "outputs": [
        {
          "output_type": "execute_result",
          "data": {
            "text/plain": [
              "(0.7845, 0.0, 0.42, 0.58, 'Positive')"
            ]
          },
          "metadata": {},
          "execution_count": 37
        }
      ]
    },
    {
      "cell_type": "code",
      "metadata": {
        "colab": {
          "base_uri": "https://localhost:8080/"
        },
        "id": "K5WCPDYUBBSi",
        "outputId": "a0207976-2c18-4005-f592-c611623d8516"
      },
      "source": [
        "sentiment_polarity(my_reviews[1])"
      ],
      "execution_count": 38,
      "outputs": [
        {
          "output_type": "execute_result",
          "data": {
            "text/plain": [
              "(-0.4019, 0.278, 0.722, 0.0, 'Negative')"
            ]
          },
          "metadata": {},
          "execution_count": 38
        }
      ]
    },
    {
      "cell_type": "code",
      "metadata": {
        "colab": {
          "base_uri": "https://localhost:8080/"
        },
        "id": "Z94C8L6jBEDD",
        "outputId": "885d0019-b944-4cf9-90c8-2e44f08e90e9"
      },
      "source": [
        "sentiment_polarity(my_reviews[5])"
      ],
      "execution_count": 39,
      "outputs": [
        {
          "output_type": "execute_result",
          "data": {
            "text/plain": [
              "(0.7177, 0.0, 0.546, 0.454, 'Positive')"
            ]
          },
          "metadata": {},
          "execution_count": 39
        }
      ]
    },
    {
      "cell_type": "code",
      "metadata": {
        "id": "ZMd0tPCQBgn3"
      },
      "source": [
        ""
      ],
      "execution_count": null,
      "outputs": []
    }
  ]
}