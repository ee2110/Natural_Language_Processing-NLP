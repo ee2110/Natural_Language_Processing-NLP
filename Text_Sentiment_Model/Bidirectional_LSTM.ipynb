{
  "nbformat": 4,
  "nbformat_minor": 0,
  "metadata": {
    "colab": {
      "name": "Bidirectional_LSTM.ipynb",
      "provenance": []
    },
    "kernelspec": {
      "name": "python3",
      "display_name": "Python 3"
    },
    "accelerator": "GPU"
  },
  "cells": [
    {
      "cell_type": "code",
      "metadata": {
        "id": "DsqVjbK3PtiD",
        "colab_type": "code",
        "colab": {}
      },
      "source": [
        "import tensorflow as tf\n",
        "import pandas as pd\n",
        "import numpy as np\n",
        "import matplotlib.pyplot as plt\n",
        "\n",
        "from tensorflow.keras.preprocessing.sequence import pad_sequences\n",
        "import tensorflow_datasets as tfds"
      ],
      "execution_count": 1,
      "outputs": []
    },
    {
      "cell_type": "markdown",
      "metadata": {
        "id": "JakMgZ1qEOaR",
        "colab_type": "text"
      },
      "source": [
        "# **Preprocess the data**\n",
        "\n",
        "1. Create subword data and tokernize\n",
        "2. Replace sentence data with encoded subwords\n",
        "3. Pad the sequences"
      ]
    },
    {
      "cell_type": "code",
      "metadata": {
        "id": "eYzEInd-Dy8k",
        "colab_type": "code",
        "colab": {}
      },
      "source": [
        "data = pd.read_csv('combined_data.csv')\n",
        "sentences = data['text'].tolist()\n",
        "labels = data['sentiment'].tolist()"
      ],
      "execution_count": 3,
      "outputs": []
    },
    {
      "cell_type": "code",
      "metadata": {
        "id": "8qYITFHZEI2r",
        "colab_type": "code",
        "colab": {
          "base_uri": "https://localhost:8080/",
          "height": 357
        },
        "outputId": "b904ba3d-48d8-49ad-e5ca-0fb9bb435bbc"
      },
      "source": [
        "# Print some example sentences and labels\n",
        "for x in range(5):\n",
        "  print(sentences[x])\n",
        "  print(labels[x])\n",
        "  print(\"\\n\")"
      ],
      "execution_count": 5,
      "outputs": [
        {
          "output_type": "stream",
          "text": [
            "So there is no way for me to plug it in here in the US unless I go by a converter.\n",
            "0\n",
            "\n",
            "\n",
            "Good case Excellent value.\n",
            "1\n",
            "\n",
            "\n",
            "Great for the jawbone.\n",
            "1\n",
            "\n",
            "\n",
            "Tied to charger for conversations lasting more than 45 minutes.MAJOR PROBLEMS!!\n",
            "0\n",
            "\n",
            "\n",
            "The mic is great.\n",
            "1\n",
            "\n",
            "\n"
          ],
          "name": "stdout"
        }
      ]
    },
    {
      "cell_type": "code",
      "metadata": {
        "id": "reya-uk6EssJ",
        "colab_type": "code",
        "colab": {
          "base_uri": "https://localhost:8080/",
          "height": 34
        },
        "outputId": "46b24f0c-9ee2-4004-f3a2-db842f65633d"
      },
      "source": [
        "vocab_size = 1000\n",
        "tokenizer = tfds.features.text.SubwordTextEncoder.build_from_corpus(sentences, vocab_size, max_subword_length=5)\n",
        "print(\"Vocab size is \", tokenizer.vocab_size)"
      ],
      "execution_count": 6,
      "outputs": [
        {
          "output_type": "stream",
          "text": [
            "Vocab size is  999\n"
          ],
          "name": "stdout"
        }
      ]
    },
    {
      "cell_type": "code",
      "metadata": {
        "id": "bgCXULwyFDyj",
        "colab_type": "code",
        "colab": {
          "base_uri": "https://localhost:8080/",
          "height": 88
        },
        "outputId": "df622a4e-82c1-455a-8697-8df5878af6f6"
      },
      "source": [
        "print(sentences[6])\n",
        "encoded = tokenizer.encode(sentences[6])\n",
        "print(encoded)\n",
        "print(\"Length is: \", len(encoded))"
      ],
      "execution_count": 9,
      "outputs": [
        {
          "output_type": "stream",
          "text": [
            "If you have several dozen or several hundred contacts then imagine the fun of sending each of them one by one.\n",
            "[364, 39, 31, 69, 500, 775, 197, 293, 38, 117, 69, 500, 775, 399, 123, 475, 775, 79, 62, 86, 3, 506, 241, 683, 557, 775, 1, 429, 38, 15, 69, 123, 26, 210, 232, 15, 507, 80, 361, 478, 789]\n",
            "Length is:  41\n"
          ],
          "name": "stdout"
        }
      ]
    },
    {
      "cell_type": "code",
      "metadata": {
        "id": "VmDOhkm5FL6G",
        "colab_type": "code",
        "colab": {
          "base_uri": "https://localhost:8080/",
          "height": 714
        },
        "outputId": "d204cfeb-cc18-4fa2-c51f-8c6b8d84eb8f"
      },
      "source": [
        "# Separately print out each subword, decoded\n",
        "for i in encoded:\n",
        "  print(tokenizer.decode([i]))"
      ],
      "execution_count": 10,
      "outputs": [
        {
          "output_type": "stream",
          "text": [
            "If \n",
            "you \n",
            "have \n",
            "se\n",
            "veral\n",
            " \n",
            "do\n",
            "ze\n",
            "n \n",
            "or \n",
            "se\n",
            "veral\n",
            " \n",
            "hu\n",
            "nd\n",
            "red\n",
            " \n",
            "con\n",
            "ta\n",
            "ct\n",
            "s \n",
            "then \n",
            "im\n",
            "ag\n",
            "ine\n",
            " \n",
            "the \n",
            "fu\n",
            "n \n",
            "of \n",
            "se\n",
            "nd\n",
            "ing \n",
            "ea\n",
            "ch \n",
            "of \n",
            "them \n",
            "one \n",
            "by \n",
            "one\n",
            ".\n"
          ],
          "name": "stdout"
        }
      ]
    },
    {
      "cell_type": "code",
      "metadata": {
        "id": "3FfhB2cKFwZI",
        "colab_type": "code",
        "colab": {}
      },
      "source": [
        "# Replace sentence data with subword which equivalent to text_to_sequences with the Tokenizer\n",
        "for i, sentence in enumerate(sentences):\n",
        "  sentences[i] = tokenizer.encode(sentence)"
      ],
      "execution_count": 11,
      "outputs": []
    },
    {
      "cell_type": "code",
      "metadata": {
        "id": "1omScKpwF2FA",
        "colab_type": "code",
        "colab": {
          "base_uri": "https://localhost:8080/",
          "height": 34
        },
        "outputId": "7c15773f-2bcb-4e93-959d-10c9402e47df"
      },
      "source": [
        "print(sentences[0])"
      ],
      "execution_count": 13,
      "outputs": [
        {
          "output_type": "stream",
          "text": [
            "[736, 168, 775, 7, 193, 417, 17, 94, 6, 600, 438, 775, 14, 19, 141, 19, 1, 828, 826, 775, 99, 445, 4, 174, 361, 5, 79, 227, 139, 789]\n"
          ],
          "name": "stdout"
        }
      ]
    },
    {
      "cell_type": "code",
      "metadata": {
        "id": "JZ9hKhVFGLcx",
        "colab_type": "code",
        "colab": {}
      },
      "source": [
        "max_length = 50\n",
        "trunc_type='post'\n",
        "padding_type='post'\n",
        "\n",
        "# Pad all sequences\n",
        "sequences_padded = pad_sequences(sentences, maxlen=max_length, \n",
        "                                 padding=padding_type, truncating=trunc_type)\n",
        "\n",
        "# Separate out the sentences and labels into training and test sets\n",
        "training_size = int(len(sentences) * 0.8)\n",
        "\n",
        "training_sequences = sequences_padded[0:training_size]\n",
        "testing_sequences = sequences_padded[training_size:]\n",
        "training_labels = labels[0:training_size]\n",
        "testing_labels = labels[training_size:]\n",
        "\n",
        "# Make labels into numpy arrays for use with the network later\n",
        "training_labels_final = np.array(training_labels)\n",
        "testing_labels_final = np.array(testing_labels)"
      ],
      "execution_count": 14,
      "outputs": []
    },
    {
      "cell_type": "code",
      "metadata": {
        "id": "Vfv7RD3QGe5m",
        "colab_type": "code",
        "colab": {
          "base_uri": "https://localhost:8080/",
          "height": 289
        },
        "outputId": "f8586ecd-0893-4b73-9ed2-305d20f35f1e"
      },
      "source": [
        "embedding_dim = 16\n",
        "\n",
        "model = tf.keras.Sequential([\n",
        "    # the input dimension is the vocab size 1000, embedding dimension is the output size\n",
        "    tf.keras.layers.Embedding(vocab_size, embedding_dim, input_length=max_length),\n",
        "    tf.keras.layers.GlobalAveragePooling1D(), \n",
        "    tf.keras.layers.Dense(6, activation='relu'),\n",
        "    tf.keras.layers.Dense(1, activation='sigmoid')\n",
        "])\n",
        "\n",
        "model.summary()"
      ],
      "execution_count": 15,
      "outputs": [
        {
          "output_type": "stream",
          "text": [
            "Model: \"sequential\"\n",
            "_________________________________________________________________\n",
            "Layer (type)                 Output Shape              Param #   \n",
            "=================================================================\n",
            "embedding (Embedding)        (None, 50, 16)            16000     \n",
            "_________________________________________________________________\n",
            "global_average_pooling1d (Gl (None, 16)                0         \n",
            "_________________________________________________________________\n",
            "dense (Dense)                (None, 6)                 102       \n",
            "_________________________________________________________________\n",
            "dense_1 (Dense)              (None, 1)                 7         \n",
            "=================================================================\n",
            "Total params: 16,109\n",
            "Trainable params: 16,109\n",
            "Non-trainable params: 0\n",
            "_________________________________________________________________\n"
          ],
          "name": "stdout"
        }
      ]
    },
    {
      "cell_type": "code",
      "metadata": {
        "id": "ktK3j0lSG_iH",
        "colab_type": "code",
        "colab": {
          "base_uri": "https://localhost:8080/",
          "height": 1000
        },
        "outputId": "072dfb90-1a70-4c79-c42f-305d65a5c5e8"
      },
      "source": [
        "num_epochs = 50\n",
        "model.compile(loss='binary_crossentropy',optimizer='adam',metrics=['accuracy'])\n",
        "history = model.fit(training_sequences, training_labels_final, epochs=num_epochs, validation_data=(testing_sequences, testing_labels_final))"
      ],
      "execution_count": 22,
      "outputs": [
        {
          "output_type": "stream",
          "text": [
            "Epoch 1/50\n",
            "50/50 [==============================] - 0s 5ms/step - loss: 0.1060 - accuracy: 0.9768 - val_loss: 0.7929 - val_accuracy: 0.7544\n",
            "Epoch 2/50\n",
            "50/50 [==============================] - 0s 4ms/step - loss: 0.1015 - accuracy: 0.9768 - val_loss: 0.7868 - val_accuracy: 0.7594\n",
            "Epoch 3/50\n",
            "50/50 [==============================] - 0s 4ms/step - loss: 0.0987 - accuracy: 0.9749 - val_loss: 0.8155 - val_accuracy: 0.7594\n",
            "Epoch 4/50\n",
            "50/50 [==============================] - 0s 3ms/step - loss: 0.0948 - accuracy: 0.9787 - val_loss: 0.8483 - val_accuracy: 0.7544\n",
            "Epoch 5/50\n",
            "50/50 [==============================] - 0s 3ms/step - loss: 0.0917 - accuracy: 0.9793 - val_loss: 0.8383 - val_accuracy: 0.7544\n",
            "Epoch 6/50\n",
            "50/50 [==============================] - 0s 4ms/step - loss: 0.0895 - accuracy: 0.9799 - val_loss: 0.8575 - val_accuracy: 0.7544\n",
            "Epoch 7/50\n",
            "50/50 [==============================] - 0s 4ms/step - loss: 0.0863 - accuracy: 0.9793 - val_loss: 0.8764 - val_accuracy: 0.7519\n",
            "Epoch 8/50\n",
            "50/50 [==============================] - 0s 3ms/step - loss: 0.0869 - accuracy: 0.9793 - val_loss: 0.9062 - val_accuracy: 0.7544\n",
            "Epoch 9/50\n",
            "50/50 [==============================] - 0s 3ms/step - loss: 0.0802 - accuracy: 0.9812 - val_loss: 0.9219 - val_accuracy: 0.7469\n",
            "Epoch 10/50\n",
            "50/50 [==============================] - 0s 3ms/step - loss: 0.0784 - accuracy: 0.9824 - val_loss: 0.9327 - val_accuracy: 0.7494\n",
            "Epoch 11/50\n",
            "50/50 [==============================] - 0s 3ms/step - loss: 0.0764 - accuracy: 0.9856 - val_loss: 0.9507 - val_accuracy: 0.7494\n",
            "Epoch 12/50\n",
            "50/50 [==============================] - 0s 4ms/step - loss: 0.0743 - accuracy: 0.9812 - val_loss: 0.9657 - val_accuracy: 0.7494\n",
            "Epoch 13/50\n",
            "50/50 [==============================] - 0s 3ms/step - loss: 0.0711 - accuracy: 0.9862 - val_loss: 0.9601 - val_accuracy: 0.7544\n",
            "Epoch 14/50\n",
            "50/50 [==============================] - 0s 3ms/step - loss: 0.0700 - accuracy: 0.9862 - val_loss: 0.9822 - val_accuracy: 0.7494\n",
            "Epoch 15/50\n",
            "50/50 [==============================] - 0s 3ms/step - loss: 0.0673 - accuracy: 0.9837 - val_loss: 1.0347 - val_accuracy: 0.7444\n",
            "Epoch 16/50\n",
            "50/50 [==============================] - 0s 4ms/step - loss: 0.0637 - accuracy: 0.9856 - val_loss: 0.9980 - val_accuracy: 0.7569\n",
            "Epoch 17/50\n",
            "50/50 [==============================] - 0s 4ms/step - loss: 0.0627 - accuracy: 0.9887 - val_loss: 1.0329 - val_accuracy: 0.7544\n",
            "Epoch 18/50\n",
            "50/50 [==============================] - 0s 4ms/step - loss: 0.0600 - accuracy: 0.9900 - val_loss: 1.0311 - val_accuracy: 0.7519\n",
            "Epoch 19/50\n",
            "50/50 [==============================] - 0s 4ms/step - loss: 0.0580 - accuracy: 0.9881 - val_loss: 1.0467 - val_accuracy: 0.7544\n",
            "Epoch 20/50\n",
            "50/50 [==============================] - 0s 3ms/step - loss: 0.0569 - accuracy: 0.9874 - val_loss: 1.0748 - val_accuracy: 0.7519\n",
            "Epoch 21/50\n",
            "50/50 [==============================] - 0s 3ms/step - loss: 0.0546 - accuracy: 0.9881 - val_loss: 1.0749 - val_accuracy: 0.7544\n",
            "Epoch 22/50\n",
            "50/50 [==============================] - 0s 4ms/step - loss: 0.0525 - accuracy: 0.9918 - val_loss: 1.1273 - val_accuracy: 0.7519\n",
            "Epoch 23/50\n",
            "50/50 [==============================] - 0s 4ms/step - loss: 0.0499 - accuracy: 0.9900 - val_loss: 1.1621 - val_accuracy: 0.7519\n",
            "Epoch 24/50\n",
            "50/50 [==============================] - 0s 3ms/step - loss: 0.0484 - accuracy: 0.9906 - val_loss: 1.1585 - val_accuracy: 0.7519\n",
            "Epoch 25/50\n",
            "50/50 [==============================] - 0s 3ms/step - loss: 0.0470 - accuracy: 0.9912 - val_loss: 1.1416 - val_accuracy: 0.7494\n",
            "Epoch 26/50\n",
            "50/50 [==============================] - 0s 3ms/step - loss: 0.0447 - accuracy: 0.9918 - val_loss: 1.1745 - val_accuracy: 0.7494\n",
            "Epoch 27/50\n",
            "50/50 [==============================] - 0s 4ms/step - loss: 0.0433 - accuracy: 0.9925 - val_loss: 1.2004 - val_accuracy: 0.7494\n",
            "Epoch 28/50\n",
            "50/50 [==============================] - 0s 4ms/step - loss: 0.0422 - accuracy: 0.9912 - val_loss: 1.2122 - val_accuracy: 0.7519\n",
            "Epoch 29/50\n",
            "50/50 [==============================] - 0s 4ms/step - loss: 0.0401 - accuracy: 0.9925 - val_loss: 1.2462 - val_accuracy: 0.7494\n",
            "Epoch 30/50\n",
            "50/50 [==============================] - 0s 4ms/step - loss: 0.0395 - accuracy: 0.9931 - val_loss: 1.2729 - val_accuracy: 0.7494\n",
            "Epoch 31/50\n",
            "50/50 [==============================] - 0s 3ms/step - loss: 0.0373 - accuracy: 0.9944 - val_loss: 1.2821 - val_accuracy: 0.7444\n",
            "Epoch 32/50\n",
            "50/50 [==============================] - 0s 3ms/step - loss: 0.0360 - accuracy: 0.9937 - val_loss: 1.3267 - val_accuracy: 0.7494\n",
            "Epoch 33/50\n",
            "50/50 [==============================] - 0s 4ms/step - loss: 0.0363 - accuracy: 0.9918 - val_loss: 1.3099 - val_accuracy: 0.7469\n",
            "Epoch 34/50\n",
            "50/50 [==============================] - 0s 4ms/step - loss: 0.0324 - accuracy: 0.9937 - val_loss: 1.3683 - val_accuracy: 0.7519\n",
            "Epoch 35/50\n",
            "50/50 [==============================] - 0s 3ms/step - loss: 0.0311 - accuracy: 0.9956 - val_loss: 1.3731 - val_accuracy: 0.7519\n",
            "Epoch 36/50\n",
            "50/50 [==============================] - 0s 3ms/step - loss: 0.0290 - accuracy: 0.9969 - val_loss: 1.3568 - val_accuracy: 0.7469\n",
            "Epoch 37/50\n",
            "50/50 [==============================] - 0s 3ms/step - loss: 0.0278 - accuracy: 0.9956 - val_loss: 1.3540 - val_accuracy: 0.7469\n",
            "Epoch 38/50\n",
            "50/50 [==============================] - 0s 3ms/step - loss: 0.0269 - accuracy: 0.9956 - val_loss: 1.4234 - val_accuracy: 0.7469\n",
            "Epoch 39/50\n",
            "50/50 [==============================] - 0s 4ms/step - loss: 0.0254 - accuracy: 0.9969 - val_loss: 1.4406 - val_accuracy: 0.7469\n",
            "Epoch 40/50\n",
            "50/50 [==============================] - 0s 4ms/step - loss: 0.0252 - accuracy: 0.9962 - val_loss: 1.4654 - val_accuracy: 0.7444\n",
            "Epoch 41/50\n",
            "50/50 [==============================] - 0s 4ms/step - loss: 0.0241 - accuracy: 0.9975 - val_loss: 1.4829 - val_accuracy: 0.7469\n",
            "Epoch 42/50\n",
            "50/50 [==============================] - 0s 3ms/step - loss: 0.0230 - accuracy: 0.9975 - val_loss: 1.4720 - val_accuracy: 0.7419\n",
            "Epoch 43/50\n",
            "50/50 [==============================] - 0s 3ms/step - loss: 0.0222 - accuracy: 0.9969 - val_loss: 1.4955 - val_accuracy: 0.7419\n",
            "Epoch 44/50\n",
            "50/50 [==============================] - 0s 4ms/step - loss: 0.0208 - accuracy: 0.9969 - val_loss: 1.5088 - val_accuracy: 0.7419\n",
            "Epoch 45/50\n",
            "50/50 [==============================] - 0s 4ms/step - loss: 0.0201 - accuracy: 0.9975 - val_loss: 1.5254 - val_accuracy: 0.7368\n",
            "Epoch 46/50\n",
            "50/50 [==============================] - 0s 3ms/step - loss: 0.0190 - accuracy: 0.9987 - val_loss: 1.5646 - val_accuracy: 0.7368\n",
            "Epoch 47/50\n",
            "50/50 [==============================] - 0s 3ms/step - loss: 0.0181 - accuracy: 0.9981 - val_loss: 1.5811 - val_accuracy: 0.7343\n",
            "Epoch 48/50\n",
            "50/50 [==============================] - 0s 3ms/step - loss: 0.0174 - accuracy: 0.9981 - val_loss: 1.6067 - val_accuracy: 0.7343\n",
            "Epoch 49/50\n",
            "50/50 [==============================] - 0s 3ms/step - loss: 0.0169 - accuracy: 0.9987 - val_loss: 1.6300 - val_accuracy: 0.7393\n",
            "Epoch 50/50\n",
            "50/50 [==============================] - 0s 4ms/step - loss: 0.0159 - accuracy: 0.9987 - val_loss: 1.6804 - val_accuracy: 0.7419\n"
          ],
          "name": "stdout"
        }
      ]
    },
    {
      "cell_type": "code",
      "metadata": {
        "id": "dO9wZFNnHP4Z",
        "colab_type": "code",
        "colab": {
          "base_uri": "https://localhost:8080/",
          "height": 544
        },
        "outputId": "353a9266-7278-4743-d6d7-4f4e923cb7ba"
      },
      "source": [
        "def plot_graphs(history, string):\n",
        "  plt.plot(history.history[string])\n",
        "  plt.plot(history.history['val_'+string])\n",
        "  plt.xlabel(\"Epochs\")\n",
        "  plt.ylabel(string)\n",
        "  plt.legend([string, 'val_'+string])\n",
        "  plt.show()\n",
        "  \n",
        "plot_graphs(history, \"accuracy\")\n",
        "plot_graphs(history, \"loss\")"
      ],
      "execution_count": 23,
      "outputs": [
        {
          "output_type": "display_data",
          "data": {
            "image/png": "[encoded data removed]",
            "text/plain": [
              "<Figure size 432x288 with 1 Axes>"
            ]
          },
          "metadata": {
            "tags": [],
            "needs_background": "light"
          }
        },
        {
          "output_type": "display_data",
          "data": {
            "image/png": "[encoded data removed]",
            "text/plain": [
              "<Figure size 432x288 with 1 Axes>"
            ]
          },
          "metadata": {
            "tags": [],
            "needs_background": "light"
          }
        }
      ]
    },
    {
      "cell_type": "markdown",
      "metadata": {
        "id": "70quL4_qSvBe",
        "colab_type": "text"
      },
      "source": [
        "Seem like overfitting, thus, we can add bias to reduce overfitting."
      ]
    },
    {
      "cell_type": "markdown",
      "metadata": {
        "id": "QxO5FJsEHXsl",
        "colab_type": "text"
      },
      "source": [
        "# **Predict the sentiment of reviews**"
      ]
    },
    {
      "cell_type": "code",
      "metadata": {
        "id": "E6nsDgjVHSMz",
        "colab_type": "code",
        "colab": {}
      },
      "source": [
        "def predict_review(model, new_sentences, maxlen=max_length, show_padded_sequence=True ):\n",
        "  # Keep the original sentences so that we can keep using them later\n",
        "  # Create an array to hold the encoded sequences\n",
        "  new_sequences = []\n",
        "\n",
        "  # Convert the new reviews to sequences\n",
        "  for i, frvw in enumerate(new_sentences):\n",
        "    new_sequences.append(tokenizer.encode(frvw))\n",
        "\n",
        "  trunc_type='post' \n",
        "  padding_type='post'\n",
        "\n",
        "  # Pad all sequences for the new reviews\n",
        "  new_reviews_padded = pad_sequences(new_sequences, maxlen=max_length, \n",
        "                                 padding=padding_type, truncating=trunc_type)             \n",
        "\n",
        "  classes = model.predict(new_reviews_padded)\n",
        "\n",
        "  # The closer the class is to 1, the more positive the review is\n",
        "  for x in range(len(new_sentences)):\n",
        "    \n",
        "    # We can see the padded sequence if desired\n",
        "    # Print the sequence\n",
        "    if (show_padded_sequence):\n",
        "      print(new_reviews_padded[x])\n",
        "    # Print the review as text\n",
        "    print(new_sentences[x])\n",
        "    # Print its predicted class\n",
        "    print(classes[x])\n",
        "    print(\"\\n\")"
      ],
      "execution_count": 24,
      "outputs": []
    },
    {
      "cell_type": "code",
      "metadata": {
        "id": "qxBwXqVKLd_i",
        "colab_type": "code",
        "colab": {}
      },
      "source": [
        "# some revies for test the model prediction\n",
        "test_reviews = [\"I like pure chocolate\", \n",
        "                \"The restaurant is full of smoke\",\n",
        "                \"The cheese is smelly\", \n",
        "                \"The weather is so hot and causing children sweat\", \n",
        "                \"The milk taste is bad\",\n",
        "                \"He do not cook in working day\", \n",
        "                \"we couldn't hear each other talk because of the shouting in the kitchen\"\n",
        "              ]"
      ],
      "execution_count": 25,
      "outputs": []
    },
    {
      "cell_type": "code",
      "metadata": {
        "id": "P76NAV1cReRm",
        "colab_type": "code",
        "colab": {
          "base_uri": "https://localhost:8080/",
          "height": 850
        },
        "outputId": "7d2a9654-cccd-4348-e420-805adb020ff7"
      },
      "source": [
        "predict_review(model, test_reviews)"
      ],
      "execution_count": 26,
      "outputs": [
        {
          "output_type": "stream",
          "text": [
            "[  4  65 336 229 569 547 147 319   0   0   0   0   0   0   0   0   0   0\n",
            "   0   0   0   0   0   0   0   0   0   0   0   0   0   0   0   0   0   0\n",
            "   0   0   0   0   0   0   0   0   0   0   0   0   0   0]\n",
            "I like pure chocolate\n",
            "[0.03630694]\n",
            "\n",
            "\n",
            "[ 13 329 347 775   7 357  37  15 309 443 844   0   0   0   0   0   0   0\n",
            "   0   0   0   0   0   0   0   0   0   0   0   0   0   0   0   0   0   0\n",
            "   0   0   0   0   0   0   0   0   0   0   0   0   0   0]\n",
            "The restaurant is full of smoke\n",
            "[0.42346954]\n",
            "\n",
            "\n",
            "[ 13 124  60  12   7 309 133 298   0   0   0   0   0   0   0   0   0   0\n",
            "   0   0   0   0   0   0   0   0   0   0   0   0   0   0   0   0   0   0\n",
            "   0   0   0   0   0   0   0   0   0   0   0   0   0   0]\n",
            "The cheese is smelly\n",
            "[0.00386051]\n",
            "\n",
            "\n",
            "[ 13  93 106 315   7  42 109   8   2 125 265  26 287 851 244 454 858  93\n",
            " 106   0   0   0   0   0   0   0   0   0   0   0   0   0   0   0   0   0\n",
            "   0   0   0   0   0   0   0   0   0   0   0   0   0   0]\n",
            "The weather is so hot and causing children sweat\n",
            "[0.00197804]\n",
            "\n",
            "\n",
            "[ 13 553  67 391 775   7 103 843   0   0   0   0   0   0   0   0   0   0\n",
            "   0   0   0   0   0   0   0   0   0   0   0   0   0   0   0   0   0   0\n",
            "   0   0   0   0   0   0   0   0   0   0   0   0   0   0]\n",
            "The milk taste is bad\n",
            "[0.99478346]\n",
            "\n",
            "\n",
            "[815  12 522  18 407  67  19 498  26 406   0   0   0   0   0   0   0   0\n",
            "   0   0   0   0   0   0   0   0   0   0   0   0   0   0   0   0   0   0\n",
            "   0   0   0   0   0   0   0   0   0   0   0   0   0   0]\n",
            "He do not cook in working day\n",
            "[0.0049059]\n",
            "\n",
            "\n",
            "[158 190 853 782   8 607 775 210 232 146 775 470  67 305 101  15   1 328\n",
            " 296  26  19   1 661 641 195   0   0   0   0   0   0   0   0   0   0   0\n",
            "   0   0   0   0   0   0   0   0   0   0   0   0   0   0]\n",
            "we couldn't hear each other talk because of the shouting in the kitchen\n",
            "[0.00184815]\n",
            "\n",
            "\n"
          ],
          "name": "stdout"
        }
      ]
    },
    {
      "cell_type": "code",
      "metadata": {
        "id": "2_GTNWSZRhU3",
        "colab_type": "code",
        "colab": {}
      },
      "source": [
        "def fit_model_now (model, sentences) :\n",
        "  model.compile(loss='binary_crossentropy',optimizer='adam',metrics=['accuracy'])\n",
        "  model.summary()\n",
        "  history = model.fit(training_sequences, training_labels_final, epochs=num_epochs, \n",
        "                      validation_data=(testing_sequences, testing_labels_final))\n",
        "  return history\n",
        "\n",
        "def plot_results (history):\n",
        "  plot_graphs(history, \"accuracy\")\n",
        "  plot_graphs(history, \"loss\")\n",
        "\n",
        "def fit_model_and_show_results (model, sentences):\n",
        "  history = fit_model_now(model, sentences)\n",
        "  plot_results(history)\n",
        "  predict_review(model, sentences)"
      ],
      "execution_count": 27,
      "outputs": []
    },
    {
      "cell_type": "markdown",
      "metadata": {
        "id": "4KbQxpbATbqI",
        "colab_type": "text"
      },
      "source": [
        "# **Add a regulization**"
      ]
    },
    {
      "cell_type": "code",
      "metadata": {
        "id": "RN7JiPwrTY_b",
        "colab_type": "code",
        "colab": {
          "base_uri": "https://localhost:8080/",
          "height": 1000
        },
        "outputId": "72e32a3b-c1c5-42ab-9e6a-d0ce0b38dfab"
      },
      "source": [
        "regularized_model = tf.keras.Sequential([\n",
        "    tf.keras.layers.Embedding(vocab_size, embedding_dim, input_length=max_length),\n",
        "    tf.keras.layers.GlobalAveragePooling1D(), \n",
        "    tf.keras.layers.Dense(6, activation='relu', use_bias=True),\n",
        "    tf.keras.layers.Dense(1, activation='sigmoid')\n",
        "])\n",
        "\n",
        "# Compile and train the model and then show the predictions for our extra sentences\n",
        "fit_model_and_show_results(regularized_model, test_reviews)"
      ],
      "execution_count": 29,
      "outputs": [
        {
          "output_type": "stream",
          "text": [
            "Model: \"sequential_2\"\n",
            "_________________________________________________________________\n",
            "Layer (type)                 Output Shape              Param #   \n",
            "=================================================================\n",
            "embedding_2 (Embedding)      (None, 50, 16)            16000     \n",
            "_________________________________________________________________\n",
            "global_average_pooling1d_2 ( (None, 16)                0         \n",
            "_________________________________________________________________\n",
            "dense_4 (Dense)              (None, 6)                 102       \n",
            "_________________________________________________________________\n",
            "dense_5 (Dense)              (None, 1)                 7         \n",
            "=================================================================\n",
            "Total params: 16,109\n",
            "Trainable params: 16,109\n",
            "Non-trainable params: 0\n",
            "_________________________________________________________________\n",
            "Epoch 1/50\n",
            "50/50 [==============================] - 0s 6ms/step - loss: 0.6924 - accuracy: 0.5330 - val_loss: 0.6960 - val_accuracy: 0.4185\n",
            "Epoch 2/50\n",
            "50/50 [==============================] - 0s 4ms/step - loss: 0.6889 - accuracy: 0.5317 - val_loss: 0.6965 - val_accuracy: 0.4336\n",
            "Epoch 3/50\n",
            "50/50 [==============================] - 0s 3ms/step - loss: 0.6841 - accuracy: 0.5669 - val_loss: 0.6945 - val_accuracy: 0.4762\n",
            "Epoch 4/50\n",
            "50/50 [==============================] - 0s 3ms/step - loss: 0.6754 - accuracy: 0.5964 - val_loss: 0.6869 - val_accuracy: 0.5113\n",
            "Epoch 5/50\n",
            "50/50 [==============================] - 0s 4ms/step - loss: 0.6584 - accuracy: 0.6541 - val_loss: 0.6668 - val_accuracy: 0.6241\n",
            "Epoch 6/50\n",
            "50/50 [==============================] - 0s 3ms/step - loss: 0.6303 - accuracy: 0.7213 - val_loss: 0.6449 - val_accuracy: 0.6742\n",
            "Epoch 7/50\n",
            "50/50 [==============================] - 0s 3ms/step - loss: 0.5953 - accuracy: 0.7740 - val_loss: 0.6189 - val_accuracy: 0.6992\n",
            "Epoch 8/50\n",
            "50/50 [==============================] - 0s 4ms/step - loss: 0.5529 - accuracy: 0.8136 - val_loss: 0.5918 - val_accuracy: 0.7293\n",
            "Epoch 9/50\n",
            "50/50 [==============================] - 0s 4ms/step - loss: 0.5099 - accuracy: 0.8349 - val_loss: 0.5872 - val_accuracy: 0.6792\n",
            "Epoch 10/50\n",
            "50/50 [==============================] - 0s 3ms/step - loss: 0.4696 - accuracy: 0.8406 - val_loss: 0.5440 - val_accuracy: 0.7619\n",
            "Epoch 11/50\n",
            "50/50 [==============================] - 0s 3ms/step - loss: 0.4318 - accuracy: 0.8562 - val_loss: 0.5251 - val_accuracy: 0.7569\n",
            "Epoch 12/50\n",
            "50/50 [==============================] - 0s 4ms/step - loss: 0.3992 - accuracy: 0.8644 - val_loss: 0.5127 - val_accuracy: 0.7544\n",
            "Epoch 13/50\n",
            "50/50 [==============================] - 0s 4ms/step - loss: 0.3715 - accuracy: 0.8713 - val_loss: 0.5085 - val_accuracy: 0.7519\n",
            "Epoch 14/50\n",
            "50/50 [==============================] - 0s 3ms/step - loss: 0.3465 - accuracy: 0.8751 - val_loss: 0.4951 - val_accuracy: 0.7619\n",
            "Epoch 15/50\n",
            "50/50 [==============================] - 0s 4ms/step - loss: 0.3242 - accuracy: 0.8864 - val_loss: 0.5015 - val_accuracy: 0.7519\n",
            "Epoch 16/50\n",
            "50/50 [==============================] - 0s 4ms/step - loss: 0.3069 - accuracy: 0.8883 - val_loss: 0.5233 - val_accuracy: 0.7544\n",
            "Epoch 17/50\n",
            "50/50 [==============================] - 0s 4ms/step - loss: 0.2899 - accuracy: 0.8989 - val_loss: 0.5106 - val_accuracy: 0.7544\n",
            "Epoch 18/50\n",
            "50/50 [==============================] - 0s 3ms/step - loss: 0.2757 - accuracy: 0.9065 - val_loss: 0.5088 - val_accuracy: 0.7544\n",
            "Epoch 19/50\n",
            "50/50 [==============================] - 0s 4ms/step - loss: 0.2605 - accuracy: 0.9071 - val_loss: 0.5019 - val_accuracy: 0.7469\n",
            "Epoch 20/50\n",
            "50/50 [==============================] - 0s 3ms/step - loss: 0.2480 - accuracy: 0.9134 - val_loss: 0.5043 - val_accuracy: 0.7619\n",
            "Epoch 21/50\n",
            "50/50 [==============================] - 0s 3ms/step - loss: 0.2396 - accuracy: 0.9171 - val_loss: 0.5085 - val_accuracy: 0.7619\n",
            "Epoch 22/50\n",
            "50/50 [==============================] - 0s 3ms/step - loss: 0.2279 - accuracy: 0.9228 - val_loss: 0.5308 - val_accuracy: 0.7544\n",
            "Epoch 23/50\n",
            "50/50 [==============================] - 0s 3ms/step - loss: 0.2209 - accuracy: 0.9234 - val_loss: 0.5420 - val_accuracy: 0.7519\n",
            "Epoch 24/50\n",
            "50/50 [==============================] - 0s 4ms/step - loss: 0.2099 - accuracy: 0.9272 - val_loss: 0.5453 - val_accuracy: 0.7469\n",
            "Epoch 25/50\n",
            "50/50 [==============================] - 0s 3ms/step - loss: 0.2010 - accuracy: 0.9322 - val_loss: 0.5422 - val_accuracy: 0.7569\n",
            "Epoch 26/50\n",
            "50/50 [==============================] - 0s 4ms/step - loss: 0.1942 - accuracy: 0.9372 - val_loss: 0.5634 - val_accuracy: 0.7444\n",
            "Epoch 27/50\n",
            "50/50 [==============================] - 0s 3ms/step - loss: 0.1862 - accuracy: 0.9416 - val_loss: 0.5671 - val_accuracy: 0.7494\n",
            "Epoch 28/50\n",
            "50/50 [==============================] - 0s 3ms/step - loss: 0.1807 - accuracy: 0.9435 - val_loss: 0.5792 - val_accuracy: 0.7494\n",
            "Epoch 29/50\n",
            "50/50 [==============================] - 0s 3ms/step - loss: 0.1744 - accuracy: 0.9460 - val_loss: 0.6002 - val_accuracy: 0.7469\n",
            "Epoch 30/50\n",
            "50/50 [==============================] - 0s 4ms/step - loss: 0.1667 - accuracy: 0.9535 - val_loss: 0.6143 - val_accuracy: 0.7469\n",
            "Epoch 31/50\n",
            "50/50 [==============================] - 0s 3ms/step - loss: 0.1619 - accuracy: 0.9504 - val_loss: 0.6125 - val_accuracy: 0.7444\n",
            "Epoch 32/50\n",
            "50/50 [==============================] - 0s 3ms/step - loss: 0.1552 - accuracy: 0.9573 - val_loss: 0.6208 - val_accuracy: 0.7494\n",
            "Epoch 33/50\n",
            "50/50 [==============================] - 0s 4ms/step - loss: 0.1496 - accuracy: 0.9598 - val_loss: 0.6221 - val_accuracy: 0.7619\n",
            "Epoch 34/50\n",
            "50/50 [==============================] - 0s 3ms/step - loss: 0.1462 - accuracy: 0.9611 - val_loss: 0.6571 - val_accuracy: 0.7494\n",
            "Epoch 35/50\n",
            "50/50 [==============================] - 0s 3ms/step - loss: 0.1422 - accuracy: 0.9586 - val_loss: 0.6582 - val_accuracy: 0.7469\n",
            "Epoch 36/50\n",
            "50/50 [==============================] - 0s 4ms/step - loss: 0.1350 - accuracy: 0.9648 - val_loss: 0.6726 - val_accuracy: 0.7494\n",
            "Epoch 37/50\n",
            "50/50 [==============================] - 0s 4ms/step - loss: 0.1301 - accuracy: 0.9655 - val_loss: 0.6783 - val_accuracy: 0.7569\n",
            "Epoch 38/50\n",
            "50/50 [==============================] - 0s 4ms/step - loss: 0.1257 - accuracy: 0.9667 - val_loss: 0.6987 - val_accuracy: 0.7494\n",
            "Epoch 39/50\n",
            "50/50 [==============================] - 0s 3ms/step - loss: 0.1218 - accuracy: 0.9692 - val_loss: 0.7370 - val_accuracy: 0.7343\n",
            "Epoch 40/50\n",
            "50/50 [==============================] - 0s 3ms/step - loss: 0.1199 - accuracy: 0.9674 - val_loss: 0.7448 - val_accuracy: 0.7393\n",
            "Epoch 41/50\n",
            "50/50 [==============================] - 0s 4ms/step - loss: 0.1136 - accuracy: 0.9711 - val_loss: 0.7352 - val_accuracy: 0.7519\n",
            "Epoch 42/50\n",
            "50/50 [==============================] - 0s 4ms/step - loss: 0.1093 - accuracy: 0.9705 - val_loss: 0.7757 - val_accuracy: 0.7318\n",
            "Epoch 43/50\n",
            "50/50 [==============================] - 0s 3ms/step - loss: 0.1073 - accuracy: 0.9730 - val_loss: 0.7872 - val_accuracy: 0.7393\n",
            "Epoch 44/50\n",
            "50/50 [==============================] - 0s 3ms/step - loss: 0.1026 - accuracy: 0.9718 - val_loss: 0.7896 - val_accuracy: 0.7469\n",
            "Epoch 45/50\n",
            "50/50 [==============================] - 0s 3ms/step - loss: 0.0973 - accuracy: 0.9736 - val_loss: 0.8126 - val_accuracy: 0.7419\n",
            "Epoch 46/50\n",
            "50/50 [==============================] - 0s 3ms/step - loss: 0.0936 - accuracy: 0.9761 - val_loss: 0.8207 - val_accuracy: 0.7444\n",
            "Epoch 47/50\n",
            "50/50 [==============================] - 0s 3ms/step - loss: 0.0905 - accuracy: 0.9799 - val_loss: 0.8445 - val_accuracy: 0.7393\n",
            "Epoch 48/50\n",
            "50/50 [==============================] - 0s 4ms/step - loss: 0.0880 - accuracy: 0.9761 - val_loss: 0.8441 - val_accuracy: 0.7569\n",
            "Epoch 49/50\n",
            "50/50 [==============================] - 0s 4ms/step - loss: 0.0846 - accuracy: 0.9805 - val_loss: 0.8649 - val_accuracy: 0.7494\n",
            "Epoch 50/50\n",
            "50/50 [==============================] - 0s 3ms/step - loss: 0.0826 - accuracy: 0.9818 - val_loss: 0.8627 - val_accuracy: 0.7519\n"
          ],
          "name": "stdout"
        },
        {
          "output_type": "display_data",
          "data": {
            "image/png": "[encoded data removed]",
            "text/plain": [
              "<Figure size 432x288 with 1 Axes>"
            ]
          },
          "metadata": {
            "tags": [],
            "needs_background": "light"
          }
        },
        {
          "output_type": "display_data",
          "data": {
            "image/png": "[encoded data removed]",
            "text/plain": [
              "<Figure size 432x288 with 1 Axes>"
            ]
          },
          "metadata": {
            "tags": [],
            "needs_background": "light"
          }
        },
        {
          "output_type": "stream",
          "text": [
            "[  4  65 336 229 569 547 147 319   0   0   0   0   0   0   0   0   0   0\n",
            "   0   0   0   0   0   0   0   0   0   0   0   0   0   0   0   0   0   0\n",
            "   0   0   0   0   0   0   0   0   0   0   0   0   0   0]\n",
            "I like pure chocolate\n",
            "[0.06935905]\n",
            "\n",
            "\n",
            "[ 13 329 347 775   7 357  37  15 309 443 844   0   0   0   0   0   0   0\n",
            "   0   0   0   0   0   0   0   0   0   0   0   0   0   0   0   0   0   0\n",
            "   0   0   0   0   0   0   0   0   0   0   0   0   0   0]\n",
            "The restaurant is full of smoke\n",
            "[0.3238898]\n",
            "\n",
            "\n",
            "[ 13 124  60  12   7 309 133 298   0   0   0   0   0   0   0   0   0   0\n",
            "   0   0   0   0   0   0   0   0   0   0   0   0   0   0   0   0   0   0\n",
            "   0   0   0   0   0   0   0   0   0   0   0   0   0   0]\n",
            "The cheese is smelly\n",
            "[0.03449515]\n",
            "\n",
            "\n",
            "[ 13  93 106 315   7  42 109   8   2 125 265  26 287 851 244 454 858  93\n",
            " 106   0   0   0   0   0   0   0   0   0   0   0   0   0   0   0   0   0\n",
            "   0   0   0   0   0   0   0   0   0   0   0   0   0   0]\n",
            "The weather is so hot and causing children sweat\n",
            "[0.00265622]\n",
            "\n",
            "\n",
            "[ 13 553  67 391 775   7 103 843   0   0   0   0   0   0   0   0   0   0\n",
            "   0   0   0   0   0   0   0   0   0   0   0   0   0   0   0   0   0   0\n",
            "   0   0   0   0   0   0   0   0   0   0   0   0   0   0]\n",
            "The milk taste is bad\n",
            "[0.6396553]\n",
            "\n",
            "\n",
            "[815  12 522  18 407  67  19 498  26 406   0   0   0   0   0   0   0   0\n",
            "   0   0   0   0   0   0   0   0   0   0   0   0   0   0   0   0   0   0\n",
            "   0   0   0   0   0   0   0   0   0   0   0   0   0   0]\n",
            "He do not cook in working day\n",
            "[0.02470405]\n",
            "\n",
            "\n",
            "[158 190 853 782   8 607 775 210 232 146 775 470  67 305 101  15   1 328\n",
            " 296  26  19   1 661 641 195   0   0   0   0   0   0   0   0   0   0   0\n",
            "   0   0   0   0   0   0   0   0   0   0   0   0   0   0]\n",
            "we couldn't hear each other talk because of the shouting in the kitchen\n",
            "[0.00183385]\n",
            "\n",
            "\n"
          ],
          "name": "stdout"
        }
      ]
    },
    {
      "cell_type": "markdown",
      "metadata": {
        "id": "iDxBmTTNUJGK",
        "colab_type": "text"
      },
      "source": [
        "# **Add bidirectional LSTM layer**"
      ]
    },
    {
      "cell_type": "code",
      "metadata": {
        "id": "nrwqYXhrT41V",
        "colab_type": "code",
        "colab": {
          "base_uri": "https://localhost:8080/",
          "height": 1000
        },
        "outputId": "e7e2164d-b1d9-42e3-f041-9ff5cd67065d"
      },
      "source": [
        "model_bidi_lstm = tf.keras.Sequential([\n",
        "    tf.keras.layers.Embedding(vocab_size, embedding_dim, input_length=max_length),\n",
        "    tf.keras.layers.Bidirectional(tf.keras.layers.LSTM(embedding_dim)), \n",
        "    tf.keras.layers.Dense(6, activation='relu'), \n",
        "    tf.keras.layers.Dense(1, activation='sigmoid')\n",
        "])\n",
        "\n",
        "# Compile and train the model and then show the predictions for our extra sentences\n",
        "fit_model_and_show_results(model_bidi_lstm, test_reviews)"
      ],
      "execution_count": 30,
      "outputs": [
        {
          "output_type": "stream",
          "text": [
            "Model: \"sequential_3\"\n",
            "_________________________________________________________________\n",
            "Layer (type)                 Output Shape              Param #   \n",
            "=================================================================\n",
            "embedding_3 (Embedding)      (None, 50, 16)            16000     \n",
            "_________________________________________________________________\n",
            "bidirectional (Bidirectional (None, 32)                4224      \n",
            "_________________________________________________________________\n",
            "dense_6 (Dense)              (None, 6)                 198       \n",
            "_________________________________________________________________\n",
            "dense_7 (Dense)              (None, 1)                 7         \n",
            "=================================================================\n",
            "Total params: 20,429\n",
            "Trainable params: 20,429\n",
            "Non-trainable params: 0\n",
            "_________________________________________________________________\n",
            "Epoch 1/50\n",
            "50/50 [==============================] - 1s 22ms/step - loss: 0.6903 - accuracy: 0.5154 - val_loss: 0.6897 - val_accuracy: 0.5288\n",
            "Epoch 2/50\n",
            "50/50 [==============================] - 0s 9ms/step - loss: 0.6505 - accuracy: 0.6497 - val_loss: 0.6193 - val_accuracy: 0.7118\n",
            "Epoch 3/50\n",
            "50/50 [==============================] - 0s 9ms/step - loss: 0.5027 - accuracy: 0.7809 - val_loss: 0.5057 - val_accuracy: 0.7469\n",
            "Epoch 4/50\n",
            "50/50 [==============================] - 0s 9ms/step - loss: 0.3532 - accuracy: 0.8512 - val_loss: 0.5557 - val_accuracy: 0.7368\n",
            "Epoch 5/50\n",
            "50/50 [==============================] - 0s 9ms/step - loss: 0.2632 - accuracy: 0.8964 - val_loss: 0.5185 - val_accuracy: 0.7719\n",
            "Epoch 6/50\n",
            "50/50 [==============================] - 0s 9ms/step - loss: 0.2166 - accuracy: 0.9284 - val_loss: 0.6203 - val_accuracy: 0.7569\n",
            "Epoch 7/50\n",
            "50/50 [==============================] - 0s 10ms/step - loss: 0.1842 - accuracy: 0.9391 - val_loss: 0.7329 - val_accuracy: 0.7519\n",
            "Epoch 8/50\n",
            "50/50 [==============================] - 0s 9ms/step - loss: 0.1494 - accuracy: 0.9573 - val_loss: 0.7738 - val_accuracy: 0.7544\n",
            "Epoch 9/50\n",
            "50/50 [==============================] - 0s 9ms/step - loss: 0.1285 - accuracy: 0.9605 - val_loss: 0.7319 - val_accuracy: 0.7569\n",
            "Epoch 10/50\n",
            "50/50 [==============================] - 0s 9ms/step - loss: 0.1256 - accuracy: 0.9655 - val_loss: 0.9328 - val_accuracy: 0.7519\n",
            "Epoch 11/50\n",
            "50/50 [==============================] - 1s 10ms/step - loss: 0.1087 - accuracy: 0.9718 - val_loss: 0.8536 - val_accuracy: 0.7494\n",
            "Epoch 12/50\n",
            "50/50 [==============================] - 0s 10ms/step - loss: 0.0948 - accuracy: 0.9730 - val_loss: 0.9141 - val_accuracy: 0.7494\n",
            "Epoch 13/50\n",
            "50/50 [==============================] - 0s 9ms/step - loss: 0.0806 - accuracy: 0.9837 - val_loss: 0.9718 - val_accuracy: 0.7619\n",
            "Epoch 14/50\n",
            "50/50 [==============================] - 0s 9ms/step - loss: 0.0605 - accuracy: 0.9881 - val_loss: 0.9996 - val_accuracy: 0.7619\n",
            "Epoch 15/50\n",
            "50/50 [==============================] - 0s 9ms/step - loss: 0.0612 - accuracy: 0.9881 - val_loss: 1.0221 - val_accuracy: 0.7494\n",
            "Epoch 16/50\n",
            "50/50 [==============================] - 0s 9ms/step - loss: 0.0813 - accuracy: 0.9736 - val_loss: 1.1240 - val_accuracy: 0.7494\n",
            "Epoch 17/50\n",
            "50/50 [==============================] - 0s 9ms/step - loss: 0.0570 - accuracy: 0.9849 - val_loss: 1.1436 - val_accuracy: 0.7494\n",
            "Epoch 18/50\n",
            "50/50 [==============================] - 0s 9ms/step - loss: 0.0435 - accuracy: 0.9887 - val_loss: 1.1328 - val_accuracy: 0.7594\n",
            "Epoch 19/50\n",
            "50/50 [==============================] - 1s 10ms/step - loss: 0.0369 - accuracy: 0.9944 - val_loss: 1.2115 - val_accuracy: 0.7544\n",
            "Epoch 20/50\n",
            "50/50 [==============================] - 1s 10ms/step - loss: 0.0307 - accuracy: 0.9956 - val_loss: 1.2616 - val_accuracy: 0.7519\n",
            "Epoch 21/50\n",
            "50/50 [==============================] - 0s 9ms/step - loss: 0.0277 - accuracy: 0.9956 - val_loss: 1.2622 - val_accuracy: 0.7494\n",
            "Epoch 22/50\n",
            "50/50 [==============================] - 0s 9ms/step - loss: 0.0257 - accuracy: 0.9950 - val_loss: 1.2752 - val_accuracy: 0.7444\n",
            "Epoch 23/50\n",
            "50/50 [==============================] - 0s 9ms/step - loss: 0.0246 - accuracy: 0.9944 - val_loss: 1.3729 - val_accuracy: 0.7343\n",
            "Epoch 24/50\n",
            "50/50 [==============================] - 0s 10ms/step - loss: 0.0242 - accuracy: 0.9956 - val_loss: 1.4248 - val_accuracy: 0.7368\n",
            "Epoch 25/50\n",
            "50/50 [==============================] - 0s 9ms/step - loss: 0.0220 - accuracy: 0.9950 - val_loss: 1.3779 - val_accuracy: 0.7419\n",
            "Epoch 26/50\n",
            "50/50 [==============================] - 0s 9ms/step - loss: 0.0200 - accuracy: 0.9962 - val_loss: 1.4309 - val_accuracy: 0.7419\n",
            "Epoch 27/50\n",
            "50/50 [==============================] - 0s 9ms/step - loss: 0.0154 - accuracy: 0.9981 - val_loss: 1.4973 - val_accuracy: 0.7368\n",
            "Epoch 28/50\n",
            "50/50 [==============================] - 0s 9ms/step - loss: 0.0445 - accuracy: 0.9893 - val_loss: 1.4460 - val_accuracy: 0.7444\n",
            "Epoch 29/50\n",
            "50/50 [==============================] - 0s 9ms/step - loss: 0.0694 - accuracy: 0.9799 - val_loss: 1.5731 - val_accuracy: 0.7193\n",
            "Epoch 30/50\n",
            "50/50 [==============================] - 0s 9ms/step - loss: 0.0693 - accuracy: 0.9780 - val_loss: 1.2994 - val_accuracy: 0.7494\n",
            "Epoch 31/50\n",
            "50/50 [==============================] - 0s 9ms/step - loss: 0.0356 - accuracy: 0.9900 - val_loss: 1.2140 - val_accuracy: 0.7544\n",
            "Epoch 32/50\n",
            "50/50 [==============================] - 0s 9ms/step - loss: 0.0430 - accuracy: 0.9881 - val_loss: 1.4503 - val_accuracy: 0.7419\n",
            "Epoch 33/50\n",
            "50/50 [==============================] - 0s 10ms/step - loss: 0.0238 - accuracy: 0.9944 - val_loss: 1.5240 - val_accuracy: 0.7419\n",
            "Epoch 34/50\n",
            "50/50 [==============================] - 0s 9ms/step - loss: 0.0174 - accuracy: 0.9981 - val_loss: 1.5350 - val_accuracy: 0.7469\n",
            "Epoch 35/50\n",
            "50/50 [==============================] - 0s 9ms/step - loss: 0.0106 - accuracy: 0.9987 - val_loss: 1.5802 - val_accuracy: 0.7494\n",
            "Epoch 36/50\n",
            "50/50 [==============================] - 0s 9ms/step - loss: 0.0094 - accuracy: 0.9987 - val_loss: 1.6078 - val_accuracy: 0.7494\n",
            "Epoch 37/50\n",
            "50/50 [==============================] - 0s 9ms/step - loss: 0.0083 - accuracy: 0.9987 - val_loss: 1.6571 - val_accuracy: 0.7469\n",
            "Epoch 38/50\n",
            "50/50 [==============================] - 0s 9ms/step - loss: 0.0077 - accuracy: 0.9987 - val_loss: 1.6801 - val_accuracy: 0.7469\n",
            "Epoch 39/50\n",
            "50/50 [==============================] - 0s 9ms/step - loss: 0.0069 - accuracy: 0.9987 - val_loss: 1.7187 - val_accuracy: 0.7469\n",
            "Epoch 40/50\n",
            "50/50 [==============================] - 0s 9ms/step - loss: 0.0061 - accuracy: 0.9987 - val_loss: 1.7396 - val_accuracy: 0.7419\n",
            "Epoch 41/50\n",
            "50/50 [==============================] - 0s 9ms/step - loss: 0.0056 - accuracy: 0.9987 - val_loss: 1.7762 - val_accuracy: 0.7368\n",
            "Epoch 42/50\n",
            "50/50 [==============================] - 0s 9ms/step - loss: 0.0051 - accuracy: 0.9987 - val_loss: 1.8024 - val_accuracy: 0.7393\n",
            "Epoch 43/50\n",
            "50/50 [==============================] - 0s 9ms/step - loss: 0.0047 - accuracy: 0.9987 - val_loss: 1.8446 - val_accuracy: 0.7419\n",
            "Epoch 44/50\n",
            "50/50 [==============================] - 0s 9ms/step - loss: 0.0043 - accuracy: 0.9987 - val_loss: 1.8663 - val_accuracy: 0.7393\n",
            "Epoch 45/50\n",
            "50/50 [==============================] - 0s 9ms/step - loss: 0.0039 - accuracy: 0.9987 - val_loss: 1.9198 - val_accuracy: 0.7368\n",
            "Epoch 46/50\n",
            "50/50 [==============================] - 0s 9ms/step - loss: 0.0033 - accuracy: 0.9994 - val_loss: 1.9249 - val_accuracy: 0.7393\n",
            "Epoch 47/50\n",
            "50/50 [==============================] - 0s 9ms/step - loss: 0.0030 - accuracy: 0.9994 - val_loss: 1.9706 - val_accuracy: 0.7393\n",
            "Epoch 48/50\n",
            "50/50 [==============================] - 0s 9ms/step - loss: 0.0027 - accuracy: 0.9994 - val_loss: 1.9923 - val_accuracy: 0.7368\n",
            "Epoch 49/50\n",
            "50/50 [==============================] - 0s 10ms/step - loss: 0.0023 - accuracy: 0.9994 - val_loss: 2.0289 - val_accuracy: 0.7368\n",
            "Epoch 50/50\n",
            "50/50 [==============================] - 0s 10ms/step - loss: 0.0019 - accuracy: 0.9994 - val_loss: 2.0712 - val_accuracy: 0.7343\n"
          ],
          "name": "stdout"
        },
        {
          "output_type": "display_data",
          "data": {
            "image/png": "[encoded data removed]",
            "text/plain": [
              "<Figure size 432x288 with 1 Axes>"
            ]
          },
          "metadata": {
            "tags": [],
            "needs_background": "light"
          }
        },
        {
          "output_type": "display_data",
          "data": {
            "image/png": "[encoded data removed]",
            "text/plain": [
              "<Figure size 432x288 with 1 Axes>"
            ]
          },
          "metadata": {
            "tags": [],
            "needs_background": "light"
          }
        },
        {
          "output_type": "stream",
          "text": [
            "[  4  65 336 229 569 547 147 319   0   0   0   0   0   0   0   0   0   0\n",
            "   0   0   0   0   0   0   0   0   0   0   0   0   0   0   0   0   0   0\n",
            "   0   0   0   0   0   0   0   0   0   0   0   0   0   0]\n",
            "I like pure chocolate\n",
            "[0.00164544]\n",
            "\n",
            "\n",
            "[ 13 329 347 775   7 357  37  15 309 443 844   0   0   0   0   0   0   0\n",
            "   0   0   0   0   0   0   0   0   0   0   0   0   0   0   0   0   0   0\n",
            "   0   0   0   0   0   0   0   0   0   0   0   0   0   0]\n",
            "The restaurant is full of smoke\n",
            "[0.00175365]\n",
            "\n",
            "\n",
            "[ 13 124  60  12   7 309 133 298   0   0   0   0   0   0   0   0   0   0\n",
            "   0   0   0   0   0   0   0   0   0   0   0   0   0   0   0   0   0   0\n",
            "   0   0   0   0   0   0   0   0   0   0   0   0   0   0]\n",
            "The cheese is smelly\n",
            "[2.555457e-05]\n",
            "\n",
            "\n",
            "[ 13  93 106 315   7  42 109   8   2 125 265  26 287 851 244 454 858  93\n",
            " 106   0   0   0   0   0   0   0   0   0   0   0   0   0   0   0   0   0\n",
            "   0   0   0   0   0   0   0   0   0   0   0   0   0   0]\n",
            "The weather is so hot and causing children sweat\n",
            "[3.4271598e-05]\n",
            "\n",
            "\n",
            "[ 13 553  67 391 775   7 103 843   0   0   0   0   0   0   0   0   0   0\n",
            "   0   0   0   0   0   0   0   0   0   0   0   0   0   0   0   0   0   0\n",
            "   0   0   0   0   0   0   0   0   0   0   0   0   0   0]\n",
            "The milk taste is bad\n",
            "[0.04923312]\n",
            "\n",
            "\n",
            "[815  12 522  18 407  67  19 498  26 406   0   0   0   0   0   0   0   0\n",
            "   0   0   0   0   0   0   0   0   0   0   0   0   0   0   0   0   0   0\n",
            "   0   0   0   0   0   0   0   0   0   0   0   0   0   0]\n",
            "He do not cook in working day\n",
            "[0.00043349]\n",
            "\n",
            "\n",
            "[158 190 853 782   8 607 775 210 232 146 775 470  67 305 101  15   1 328\n",
            " 296  26  19   1 661 641 195   0   0   0   0   0   0   0   0   0   0   0\n",
            "   0   0   0   0   0   0   0   0   0   0   0   0   0   0]\n",
            "we couldn't hear each other talk because of the shouting in the kitchen\n",
            "[9.793462e-05]\n",
            "\n",
            "\n"
          ],
          "name": "stdout"
        }
      ]
    },
    {
      "cell_type": "code",
      "metadata": {
        "id": "qNdXOIiKUa5B",
        "colab_type": "code",
        "colab": {}
      },
      "source": [
        ""
      ],
      "execution_count": null,
      "outputs": []
    }
  ]
}