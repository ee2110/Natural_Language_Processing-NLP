{
  "nbformat": 4,
  "nbformat_minor": 0,
  "metadata": {
    "colab": {
      "name": "Subword_Bidirectional_LSTM.ipynb",
      "provenance": []
    },
    "kernelspec": {
      "name": "python3",
      "display_name": "Python 3"
    },
    "accelerator": "GPU"
  },
  "cells": [
    {
      "cell_type": "code",
      "metadata": {
        "id": "DsqVjbK3PtiD",
        "colab_type": "code",
        "colab": {}
      },
      "source": [
        "import tensorflow as tf\n",
        "import pandas as pd\n",
        "import numpy as np\n",
        "import matplotlib.pyplot as plt\n",
        "\n",
        "from tensorflow.keras.preprocessing.sequence import pad_sequences\n",
        "import tensorflow_datasets as tfds"
      ],
      "execution_count": 1,
      "outputs": []
    },
    {
      "cell_type": "markdown",
      "metadata": {
        "id": "JakMgZ1qEOaR",
        "colab_type": "text"
      },
      "source": [
        "# **Preprocess the data**\n",
        "\n",
        "1. Create subword data and tokernize\n",
        "2. Replace sentence data with encoded subwords\n",
        "3. Pad the sequences"
      ]
    },
    {
      "cell_type": "code",
      "metadata": {
        "id": "eYzEInd-Dy8k",
        "colab_type": "code",
        "colab": {}
      },
      "source": [
        "data = pd.read_csv('combined_data.csv')\n",
        "sentences = data['text'].tolist()\n",
        "labels = data['sentiment'].tolist()"
      ],
      "execution_count": 2,
      "outputs": []
    },
    {
      "cell_type": "code",
      "metadata": {
        "id": "8qYITFHZEI2r",
        "colab_type": "code",
        "colab": {
          "base_uri": "https://localhost:8080/",
          "height": 357
        },
        "outputId": "3e6e328f-00db-4e00-f203-ca0bf58d57cd"
      },
      "source": [
        "# Print some example sentences and labels\n",
        "for x in range(5):\n",
        "  print(sentences[x])\n",
        "  print(labels[x])\n",
        "  print(\"\\n\")"
      ],
      "execution_count": 3,
      "outputs": [
        {
          "output_type": "stream",
          "text": [
            "So there is no way for me to plug it in here in the US unless I go by a converter.\n",
            "0\n",
            "\n",
            "\n",
            "Good case Excellent value.\n",
            "1\n",
            "\n",
            "\n",
            "Great for the jawbone.\n",
            "1\n",
            "\n",
            "\n",
            "Tied to charger for conversations lasting more than 45 minutes.MAJOR PROBLEMS!!\n",
            "0\n",
            "\n",
            "\n",
            "The mic is great.\n",
            "1\n",
            "\n",
            "\n"
          ],
          "name": "stdout"
        }
      ]
    },
    {
      "cell_type": "code",
      "metadata": {
        "id": "reya-uk6EssJ",
        "colab_type": "code",
        "colab": {
          "base_uri": "https://localhost:8080/",
          "height": 34
        },
        "outputId": "98a46add-bc96-45a7-fbcb-41dc7a5d362b"
      },
      "source": [
        "vocab_size = 1000\n",
        "tokenizer = tfds.features.text.SubwordTextEncoder.build_from_corpus(sentences, vocab_size, max_subword_length=5)\n",
        "print(\"Vocab size is \", tokenizer.vocab_size)"
      ],
      "execution_count": 4,
      "outputs": [
        {
          "output_type": "stream",
          "text": [
            "Vocab size is  999\n"
          ],
          "name": "stdout"
        }
      ]
    },
    {
      "cell_type": "code",
      "metadata": {
        "id": "bgCXULwyFDyj",
        "colab_type": "code",
        "colab": {
          "base_uri": "https://localhost:8080/",
          "height": 88
        },
        "outputId": "8fb61d39-1540-4080-f14c-2dd1027fd548"
      },
      "source": [
        "print(sentences[6])\n",
        "encoded = tokenizer.encode(sentences[6])\n",
        "print(encoded)\n",
        "print(\"Length is: \", len(encoded))"
      ],
      "execution_count": 5,
      "outputs": [
        {
          "output_type": "stream",
          "text": [
            "If you have several dozen or several hundred contacts then imagine the fun of sending each of them one by one.\n",
            "[364, 39, 31, 69, 500, 775, 197, 293, 38, 117, 69, 500, 775, 399, 123, 475, 775, 79, 62, 86, 3, 506, 241, 683, 557, 775, 1, 429, 38, 15, 69, 123, 26, 210, 232, 15, 507, 80, 361, 478, 789]\n",
            "Length is:  41\n"
          ],
          "name": "stdout"
        }
      ]
    },
    {
      "cell_type": "code",
      "metadata": {
        "id": "VmDOhkm5FL6G",
        "colab_type": "code",
        "colab": {
          "base_uri": "https://localhost:8080/",
          "height": 714
        },
        "outputId": "f898e3e7-6b5b-428a-cf3e-fac27574d7e3"
      },
      "source": [
        "# Separately print out each subword, decoded\n",
        "for i in encoded:\n",
        "  print(tokenizer.decode([i]))"
      ],
      "execution_count": 6,
      "outputs": [
        {
          "output_type": "stream",
          "text": [
            "If \n",
            "you \n",
            "have \n",
            "se\n",
            "veral\n",
            " \n",
            "do\n",
            "ze\n",
            "n \n",
            "or \n",
            "se\n",
            "veral\n",
            " \n",
            "hu\n",
            "nd\n",
            "red\n",
            " \n",
            "con\n",
            "ta\n",
            "ct\n",
            "s \n",
            "then \n",
            "im\n",
            "ag\n",
            "ine\n",
            " \n",
            "the \n",
            "fu\n",
            "n \n",
            "of \n",
            "se\n",
            "nd\n",
            "ing \n",
            "ea\n",
            "ch \n",
            "of \n",
            "them \n",
            "one \n",
            "by \n",
            "one\n",
            ".\n"
          ],
          "name": "stdout"
        }
      ]
    },
    {
      "cell_type": "code",
      "metadata": {
        "id": "3FfhB2cKFwZI",
        "colab_type": "code",
        "colab": {}
      },
      "source": [
        "# Replace sentence data with subword which equivalent to text_to_sequences with the Tokenizer\n",
        "for i, sentence in enumerate(sentences):\n",
        "  sentences[i] = tokenizer.encode(sentence)"
      ],
      "execution_count": 7,
      "outputs": []
    },
    {
      "cell_type": "code",
      "metadata": {
        "id": "1omScKpwF2FA",
        "colab_type": "code",
        "colab": {
          "base_uri": "https://localhost:8080/",
          "height": 34
        },
        "outputId": "c30579ee-2bc1-4359-a563-c8d1c44b322a"
      },
      "source": [
        "print(sentences[0])"
      ],
      "execution_count": 14,
      "outputs": [
        {
          "output_type": "stream",
          "text": [
            "[736, 168, 775, 7, 193, 417, 17, 94, 6, 600, 438, 775, 14, 19, 141, 19, 1, 828, 826, 775, 99, 445, 4, 174, 361, 5, 79, 227, 139, 789]\n"
          ],
          "name": "stdout"
        }
      ]
    },
    {
      "cell_type": "code",
      "metadata": {
        "id": "JZ9hKhVFGLcx",
        "colab_type": "code",
        "colab": {}
      },
      "source": [
        "max_length = 50\n",
        "trunc_type='post'\n",
        "padding_type='post'\n",
        "\n",
        "# Pad all sequences\n",
        "sequences_padded = pad_sequences(sentences, maxlen=max_length, \n",
        "                                 padding=padding_type, truncating=trunc_type)\n",
        "\n",
        "# Separate out the sentences and labels into training and test sets\n",
        "training_size = int(len(sentences) * 0.8)\n",
        "\n",
        "training_sequences = sequences_padded[0:training_size]\n",
        "testing_sequences = sequences_padded[training_size:]\n",
        "training_labels = labels[0:training_size]\n",
        "testing_labels = labels[training_size:]\n",
        "\n",
        "# Make labels into numpy arrays for use with the network later\n",
        "training_labels_final = np.array(training_labels)\n",
        "testing_labels_final = np.array(testing_labels)"
      ],
      "execution_count": 15,
      "outputs": []
    },
    {
      "cell_type": "code",
      "metadata": {
        "id": "Vfv7RD3QGe5m",
        "colab_type": "code",
        "colab": {
          "base_uri": "https://localhost:8080/",
          "height": 289
        },
        "outputId": "fd184e3e-ee54-4f1c-fa1d-786bcc70d722"
      },
      "source": [
        "embedding_dim = 16\n",
        "\n",
        "model = tf.keras.Sequential([\n",
        "    # the input dimension is the vocab size 1000, embedding dimension is the output size\n",
        "    tf.keras.layers.Embedding(vocab_size, embedding_dim, input_length=max_length),\n",
        "    tf.keras.layers.GlobalAveragePooling1D(), \n",
        "    tf.keras.layers.Dense(6, activation='relu'),\n",
        "    tf.keras.layers.Dense(1, activation='sigmoid')\n",
        "])\n",
        "\n",
        "model.summary()"
      ],
      "execution_count": 16,
      "outputs": [
        {
          "output_type": "stream",
          "text": [
            "Model: \"sequential_1\"\n",
            "_________________________________________________________________\n",
            "Layer (type)                 Output Shape              Param #   \n",
            "=================================================================\n",
            "embedding_1 (Embedding)      (None, 50, 16)            16000     \n",
            "_________________________________________________________________\n",
            "global_average_pooling1d_1 ( (None, 16)                0         \n",
            "_________________________________________________________________\n",
            "dense_2 (Dense)              (None, 6)                 102       \n",
            "_________________________________________________________________\n",
            "dense_3 (Dense)              (None, 1)                 7         \n",
            "=================================================================\n",
            "Total params: 16,109\n",
            "Trainable params: 16,109\n",
            "Non-trainable params: 0\n",
            "_________________________________________________________________\n"
          ],
          "name": "stdout"
        }
      ]
    },
    {
      "cell_type": "code",
      "metadata": {
        "id": "ktK3j0lSG_iH",
        "colab_type": "code",
        "colab": {
          "base_uri": "https://localhost:8080/",
          "height": 1000
        },
        "outputId": "343d9e62-f9e6-4851-a94e-8efff174492f"
      },
      "source": [
        "num_epochs = 50\n",
        "model.compile(loss='binary_crossentropy',optimizer='adam',metrics=['accuracy'])\n",
        "history = model.fit(training_sequences, training_labels_final, epochs=num_epochs, validation_data=(testing_sequences, testing_labels_final))"
      ],
      "execution_count": 19,
      "outputs": [
        {
          "output_type": "stream",
          "text": [
            "Epoch 1/50\n",
            "50/50 [==============================] - 0s 5ms/step - loss: 0.6913 - accuracy: 0.5223 - val_loss: 0.6985 - val_accuracy: 0.4110\n",
            "Epoch 2/50\n",
            "50/50 [==============================] - 0s 3ms/step - loss: 0.6867 - accuracy: 0.5273 - val_loss: 0.6984 - val_accuracy: 0.4211\n",
            "Epoch 3/50\n",
            "50/50 [==============================] - 0s 4ms/step - loss: 0.6805 - accuracy: 0.5524 - val_loss: 0.6955 - val_accuracy: 0.4586\n",
            "Epoch 4/50\n",
            "50/50 [==============================] - 0s 4ms/step - loss: 0.6712 - accuracy: 0.5964 - val_loss: 0.6863 - val_accuracy: 0.5113\n",
            "Epoch 5/50\n",
            "50/50 [==============================] - 0s 4ms/step - loss: 0.6570 - accuracy: 0.6516 - val_loss: 0.6841 - val_accuracy: 0.5013\n",
            "Epoch 6/50\n",
            "50/50 [==============================] - 0s 3ms/step - loss: 0.6371 - accuracy: 0.6604 - val_loss: 0.6556 - val_accuracy: 0.6617\n",
            "Epoch 7/50\n",
            "50/50 [==============================] - 0s 4ms/step - loss: 0.6102 - accuracy: 0.7583 - val_loss: 0.6567 - val_accuracy: 0.5464\n",
            "Epoch 8/50\n",
            "50/50 [==============================] - 0s 4ms/step - loss: 0.5794 - accuracy: 0.7866 - val_loss: 0.6322 - val_accuracy: 0.6190\n",
            "Epoch 9/50\n",
            "50/50 [==============================] - 0s 4ms/step - loss: 0.5442 - accuracy: 0.7928 - val_loss: 0.6035 - val_accuracy: 0.6767\n",
            "Epoch 10/50\n",
            "50/50 [==============================] - 0s 3ms/step - loss: 0.5076 - accuracy: 0.8362 - val_loss: 0.5970 - val_accuracy: 0.6566\n",
            "Epoch 11/50\n",
            "50/50 [==============================] - 0s 3ms/step - loss: 0.4742 - accuracy: 0.8286 - val_loss: 0.5542 - val_accuracy: 0.7293\n",
            "Epoch 12/50\n",
            "50/50 [==============================] - 0s 3ms/step - loss: 0.4422 - accuracy: 0.8619 - val_loss: 0.5406 - val_accuracy: 0.7218\n",
            "Epoch 13/50\n",
            "50/50 [==============================] - 0s 4ms/step - loss: 0.4124 - accuracy: 0.8726 - val_loss: 0.5496 - val_accuracy: 0.7218\n",
            "Epoch 14/50\n",
            "50/50 [==============================] - 0s 4ms/step - loss: 0.3875 - accuracy: 0.8707 - val_loss: 0.5138 - val_accuracy: 0.7444\n",
            "Epoch 15/50\n",
            "50/50 [==============================] - 0s 4ms/step - loss: 0.3643 - accuracy: 0.8820 - val_loss: 0.5058 - val_accuracy: 0.7494\n",
            "Epoch 16/50\n",
            "50/50 [==============================] - 0s 3ms/step - loss: 0.3438 - accuracy: 0.8757 - val_loss: 0.5170 - val_accuracy: 0.7519\n",
            "Epoch 17/50\n",
            "50/50 [==============================] - 0s 3ms/step - loss: 0.3248 - accuracy: 0.8939 - val_loss: 0.5204 - val_accuracy: 0.7469\n",
            "Epoch 18/50\n",
            "50/50 [==============================] - 0s 4ms/step - loss: 0.3053 - accuracy: 0.8958 - val_loss: 0.5099 - val_accuracy: 0.7519\n",
            "Epoch 19/50\n",
            "50/50 [==============================] - 0s 3ms/step - loss: 0.2889 - accuracy: 0.9021 - val_loss: 0.5028 - val_accuracy: 0.7469\n",
            "Epoch 20/50\n",
            "50/50 [==============================] - 0s 3ms/step - loss: 0.2753 - accuracy: 0.9090 - val_loss: 0.5302 - val_accuracy: 0.7519\n",
            "Epoch 21/50\n",
            "50/50 [==============================] - 0s 4ms/step - loss: 0.2614 - accuracy: 0.9159 - val_loss: 0.5142 - val_accuracy: 0.7544\n",
            "Epoch 22/50\n",
            "50/50 [==============================] - 0s 3ms/step - loss: 0.2496 - accuracy: 0.9171 - val_loss: 0.5177 - val_accuracy: 0.7569\n",
            "Epoch 23/50\n",
            "50/50 [==============================] - 0s 3ms/step - loss: 0.2380 - accuracy: 0.9247 - val_loss: 0.5156 - val_accuracy: 0.7569\n",
            "Epoch 24/50\n",
            "50/50 [==============================] - 0s 3ms/step - loss: 0.2286 - accuracy: 0.9278 - val_loss: 0.5129 - val_accuracy: 0.7594\n",
            "Epoch 25/50\n",
            "50/50 [==============================] - 0s 3ms/step - loss: 0.2193 - accuracy: 0.9328 - val_loss: 0.5218 - val_accuracy: 0.7594\n",
            "Epoch 26/50\n",
            "50/50 [==============================] - 0s 4ms/step - loss: 0.2110 - accuracy: 0.9316 - val_loss: 0.5189 - val_accuracy: 0.7544\n",
            "Epoch 27/50\n",
            "50/50 [==============================] - 0s 4ms/step - loss: 0.2033 - accuracy: 0.9397 - val_loss: 0.5543 - val_accuracy: 0.7569\n",
            "Epoch 28/50\n",
            "50/50 [==============================] - 0s 4ms/step - loss: 0.1949 - accuracy: 0.9435 - val_loss: 0.5380 - val_accuracy: 0.7569\n",
            "Epoch 29/50\n",
            "50/50 [==============================] - 0s 4ms/step - loss: 0.1894 - accuracy: 0.9416 - val_loss: 0.5585 - val_accuracy: 0.7594\n",
            "Epoch 30/50\n",
            "50/50 [==============================] - 0s 4ms/step - loss: 0.1832 - accuracy: 0.9448 - val_loss: 0.5703 - val_accuracy: 0.7594\n",
            "Epoch 31/50\n",
            "50/50 [==============================] - 0s 4ms/step - loss: 0.1759 - accuracy: 0.9517 - val_loss: 0.5698 - val_accuracy: 0.7619\n",
            "Epoch 32/50\n",
            "50/50 [==============================] - 0s 4ms/step - loss: 0.1712 - accuracy: 0.9504 - val_loss: 0.5980 - val_accuracy: 0.7594\n",
            "Epoch 33/50\n",
            "50/50 [==============================] - 0s 3ms/step - loss: 0.1656 - accuracy: 0.9561 - val_loss: 0.5671 - val_accuracy: 0.7744\n",
            "Epoch 34/50\n",
            "50/50 [==============================] - 0s 4ms/step - loss: 0.1598 - accuracy: 0.9623 - val_loss: 0.5821 - val_accuracy: 0.7719\n",
            "Epoch 35/50\n",
            "50/50 [==============================] - 0s 3ms/step - loss: 0.1554 - accuracy: 0.9611 - val_loss: 0.6432 - val_accuracy: 0.7544\n",
            "Epoch 36/50\n",
            "50/50 [==============================] - 0s 3ms/step - loss: 0.1534 - accuracy: 0.9611 - val_loss: 0.6095 - val_accuracy: 0.7669\n",
            "Epoch 37/50\n",
            "50/50 [==============================] - 0s 4ms/step - loss: 0.1471 - accuracy: 0.9648 - val_loss: 0.6247 - val_accuracy: 0.7619\n",
            "Epoch 38/50\n",
            "50/50 [==============================] - 0s 3ms/step - loss: 0.1437 - accuracy: 0.9623 - val_loss: 0.6704 - val_accuracy: 0.7594\n",
            "Epoch 39/50\n",
            "50/50 [==============================] - 0s 3ms/step - loss: 0.1390 - accuracy: 0.9642 - val_loss: 0.6595 - val_accuracy: 0.7594\n",
            "Epoch 40/50\n",
            "50/50 [==============================] - 0s 4ms/step - loss: 0.1343 - accuracy: 0.9692 - val_loss: 0.6555 - val_accuracy: 0.7644\n",
            "Epoch 41/50\n",
            "50/50 [==============================] - 0s 3ms/step - loss: 0.1313 - accuracy: 0.9718 - val_loss: 0.6688 - val_accuracy: 0.7619\n",
            "Epoch 42/50\n",
            "50/50 [==============================] - 0s 4ms/step - loss: 0.1288 - accuracy: 0.9699 - val_loss: 0.6849 - val_accuracy: 0.7619\n",
            "Epoch 43/50\n",
            "50/50 [==============================] - 0s 4ms/step - loss: 0.1277 - accuracy: 0.9674 - val_loss: 0.7133 - val_accuracy: 0.7594\n",
            "Epoch 44/50\n",
            "50/50 [==============================] - 0s 3ms/step - loss: 0.1217 - accuracy: 0.9724 - val_loss: 0.7129 - val_accuracy: 0.7619\n",
            "Epoch 45/50\n",
            "50/50 [==============================] - 0s 3ms/step - loss: 0.1181 - accuracy: 0.9736 - val_loss: 0.7045 - val_accuracy: 0.7694\n",
            "Epoch 46/50\n",
            "50/50 [==============================] - 0s 3ms/step - loss: 0.1152 - accuracy: 0.9743 - val_loss: 0.7832 - val_accuracy: 0.7444\n",
            "Epoch 47/50\n",
            "50/50 [==============================] - 0s 3ms/step - loss: 0.1117 - accuracy: 0.9749 - val_loss: 0.7327 - val_accuracy: 0.7669\n",
            "Epoch 48/50\n",
            "50/50 [==============================] - 0s 3ms/step - loss: 0.1088 - accuracy: 0.9774 - val_loss: 0.7651 - val_accuracy: 0.7644\n",
            "Epoch 49/50\n",
            "50/50 [==============================] - 0s 4ms/step - loss: 0.1066 - accuracy: 0.9743 - val_loss: 0.7944 - val_accuracy: 0.7569\n",
            "Epoch 50/50\n",
            "50/50 [==============================] - 0s 4ms/step - loss: 0.1043 - accuracy: 0.9780 - val_loss: 0.7580 - val_accuracy: 0.7669\n"
          ],
          "name": "stdout"
        }
      ]
    },
    {
      "cell_type": "code",
      "metadata": {
        "id": "dO9wZFNnHP4Z",
        "colab_type": "code",
        "colab": {
          "base_uri": "https://localhost:8080/",
          "height": 543
        },
        "outputId": "0ad333d8-649d-4598-a465-42c73ddea69e"
      },
      "source": [
        "def plot_graphs(history, string):\n",
        "  plt.plot(history.history[string])\n",
        "  plt.plot(history.history['val_'+string])\n",
        "  plt.xlabel(\"Epochs\")\n",
        "  plt.ylabel(string)\n",
        "  plt.legend([string, 'val_'+string])\n",
        "  plt.show()\n",
        "  \n",
        "plot_graphs(history, \"accuracy\")\n",
        "plot_graphs(history, \"loss\")"
      ],
      "execution_count": 20,
      "outputs": [
        {
          "output_type": "display_data",
          "data": {
            "image/png": "[encoded data removed]",
            "text/plain": [
              "<Figure size 432x288 with 1 Axes>"
            ]
          },
          "metadata": {
            "tags": [],
            "needs_background": "light"
          }
        },
        {
          "output_type": "display_data",
          "data": {
            "image/png": "[encoded data removed]",
            "text/plain": [
              "<Figure size 432x288 with 1 Axes>"
            ]
          },
          "metadata": {
            "tags": [],
            "needs_background": "light"
          }
        }
      ]
    },
    {
      "cell_type": "markdown",
      "metadata": {
        "id": "70quL4_qSvBe",
        "colab_type": "text"
      },
      "source": [
        "Seem like overfitting, thus, we can add bias to reduce overfitting."
      ]
    },
    {
      "cell_type": "markdown",
      "metadata": {
        "id": "QxO5FJsEHXsl",
        "colab_type": "text"
      },
      "source": [
        "# **Predict the sentiment of reviews**"
      ]
    },
    {
      "cell_type": "code",
      "metadata": {
        "id": "E6nsDgjVHSMz",
        "colab_type": "code",
        "colab": {}
      },
      "source": [
        "def predict_review(model, new_sentences, maxlen=max_length, show_padded_sequence=True ):\n",
        "  # Keep the original sentences so that we can keep using them later\n",
        "  # Create an array to hold the encoded sequences\n",
        "  new_sequences = []\n",
        "\n",
        "  # Convert the new reviews to sequences\n",
        "  for i, frvw in enumerate(new_sentences):\n",
        "    new_sequences.append(tokenizer.encode(frvw))\n",
        "\n",
        "  trunc_type='post' \n",
        "  padding_type='post'\n",
        "\n",
        "  # Pad all sequences for the new reviews\n",
        "  new_reviews_padded = pad_sequences(new_sequences, maxlen=max_length, \n",
        "                                 padding=padding_type, truncating=trunc_type)             \n",
        "\n",
        "  classes = model.predict(new_reviews_padded)\n",
        "\n",
        "  # The closer the class is to 1, the more positive the review is\n",
        "  for x in range(len(new_sentences)):\n",
        "    \n",
        "    # We can see the padded sequence if desired\n",
        "    # Print the sequence\n",
        "    if (show_padded_sequence):\n",
        "      print(new_reviews_padded[x])\n",
        "    # Print the review as text\n",
        "    print(new_sentences[x])\n",
        "    # Print its predicted class\n",
        "    print(classes[x])\n",
        "    print(\"\\n\")"
      ],
      "execution_count": 21,
      "outputs": []
    },
    {
      "cell_type": "code",
      "metadata": {
        "id": "qxBwXqVKLd_i",
        "colab_type": "code",
        "colab": {}
      },
      "source": [
        "# some revies for test the model prediction\n",
        "test_reviews = [\"I love pure sweet chocolate!\", \n",
        "                \"The restaurant is full of smoke\",\n",
        "                \"The expired cheese is bad smelly\", \n",
        "                \"The weather is so hot and causing children sweat\", \n",
        "                \"The cake has taste problem\",\n",
        "                \"He do not cook in working day\", \n",
        "                \"We should not waste any food or drinks\"\n",
        "              ]"
      ],
      "execution_count": 22,
      "outputs": []
    },
    {
      "cell_type": "code",
      "metadata": {
        "id": "P76NAV1cReRm",
        "colab_type": "code",
        "colab": {
          "base_uri": "https://localhost:8080/",
          "height": 850
        },
        "outputId": "1b73d8df-563a-493f-901b-89d386494fa2"
      },
      "source": [
        "predict_review(model, test_reviews)"
      ],
      "execution_count": 23,
      "outputs": [
        {
          "output_type": "stream",
          "text": [
            "[  4 281 336 229 858 416   8 569 547 147 319 776   0   0   0   0   0   0\n",
            "   0   0   0   0   0   0   0   0   0   0   0   0   0   0   0   0   0   0\n",
            "   0   0   0   0   0   0   0   0   0   0   0   0   0   0]\n",
            "I love pure sweet chocolate!\n",
            "[0.9749161]\n",
            "\n",
            "\n",
            "[ 13 329 347 775   7 357  37  15 309 443 844   0   0   0   0   0   0   0\n",
            "   0   0   0   0   0   0   0   0   0   0   0   0   0   0   0   0   0   0\n",
            "   0   0   0   0   0   0   0   0   0   0   0   0   0   0]\n",
            "The restaurant is full of smoke\n",
            "[0.5411048]\n",
            "\n",
            "\n",
            "[ 13 333 107 475 775 124  60  12   7 621 309 133 298   0   0   0   0   0\n",
            "   0   0   0   0   0   0   0   0   0   0   0   0   0   0   0   0   0   0\n",
            "   0   0   0   0   0   0   0   0   0   0   0   0   0   0]\n",
            "The expired cheese is bad smelly\n",
            "[0.02513659]\n",
            "\n",
            "\n",
            "[ 13  93 106 315   7  42 109   8   2 125 265  26 287 851 244 454 858  93\n",
            " 106   0   0   0   0   0   0   0   0   0   0   0   0   0   0   0   0   0\n",
            "   0   0   0   0   0   0   0   0   0   0   0   0   0   0]\n",
            "The weather is so hot and causing children sweat\n",
            "[0.026861]\n",
            "\n",
            "\n",
            "[ 13 125  85 775 152 391 775 442 196   0   0   0   0   0   0   0   0   0\n",
            "   0   0   0   0   0   0   0   0   0   0   0   0   0   0   0   0   0   0\n",
            "   0   0   0   0   0   0   0   0   0   0   0   0   0   0]\n",
            "The cake has taste problem\n",
            "[0.0270715]\n",
            "\n",
            "\n",
            "[815  12 522  18 407  67  19 498  26 406   0   0   0   0   0   0   0   0\n",
            "   0   0   0   0   0   0   0   0   0   0   0   0   0   0   0   0   0   0\n",
            "   0   0   0   0   0   0   0   0   0   0   0   0   0   0]\n",
            "He do not cook in working day\n",
            "[0.03016775]\n",
            "\n",
            "\n",
            "[211 328 503 775  18 584 775 226  50 117 566 853 850 858   0   0   0   0\n",
            "   0   0   0   0   0   0   0   0   0   0   0   0   0   0   0   0   0   0\n",
            "   0   0   0   0   0   0   0   0   0   0   0   0   0   0]\n",
            "We should not waste any food or drinks\n",
            "[0.01604057]\n",
            "\n",
            "\n"
          ],
          "name": "stdout"
        }
      ]
    },
    {
      "cell_type": "code",
      "metadata": {
        "id": "2_GTNWSZRhU3",
        "colab_type": "code",
        "colab": {}
      },
      "source": [
        "def fit_model_now (model, sentences) :\n",
        "  model.compile(loss='binary_crossentropy',optimizer='adam',metrics=['accuracy'])\n",
        "  model.summary()\n",
        "  history = model.fit(training_sequences, training_labels_final, epochs=num_epochs, \n",
        "                      validation_data=(testing_sequences, testing_labels_final))\n",
        "  return history\n",
        "\n",
        "def plot_results (history):\n",
        "  plot_graphs(history, \"accuracy\")\n",
        "  plot_graphs(history, \"loss\")\n",
        "\n",
        "def fit_model_and_show_results (model, sentences):\n",
        "  history = fit_model_now(model, sentences)\n",
        "  plot_results(history)\n",
        "  predict_review(model, sentences)"
      ],
      "execution_count": 24,
      "outputs": []
    },
    {
      "cell_type": "markdown",
      "metadata": {
        "id": "4KbQxpbATbqI",
        "colab_type": "text"
      },
      "source": [
        "# **Add a regulization**"
      ]
    },
    {
      "cell_type": "code",
      "metadata": {
        "id": "RN7JiPwrTY_b",
        "colab_type": "code",
        "colab": {
          "base_uri": "https://localhost:8080/",
          "height": 1000
        },
        "outputId": "77fe8804-23a3-4103-8dab-80f630c211bb"
      },
      "source": [
        "regularized_model = tf.keras.Sequential([\n",
        "    tf.keras.layers.Embedding(vocab_size, embedding_dim, input_length=max_length),\n",
        "    tf.keras.layers.GlobalAveragePooling1D(), \n",
        "    tf.keras.layers.Dense(6, activation='relu', use_bias=True),\n",
        "    tf.keras.layers.Dense(1, activation='sigmoid')\n",
        "])\n",
        "\n",
        "# Compile and train the model and then show the predictions for our extra sentences\n",
        "fit_model_and_show_results(regularized_model, test_reviews)"
      ],
      "execution_count": 25,
      "outputs": [
        {
          "output_type": "stream",
          "text": [
            "Model: \"sequential_2\"\n",
            "_________________________________________________________________\n",
            "Layer (type)                 Output Shape              Param #   \n",
            "=================================================================\n",
            "embedding_2 (Embedding)      (None, 50, 16)            16000     \n",
            "_________________________________________________________________\n",
            "global_average_pooling1d_2 ( (None, 16)                0         \n",
            "_________________________________________________________________\n",
            "dense_4 (Dense)              (None, 6)                 102       \n",
            "_________________________________________________________________\n",
            "dense_5 (Dense)              (None, 1)                 7         \n",
            "=================================================================\n",
            "Total params: 16,109\n",
            "Trainable params: 16,109\n",
            "Non-trainable params: 0\n",
            "_________________________________________________________________\n",
            "Epoch 1/50\n",
            "50/50 [==============================] - 0s 6ms/step - loss: 0.6917 - accuracy: 0.5235 - val_loss: 0.6984 - val_accuracy: 0.4110\n",
            "Epoch 2/50\n",
            "50/50 [==============================] - 0s 3ms/step - loss: 0.6881 - accuracy: 0.5298 - val_loss: 0.6983 - val_accuracy: 0.4286\n",
            "Epoch 3/50\n",
            "50/50 [==============================] - 0s 3ms/step - loss: 0.6825 - accuracy: 0.5549 - val_loss: 0.6959 - val_accuracy: 0.4637\n",
            "Epoch 4/50\n",
            "50/50 [==============================] - 0s 3ms/step - loss: 0.6737 - accuracy: 0.5756 - val_loss: 0.6876 - val_accuracy: 0.5088\n",
            "Epoch 5/50\n",
            "50/50 [==============================] - 0s 4ms/step - loss: 0.6601 - accuracy: 0.6434 - val_loss: 0.6793 - val_accuracy: 0.5288\n",
            "Epoch 6/50\n",
            "50/50 [==============================] - 0s 4ms/step - loss: 0.6379 - accuracy: 0.6849 - val_loss: 0.6542 - val_accuracy: 0.6416\n",
            "Epoch 7/50\n",
            "50/50 [==============================] - 0s 3ms/step - loss: 0.6033 - accuracy: 0.7546 - val_loss: 0.6243 - val_accuracy: 0.7093\n",
            "Epoch 8/50\n",
            "50/50 [==============================] - 0s 3ms/step - loss: 0.5650 - accuracy: 0.7966 - val_loss: 0.5944 - val_accuracy: 0.7820\n",
            "Epoch 9/50\n",
            "50/50 [==============================] - 0s 3ms/step - loss: 0.5232 - accuracy: 0.8223 - val_loss: 0.5775 - val_accuracy: 0.7368\n",
            "Epoch 10/50\n",
            "50/50 [==============================] - 0s 3ms/step - loss: 0.4829 - accuracy: 0.8406 - val_loss: 0.5527 - val_accuracy: 0.7444\n",
            "Epoch 11/50\n",
            "50/50 [==============================] - 0s 3ms/step - loss: 0.4456 - accuracy: 0.8569 - val_loss: 0.5443 - val_accuracy: 0.7343\n",
            "Epoch 12/50\n",
            "50/50 [==============================] - 0s 4ms/step - loss: 0.4119 - accuracy: 0.8682 - val_loss: 0.5288 - val_accuracy: 0.7368\n",
            "Epoch 13/50\n",
            "50/50 [==============================] - 0s 3ms/step - loss: 0.3835 - accuracy: 0.8726 - val_loss: 0.5170 - val_accuracy: 0.7444\n",
            "Epoch 14/50\n",
            "50/50 [==============================] - 0s 3ms/step - loss: 0.3548 - accuracy: 0.8807 - val_loss: 0.5257 - val_accuracy: 0.7343\n",
            "Epoch 15/50\n",
            "50/50 [==============================] - 0s 3ms/step - loss: 0.3342 - accuracy: 0.8738 - val_loss: 0.4928 - val_accuracy: 0.7669\n",
            "Epoch 16/50\n",
            "50/50 [==============================] - 0s 3ms/step - loss: 0.3110 - accuracy: 0.8939 - val_loss: 0.5077 - val_accuracy: 0.7494\n",
            "Epoch 17/50\n",
            "50/50 [==============================] - 0s 4ms/step - loss: 0.2970 - accuracy: 0.8914 - val_loss: 0.4967 - val_accuracy: 0.7619\n",
            "Epoch 18/50\n",
            "50/50 [==============================] - 0s 4ms/step - loss: 0.2797 - accuracy: 0.9027 - val_loss: 0.5107 - val_accuracy: 0.7544\n",
            "Epoch 19/50\n",
            "50/50 [==============================] - 0s 3ms/step - loss: 0.2648 - accuracy: 0.9096 - val_loss: 0.5010 - val_accuracy: 0.7569\n",
            "Epoch 20/50\n",
            "50/50 [==============================] - 0s 3ms/step - loss: 0.2513 - accuracy: 0.9127 - val_loss: 0.5282 - val_accuracy: 0.7519\n",
            "Epoch 21/50\n",
            "50/50 [==============================] - 0s 4ms/step - loss: 0.2394 - accuracy: 0.9203 - val_loss: 0.5157 - val_accuracy: 0.7519\n",
            "Epoch 22/50\n",
            "50/50 [==============================] - 0s 4ms/step - loss: 0.2296 - accuracy: 0.9228 - val_loss: 0.5388 - val_accuracy: 0.7519\n",
            "Epoch 23/50\n",
            "50/50 [==============================] - 0s 4ms/step - loss: 0.2210 - accuracy: 0.9278 - val_loss: 0.5570 - val_accuracy: 0.7544\n",
            "Epoch 24/50\n",
            "50/50 [==============================] - 0s 3ms/step - loss: 0.2125 - accuracy: 0.9291 - val_loss: 0.5276 - val_accuracy: 0.7519\n",
            "Epoch 25/50\n",
            "50/50 [==============================] - 0s 3ms/step - loss: 0.2050 - accuracy: 0.9341 - val_loss: 0.5360 - val_accuracy: 0.7544\n",
            "Epoch 26/50\n",
            "50/50 [==============================] - 0s 4ms/step - loss: 0.1960 - accuracy: 0.9410 - val_loss: 0.5437 - val_accuracy: 0.7544\n",
            "Epoch 27/50\n",
            "50/50 [==============================] - 0s 4ms/step - loss: 0.1895 - accuracy: 0.9397 - val_loss: 0.5683 - val_accuracy: 0.7519\n",
            "Epoch 28/50\n",
            "50/50 [==============================] - 0s 4ms/step - loss: 0.1822 - accuracy: 0.9435 - val_loss: 0.5635 - val_accuracy: 0.7544\n",
            "Epoch 29/50\n",
            "50/50 [==============================] - 0s 4ms/step - loss: 0.1755 - accuracy: 0.9479 - val_loss: 0.5797 - val_accuracy: 0.7494\n",
            "Epoch 30/50\n",
            "50/50 [==============================] - 0s 3ms/step - loss: 0.1709 - accuracy: 0.9498 - val_loss: 0.6012 - val_accuracy: 0.7569\n",
            "Epoch 31/50\n",
            "50/50 [==============================] - 0s 4ms/step - loss: 0.1648 - accuracy: 0.9517 - val_loss: 0.6555 - val_accuracy: 0.7268\n",
            "Epoch 32/50\n",
            "50/50 [==============================] - 0s 4ms/step - loss: 0.1606 - accuracy: 0.9517 - val_loss: 0.6005 - val_accuracy: 0.7544\n",
            "Epoch 33/50\n",
            "50/50 [==============================] - 0s 4ms/step - loss: 0.1543 - accuracy: 0.9542 - val_loss: 0.6084 - val_accuracy: 0.7569\n",
            "Epoch 34/50\n",
            "50/50 [==============================] - 0s 3ms/step - loss: 0.1489 - accuracy: 0.9579 - val_loss: 0.6399 - val_accuracy: 0.7544\n",
            "Epoch 35/50\n",
            "50/50 [==============================] - 0s 3ms/step - loss: 0.1476 - accuracy: 0.9586 - val_loss: 0.6574 - val_accuracy: 0.7569\n",
            "Epoch 36/50\n",
            "50/50 [==============================] - 0s 4ms/step - loss: 0.1435 - accuracy: 0.9598 - val_loss: 0.6727 - val_accuracy: 0.7544\n",
            "Epoch 37/50\n",
            "50/50 [==============================] - 0s 4ms/step - loss: 0.1362 - accuracy: 0.9655 - val_loss: 0.6693 - val_accuracy: 0.7544\n",
            "Epoch 38/50\n",
            "50/50 [==============================] - 0s 4ms/step - loss: 0.1313 - accuracy: 0.9680 - val_loss: 0.6896 - val_accuracy: 0.7544\n",
            "Epoch 39/50\n",
            "50/50 [==============================] - 0s 4ms/step - loss: 0.1271 - accuracy: 0.9680 - val_loss: 0.7034 - val_accuracy: 0.7494\n",
            "Epoch 40/50\n",
            "50/50 [==============================] - 0s 3ms/step - loss: 0.1244 - accuracy: 0.9705 - val_loss: 0.7116 - val_accuracy: 0.7544\n",
            "Epoch 41/50\n",
            "50/50 [==============================] - 0s 3ms/step - loss: 0.1189 - accuracy: 0.9711 - val_loss: 0.7385 - val_accuracy: 0.7494\n",
            "Epoch 42/50\n",
            "50/50 [==============================] - 0s 3ms/step - loss: 0.1164 - accuracy: 0.9718 - val_loss: 0.7737 - val_accuracy: 0.7368\n",
            "Epoch 43/50\n",
            "50/50 [==============================] - 0s 4ms/step - loss: 0.1114 - accuracy: 0.9749 - val_loss: 0.7809 - val_accuracy: 0.7368\n",
            "Epoch 44/50\n",
            "50/50 [==============================] - 0s 5ms/step - loss: 0.1099 - accuracy: 0.9736 - val_loss: 0.7749 - val_accuracy: 0.7519\n",
            "Epoch 45/50\n",
            "50/50 [==============================] - 0s 3ms/step - loss: 0.1064 - accuracy: 0.9743 - val_loss: 0.7676 - val_accuracy: 0.7519\n",
            "Epoch 46/50\n",
            "50/50 [==============================] - 0s 3ms/step - loss: 0.1027 - accuracy: 0.9755 - val_loss: 0.7914 - val_accuracy: 0.7494\n",
            "Epoch 47/50\n",
            "50/50 [==============================] - 0s 3ms/step - loss: 0.1003 - accuracy: 0.9768 - val_loss: 0.8268 - val_accuracy: 0.7469\n",
            "Epoch 48/50\n",
            "50/50 [==============================] - 0s 3ms/step - loss: 0.0952 - accuracy: 0.9780 - val_loss: 0.8121 - val_accuracy: 0.7519\n",
            "Epoch 49/50\n",
            "50/50 [==============================] - 0s 4ms/step - loss: 0.0934 - accuracy: 0.9780 - val_loss: 0.8502 - val_accuracy: 0.7444\n",
            "Epoch 50/50\n",
            "50/50 [==============================] - 0s 3ms/step - loss: 0.0908 - accuracy: 0.9793 - val_loss: 0.8761 - val_accuracy: 0.7469\n"
          ],
          "name": "stdout"
        },
        {
          "output_type": "display_data",
          "data": {
            "image/png": "[encoded data removed]",
            "text/plain": [
              "<Figure size 432x288 with 1 Axes>"
            ]
          },
          "metadata": {
            "tags": [],
            "needs_background": "light"
          }
        },
        {
          "output_type": "display_data",
          "data": {
            "image/png": "[encoded data removed]",
            "text/plain": [
              "<Figure size 432x288 with 1 Axes>"
            ]
          },
          "metadata": {
            "tags": [],
            "needs_background": "light"
          }
        },
        {
          "output_type": "stream",
          "text": [
            "[  4 281 336 229 858 416   8 569 547 147 319 776   0   0   0   0   0   0\n",
            "   0   0   0   0   0   0   0   0   0   0   0   0   0   0   0   0   0   0\n",
            "   0   0   0   0   0   0   0   0   0   0   0   0   0   0]\n",
            "I love pure sweet chocolate!\n",
            "[0.980495]\n",
            "\n",
            "\n",
            "[ 13 329 347 775   7 357  37  15 309 443 844   0   0   0   0   0   0   0\n",
            "   0   0   0   0   0   0   0   0   0   0   0   0   0   0   0   0   0   0\n",
            "   0   0   0   0   0   0   0   0   0   0   0   0   0   0]\n",
            "The restaurant is full of smoke\n",
            "[0.6103002]\n",
            "\n",
            "\n",
            "[ 13 333 107 475 775 124  60  12   7 621 309 133 298   0   0   0   0   0\n",
            "   0   0   0   0   0   0   0   0   0   0   0   0   0   0   0   0   0   0\n",
            "   0   0   0   0   0   0   0   0   0   0   0   0   0   0]\n",
            "The expired cheese is bad smelly\n",
            "[0.01670883]\n",
            "\n",
            "\n",
            "[ 13  93 106 315   7  42 109   8   2 125 265  26 287 851 244 454 858  93\n",
            " 106   0   0   0   0   0   0   0   0   0   0   0   0   0   0   0   0   0\n",
            "   0   0   0   0   0   0   0   0   0   0   0   0   0   0]\n",
            "The weather is so hot and causing children sweat\n",
            "[0.01576889]\n",
            "\n",
            "\n",
            "[ 13 125  85 775 152 391 775 442 196   0   0   0   0   0   0   0   0   0\n",
            "   0   0   0   0   0   0   0   0   0   0   0   0   0   0   0   0   0   0\n",
            "   0   0   0   0   0   0   0   0   0   0   0   0   0   0]\n",
            "The cake has taste problem\n",
            "[0.0397635]\n",
            "\n",
            "\n",
            "[815  12 522  18 407  67  19 498  26 406   0   0   0   0   0   0   0   0\n",
            "   0   0   0   0   0   0   0   0   0   0   0   0   0   0   0   0   0   0\n",
            "   0   0   0   0   0   0   0   0   0   0   0   0   0   0]\n",
            "He do not cook in working day\n",
            "[0.03929646]\n",
            "\n",
            "\n",
            "[211 328 503 775  18 584 775 226  50 117 566 853 850 858   0   0   0   0\n",
            "   0   0   0   0   0   0   0   0   0   0   0   0   0   0   0   0   0   0\n",
            "   0   0   0   0   0   0   0   0   0   0   0   0   0   0]\n",
            "We should not waste any food or drinks\n",
            "[0.00705239]\n",
            "\n",
            "\n"
          ],
          "name": "stdout"
        }
      ]
    },
    {
      "cell_type": "markdown",
      "metadata": {
        "id": "iDxBmTTNUJGK",
        "colab_type": "text"
      },
      "source": [
        "# **Add bidirectional LSTM layer**"
      ]
    },
    {
      "cell_type": "code",
      "metadata": {
        "id": "nrwqYXhrT41V",
        "colab_type": "code",
        "colab": {
          "base_uri": "https://localhost:8080/",
          "height": 1000
        },
        "outputId": "1a3150a4-0357-4543-fd3b-916be003f26f"
      },
      "source": [
        "model_bidi_lstm = tf.keras.Sequential([\n",
        "    tf.keras.layers.Embedding(vocab_size, embedding_dim, input_length=max_length),\n",
        "    tf.keras.layers.Bidirectional(tf.keras.layers.LSTM(embedding_dim)), \n",
        "    tf.keras.layers.Dense(6, activation='relu'), \n",
        "    tf.keras.layers.Dense(1, activation='sigmoid')\n",
        "])\n",
        "\n",
        "# Compile and train the model and then show the predictions for our extra sentences\n",
        "fit_model_and_show_results(model_bidi_lstm, test_reviews)"
      ],
      "execution_count": 26,
      "outputs": [
        {
          "output_type": "stream",
          "text": [
            "Model: \"sequential_3\"\n",
            "_________________________________________________________________\n",
            "Layer (type)                 Output Shape              Param #   \n",
            "=================================================================\n",
            "embedding_3 (Embedding)      (None, 50, 16)            16000     \n",
            "_________________________________________________________________\n",
            "bidirectional (Bidirectional (None, 32)                4224      \n",
            "_________________________________________________________________\n",
            "dense_6 (Dense)              (None, 6)                 198       \n",
            "_________________________________________________________________\n",
            "dense_7 (Dense)              (None, 1)                 7         \n",
            "=================================================================\n",
            "Total params: 20,429\n",
            "Trainable params: 20,429\n",
            "Non-trainable params: 0\n",
            "_________________________________________________________________\n",
            "Epoch 1/50\n",
            "50/50 [==============================] - 1s 22ms/step - loss: 0.6926 - accuracy: 0.5210 - val_loss: 0.6965 - val_accuracy: 0.4110\n",
            "Epoch 2/50\n",
            "50/50 [==============================] - 0s 9ms/step - loss: 0.6782 - accuracy: 0.5587 - val_loss: 0.6624 - val_accuracy: 0.6416\n",
            "Epoch 3/50\n",
            "50/50 [==============================] - 1s 10ms/step - loss: 0.5531 - accuracy: 0.7615 - val_loss: 0.5188 - val_accuracy: 0.7644\n",
            "Epoch 4/50\n",
            "50/50 [==============================] - 0s 9ms/step - loss: 0.3894 - accuracy: 0.8500 - val_loss: 0.4867 - val_accuracy: 0.7694\n",
            "Epoch 5/50\n",
            "50/50 [==============================] - 0s 9ms/step - loss: 0.2818 - accuracy: 0.8983 - val_loss: 0.5854 - val_accuracy: 0.7444\n",
            "Epoch 6/50\n",
            "50/50 [==============================] - 0s 9ms/step - loss: 0.2394 - accuracy: 0.9071 - val_loss: 0.7272 - val_accuracy: 0.7594\n",
            "Epoch 7/50\n",
            "50/50 [==============================] - 0s 10ms/step - loss: 0.1935 - accuracy: 0.9347 - val_loss: 0.6382 - val_accuracy: 0.7519\n",
            "Epoch 8/50\n",
            "50/50 [==============================] - 0s 9ms/step - loss: 0.1617 - accuracy: 0.9529 - val_loss: 0.7541 - val_accuracy: 0.7444\n",
            "Epoch 9/50\n",
            "50/50 [==============================] - 0s 9ms/step - loss: 0.1542 - accuracy: 0.9554 - val_loss: 0.8016 - val_accuracy: 0.7444\n",
            "Epoch 10/50\n",
            "50/50 [==============================] - 0s 9ms/step - loss: 0.1497 - accuracy: 0.9542 - val_loss: 0.8059 - val_accuracy: 0.7594\n",
            "Epoch 11/50\n",
            "50/50 [==============================] - 0s 10ms/step - loss: 0.1349 - accuracy: 0.9605 - val_loss: 0.8363 - val_accuracy: 0.7594\n",
            "Epoch 12/50\n",
            "50/50 [==============================] - 0s 9ms/step - loss: 0.1203 - accuracy: 0.9667 - val_loss: 0.7222 - val_accuracy: 0.7694\n",
            "Epoch 13/50\n",
            "50/50 [==============================] - 0s 9ms/step - loss: 0.1046 - accuracy: 0.9736 - val_loss: 0.8571 - val_accuracy: 0.7594\n",
            "Epoch 14/50\n",
            "50/50 [==============================] - 0s 9ms/step - loss: 0.0948 - accuracy: 0.9774 - val_loss: 0.7600 - val_accuracy: 0.7845\n",
            "Epoch 15/50\n",
            "50/50 [==============================] - 0s 9ms/step - loss: 0.1326 - accuracy: 0.9605 - val_loss: 1.0438 - val_accuracy: 0.7519\n",
            "Epoch 16/50\n",
            "50/50 [==============================] - 0s 9ms/step - loss: 0.0971 - accuracy: 0.9730 - val_loss: 0.9274 - val_accuracy: 0.7544\n",
            "Epoch 17/50\n",
            "50/50 [==============================] - 0s 9ms/step - loss: 0.0733 - accuracy: 0.9843 - val_loss: 0.9291 - val_accuracy: 0.7544\n",
            "Epoch 18/50\n",
            "50/50 [==============================] - 0s 9ms/step - loss: 0.1128 - accuracy: 0.9686 - val_loss: 1.2462 - val_accuracy: 0.7419\n",
            "Epoch 19/50\n",
            "50/50 [==============================] - 1s 10ms/step - loss: 0.0601 - accuracy: 0.9900 - val_loss: 1.0720 - val_accuracy: 0.7544\n",
            "Epoch 20/50\n",
            "50/50 [==============================] - 0s 9ms/step - loss: 0.0529 - accuracy: 0.9912 - val_loss: 1.0961 - val_accuracy: 0.7544\n",
            "Epoch 21/50\n",
            "50/50 [==============================] - 0s 9ms/step - loss: 0.0471 - accuracy: 0.9925 - val_loss: 1.0828 - val_accuracy: 0.7519\n",
            "Epoch 22/50\n",
            "50/50 [==============================] - 0s 9ms/step - loss: 0.0446 - accuracy: 0.9931 - val_loss: 1.1547 - val_accuracy: 0.7494\n",
            "Epoch 23/50\n",
            "50/50 [==============================] - 0s 9ms/step - loss: 0.0422 - accuracy: 0.9931 - val_loss: 1.1693 - val_accuracy: 0.7544\n",
            "Epoch 24/50\n",
            "50/50 [==============================] - 0s 9ms/step - loss: 0.0411 - accuracy: 0.9931 - val_loss: 1.1725 - val_accuracy: 0.7519\n",
            "Epoch 25/50\n",
            "50/50 [==============================] - 0s 9ms/step - loss: 0.0399 - accuracy: 0.9931 - val_loss: 1.1433 - val_accuracy: 0.7494\n",
            "Epoch 26/50\n",
            "50/50 [==============================] - 0s 9ms/step - loss: 0.0388 - accuracy: 0.9937 - val_loss: 1.1878 - val_accuracy: 0.7469\n",
            "Epoch 27/50\n",
            "50/50 [==============================] - 0s 9ms/step - loss: 0.0379 - accuracy: 0.9937 - val_loss: 1.2088 - val_accuracy: 0.7469\n",
            "Epoch 28/50\n",
            "50/50 [==============================] - 0s 9ms/step - loss: 0.0370 - accuracy: 0.9937 - val_loss: 1.2140 - val_accuracy: 0.7494\n",
            "Epoch 29/50\n",
            "50/50 [==============================] - 0s 9ms/step - loss: 0.0359 - accuracy: 0.9937 - val_loss: 1.2294 - val_accuracy: 0.7494\n",
            "Epoch 30/50\n",
            "50/50 [==============================] - 0s 9ms/step - loss: 0.0339 - accuracy: 0.9937 - val_loss: 1.2184 - val_accuracy: 0.7419\n",
            "Epoch 31/50\n",
            "50/50 [==============================] - 0s 9ms/step - loss: 0.0319 - accuracy: 0.9950 - val_loss: 1.2431 - val_accuracy: 0.7393\n",
            "Epoch 32/50\n",
            "50/50 [==============================] - 0s 9ms/step - loss: 0.0307 - accuracy: 0.9950 - val_loss: 1.2863 - val_accuracy: 0.7519\n",
            "Epoch 33/50\n",
            "50/50 [==============================] - 0s 9ms/step - loss: 0.0303 - accuracy: 0.9950 - val_loss: 1.3091 - val_accuracy: 0.7494\n",
            "Epoch 34/50\n",
            "50/50 [==============================] - 0s 9ms/step - loss: 0.0296 - accuracy: 0.9950 - val_loss: 1.3068 - val_accuracy: 0.7444\n",
            "Epoch 35/50\n",
            "50/50 [==============================] - 0s 9ms/step - loss: 0.0275 - accuracy: 0.9950 - val_loss: 1.2974 - val_accuracy: 0.7419\n",
            "Epoch 36/50\n",
            "50/50 [==============================] - 0s 9ms/step - loss: 0.0267 - accuracy: 0.9956 - val_loss: 1.3445 - val_accuracy: 0.7393\n",
            "Epoch 37/50\n",
            "50/50 [==============================] - 0s 9ms/step - loss: 0.0261 - accuracy: 0.9956 - val_loss: 1.3580 - val_accuracy: 0.7393\n",
            "Epoch 38/50\n",
            "50/50 [==============================] - 0s 9ms/step - loss: 0.0258 - accuracy: 0.9956 - val_loss: 1.3936 - val_accuracy: 0.7469\n",
            "Epoch 39/50\n",
            "50/50 [==============================] - 0s 9ms/step - loss: 0.0252 - accuracy: 0.9956 - val_loss: 1.3985 - val_accuracy: 0.7419\n",
            "Epoch 40/50\n",
            "50/50 [==============================] - 0s 9ms/step - loss: 0.0674 - accuracy: 0.9837 - val_loss: 1.2579 - val_accuracy: 0.7519\n",
            "Epoch 41/50\n",
            "50/50 [==============================] - 0s 9ms/step - loss: 0.1212 - accuracy: 0.9686 - val_loss: 1.0075 - val_accuracy: 0.7469\n",
            "Epoch 42/50\n",
            "50/50 [==============================] - 0s 9ms/step - loss: 0.1070 - accuracy: 0.9648 - val_loss: 1.2991 - val_accuracy: 0.7293\n",
            "Epoch 43/50\n",
            "50/50 [==============================] - 0s 9ms/step - loss: 0.0544 - accuracy: 0.9862 - val_loss: 1.1298 - val_accuracy: 0.7519\n",
            "Epoch 44/50\n",
            "50/50 [==============================] - 0s 9ms/step - loss: 0.0365 - accuracy: 0.9937 - val_loss: 1.3621 - val_accuracy: 0.7419\n",
            "Epoch 45/50\n",
            "50/50 [==============================] - 0s 10ms/step - loss: 0.0314 - accuracy: 0.9950 - val_loss: 1.2101 - val_accuracy: 0.7444\n",
            "Epoch 46/50\n",
            "50/50 [==============================] - 1s 11ms/step - loss: 0.0364 - accuracy: 0.9925 - val_loss: 1.2924 - val_accuracy: 0.7519\n",
            "Epoch 47/50\n",
            "50/50 [==============================] - 1s 11ms/step - loss: 0.0286 - accuracy: 0.9950 - val_loss: 1.2907 - val_accuracy: 0.7594\n",
            "Epoch 48/50\n",
            "50/50 [==============================] - 0s 9ms/step - loss: 0.0264 - accuracy: 0.9956 - val_loss: 1.3620 - val_accuracy: 0.7569\n",
            "Epoch 49/50\n",
            "50/50 [==============================] - 0s 9ms/step - loss: 0.0243 - accuracy: 0.9956 - val_loss: 1.3519 - val_accuracy: 0.7569\n",
            "Epoch 50/50\n",
            "50/50 [==============================] - 0s 9ms/step - loss: 0.0229 - accuracy: 0.9962 - val_loss: 1.3644 - val_accuracy: 0.7569\n"
          ],
          "name": "stdout"
        },
        {
          "output_type": "display_data",
          "data": {
            "image/png": "[encoded data removed]",
            "text/plain": [
              "<Figure size 432x288 with 1 Axes>"
            ]
          },
          "metadata": {
            "tags": [],
            "needs_background": "light"
          }
        },
        {
          "output_type": "display_data",
          "data": {
            "image/png": "[encoded data removed]",
            "text/plain": [
              "<Figure size 432x288 with 1 Axes>"
            ]
          },
          "metadata": {
            "tags": [],
            "needs_background": "light"
          }
        },
        {
          "output_type": "stream",
          "text": [
            "[  4 281 336 229 858 416   8 569 547 147 319 776   0   0   0   0   0   0\n",
            "   0   0   0   0   0   0   0   0   0   0   0   0   0   0   0   0   0   0\n",
            "   0   0   0   0   0   0   0   0   0   0   0   0   0   0]\n",
            "I love pure sweet chocolate!\n",
            "[0.99994254]\n",
            "\n",
            "\n",
            "[ 13 329 347 775   7 357  37  15 309 443 844   0   0   0   0   0   0   0\n",
            "   0   0   0   0   0   0   0   0   0   0   0   0   0   0   0   0   0   0\n",
            "   0   0   0   0   0   0   0   0   0   0   0   0   0   0]\n",
            "The restaurant is full of smoke\n",
            "[0.9828472]\n",
            "\n",
            "\n",
            "[ 13 333 107 475 775 124  60  12   7 621 309 133 298   0   0   0   0   0\n",
            "   0   0   0   0   0   0   0   0   0   0   0   0   0   0   0   0   0   0\n",
            "   0   0   0   0   0   0   0   0   0   0   0   0   0   0]\n",
            "The expired cheese is bad smelly\n",
            "[0.00576439]\n",
            "\n",
            "\n",
            "[ 13  93 106 315   7  42 109   8   2 125 265  26 287 851 244 454 858  93\n",
            " 106   0   0   0   0   0   0   0   0   0   0   0   0   0   0   0   0   0\n",
            "   0   0   0   0   0   0   0   0   0   0   0   0   0   0]\n",
            "The weather is so hot and causing children sweat\n",
            "[0.00539704]\n",
            "\n",
            "\n",
            "[ 13 125  85 775 152 391 775 442 196   0   0   0   0   0   0   0   0   0\n",
            "   0   0   0   0   0   0   0   0   0   0   0   0   0   0   0   0   0   0\n",
            "   0   0   0   0   0   0   0   0   0   0   0   0   0   0]\n",
            "The cake has taste problem\n",
            "[0.00456627]\n",
            "\n",
            "\n",
            "[815  12 522  18 407  67  19 498  26 406   0   0   0   0   0   0   0   0\n",
            "   0   0   0   0   0   0   0   0   0   0   0   0   0   0   0   0   0   0\n",
            "   0   0   0   0   0   0   0   0   0   0   0   0   0   0]\n",
            "He do not cook in working day\n",
            "[0.00730226]\n",
            "\n",
            "\n",
            "[211 328 503 775  18 584 775 226  50 117 566 853 850 858   0   0   0   0\n",
            "   0   0   0   0   0   0   0   0   0   0   0   0   0   0   0   0   0   0\n",
            "   0   0   0   0   0   0   0   0   0   0   0   0   0   0]\n",
            "We should not waste any food or drinks\n",
            "[0.00325979]\n",
            "\n",
            "\n"
          ],
          "name": "stdout"
        }
      ]
    },
    {
      "cell_type": "code",
      "metadata": {
        "id": "qNdXOIiKUa5B",
        "colab_type": "code",
        "colab": {
          "base_uri": "https://localhost:8080/",
          "height": 1000
        },
        "outputId": "3a799315-1244-4824-a804-92d21d3f8b12"
      },
      "source": [
        "model_multiple_bidi_lstm = tf.keras.Sequential([\n",
        "    tf.keras.layers.Embedding(vocab_size, embedding_dim, input_length=max_length),\n",
        "    tf.keras.layers.Bidirectional(tf.keras.layers.LSTM(embedding_dim, \n",
        "                                                       return_sequences=True)), \n",
        "    tf.keras.layers.Bidirectional(tf.keras.layers.LSTM(embedding_dim)),\n",
        "    tf.keras.layers.Dense(6, activation='relu'),\n",
        "    tf.keras.layers.Dense(1, activation='sigmoid')\n",
        "])\n",
        "\n",
        "fit_model_and_show_results(model_multiple_bidi_lstm, test_reviews)"
      ],
      "execution_count": 27,
      "outputs": [
        {
          "output_type": "stream",
          "text": [
            "Model: \"sequential_4\"\n",
            "_________________________________________________________________\n",
            "Layer (type)                 Output Shape              Param #   \n",
            "=================================================================\n",
            "embedding_4 (Embedding)      (None, 50, 16)            16000     \n",
            "_________________________________________________________________\n",
            "bidirectional_1 (Bidirection (None, 50, 32)            4224      \n",
            "_________________________________________________________________\n",
            "bidirectional_2 (Bidirection (None, 32)                6272      \n",
            "_________________________________________________________________\n",
            "dense_8 (Dense)              (None, 6)                 198       \n",
            "_________________________________________________________________\n",
            "dense_9 (Dense)              (None, 1)                 7         \n",
            "=================================================================\n",
            "Total params: 26,701\n",
            "Trainable params: 26,701\n",
            "Non-trainable params: 0\n",
            "_________________________________________________________________\n",
            "Epoch 1/50\n",
            "50/50 [==============================] - 2s 36ms/step - loss: 0.6909 - accuracy: 0.5185 - val_loss: 0.6989 - val_accuracy: 0.4110\n",
            "Epoch 2/50\n",
            "50/50 [==============================] - 1s 15ms/step - loss: 0.6091 - accuracy: 0.6271 - val_loss: 0.6075 - val_accuracy: 0.7343\n",
            "Epoch 3/50\n",
            "50/50 [==============================] - 1s 17ms/step - loss: 0.4199 - accuracy: 0.8318 - val_loss: 0.4783 - val_accuracy: 0.7995\n",
            "Epoch 4/50\n",
            "50/50 [==============================] - 1s 15ms/step - loss: 0.3160 - accuracy: 0.8832 - val_loss: 0.6221 - val_accuracy: 0.7444\n",
            "Epoch 5/50\n",
            "50/50 [==============================] - 1s 15ms/step - loss: 0.2648 - accuracy: 0.9040 - val_loss: 0.5959 - val_accuracy: 0.7694\n",
            "Epoch 6/50\n",
            "50/50 [==============================] - 1s 15ms/step - loss: 0.2330 - accuracy: 0.9153 - val_loss: 0.6414 - val_accuracy: 0.7820\n",
            "Epoch 7/50\n",
            "50/50 [==============================] - 1s 16ms/step - loss: 0.2021 - accuracy: 0.9247 - val_loss: 0.6285 - val_accuracy: 0.7719\n",
            "Epoch 8/50\n",
            "50/50 [==============================] - 1s 15ms/step - loss: 0.1838 - accuracy: 0.9385 - val_loss: 0.7174 - val_accuracy: 0.7870\n",
            "Epoch 9/50\n",
            "50/50 [==============================] - 1s 15ms/step - loss: 0.1650 - accuracy: 0.9479 - val_loss: 0.8486 - val_accuracy: 0.7619\n",
            "Epoch 10/50\n",
            "50/50 [==============================] - 1s 15ms/step - loss: 0.1373 - accuracy: 0.9586 - val_loss: 0.7740 - val_accuracy: 0.7694\n",
            "Epoch 11/50\n",
            "50/50 [==============================] - 1s 17ms/step - loss: 0.1357 - accuracy: 0.9598 - val_loss: 0.9142 - val_accuracy: 0.7544\n",
            "Epoch 12/50\n",
            "50/50 [==============================] - 1s 15ms/step - loss: 0.1392 - accuracy: 0.9586 - val_loss: 0.8065 - val_accuracy: 0.7494\n",
            "Epoch 13/50\n",
            "50/50 [==============================] - 1s 15ms/step - loss: 0.1544 - accuracy: 0.9517 - val_loss: 0.8422 - val_accuracy: 0.7519\n",
            "Epoch 14/50\n",
            "50/50 [==============================] - 1s 15ms/step - loss: 0.1196 - accuracy: 0.9686 - val_loss: 0.8289 - val_accuracy: 0.7719\n",
            "Epoch 15/50\n",
            "50/50 [==============================] - 1s 15ms/step - loss: 0.1106 - accuracy: 0.9718 - val_loss: 0.9499 - val_accuracy: 0.7644\n",
            "Epoch 16/50\n",
            "50/50 [==============================] - 1s 15ms/step - loss: 0.1422 - accuracy: 0.9579 - val_loss: 0.8656 - val_accuracy: 0.7669\n",
            "Epoch 17/50\n",
            "50/50 [==============================] - 1s 15ms/step - loss: 0.1291 - accuracy: 0.9611 - val_loss: 0.8638 - val_accuracy: 0.7619\n",
            "Epoch 18/50\n",
            "50/50 [==============================] - 1s 14ms/step - loss: 0.1236 - accuracy: 0.9686 - val_loss: 0.7863 - val_accuracy: 0.7719\n",
            "Epoch 19/50\n",
            "50/50 [==============================] - 1s 15ms/step - loss: 0.1041 - accuracy: 0.9749 - val_loss: 0.9660 - val_accuracy: 0.7519\n",
            "Epoch 20/50\n",
            "50/50 [==============================] - 1s 15ms/step - loss: 0.0947 - accuracy: 0.9774 - val_loss: 0.9891 - val_accuracy: 0.7644\n",
            "Epoch 21/50\n",
            "50/50 [==============================] - 1s 15ms/step - loss: 0.0893 - accuracy: 0.9787 - val_loss: 1.0122 - val_accuracy: 0.7669\n",
            "Epoch 22/50\n",
            "50/50 [==============================] - 1s 17ms/step - loss: 0.0829 - accuracy: 0.9805 - val_loss: 1.0518 - val_accuracy: 0.7544\n",
            "Epoch 23/50\n",
            "50/50 [==============================] - 1s 15ms/step - loss: 0.1110 - accuracy: 0.9705 - val_loss: 0.9383 - val_accuracy: 0.7469\n",
            "Epoch 24/50\n",
            "50/50 [==============================] - 1s 16ms/step - loss: 0.1034 - accuracy: 0.9718 - val_loss: 0.9853 - val_accuracy: 0.7393\n",
            "Epoch 25/50\n",
            "50/50 [==============================] - 1s 15ms/step - loss: 0.0873 - accuracy: 0.9787 - val_loss: 1.0103 - val_accuracy: 0.7419\n",
            "Epoch 26/50\n",
            "50/50 [==============================] - 1s 15ms/step - loss: 0.0829 - accuracy: 0.9799 - val_loss: 1.1005 - val_accuracy: 0.7444\n",
            "Epoch 27/50\n",
            "50/50 [==============================] - 1s 15ms/step - loss: 0.0865 - accuracy: 0.9761 - val_loss: 1.1150 - val_accuracy: 0.7594\n",
            "Epoch 28/50\n",
            "50/50 [==============================] - 1s 15ms/step - loss: 0.0743 - accuracy: 0.9818 - val_loss: 1.0709 - val_accuracy: 0.7644\n",
            "Epoch 29/50\n",
            "50/50 [==============================] - 1s 17ms/step - loss: 0.0781 - accuracy: 0.9805 - val_loss: 1.1077 - val_accuracy: 0.7569\n",
            "Epoch 30/50\n",
            "50/50 [==============================] - 1s 17ms/step - loss: 0.0866 - accuracy: 0.9799 - val_loss: 1.0772 - val_accuracy: 0.7519\n",
            "Epoch 31/50\n",
            "50/50 [==============================] - 1s 17ms/step - loss: 0.0735 - accuracy: 0.9824 - val_loss: 1.1011 - val_accuracy: 0.7544\n",
            "Epoch 32/50\n",
            "50/50 [==============================] - 1s 15ms/step - loss: 0.0715 - accuracy: 0.9824 - val_loss: 1.3244 - val_accuracy: 0.7343\n",
            "Epoch 33/50\n",
            "50/50 [==============================] - 1s 15ms/step - loss: 0.0843 - accuracy: 0.9768 - val_loss: 0.9933 - val_accuracy: 0.7544\n",
            "Epoch 34/50\n",
            "50/50 [==============================] - 1s 16ms/step - loss: 0.0978 - accuracy: 0.9718 - val_loss: 1.0468 - val_accuracy: 0.7594\n",
            "Epoch 35/50\n",
            "50/50 [==============================] - 1s 16ms/step - loss: 0.0900 - accuracy: 0.9749 - val_loss: 1.1184 - val_accuracy: 0.7444\n",
            "Epoch 36/50\n",
            "50/50 [==============================] - 1s 15ms/step - loss: 0.0873 - accuracy: 0.9755 - val_loss: 1.0141 - val_accuracy: 0.7719\n",
            "Epoch 37/50\n",
            "50/50 [==============================] - 1s 15ms/step - loss: 0.0734 - accuracy: 0.9818 - val_loss: 1.1247 - val_accuracy: 0.7444\n",
            "Epoch 38/50\n",
            "50/50 [==============================] - 1s 15ms/step - loss: 0.0659 - accuracy: 0.9843 - val_loss: 1.1285 - val_accuracy: 0.7594\n",
            "Epoch 39/50\n",
            "50/50 [==============================] - 1s 15ms/step - loss: 0.0642 - accuracy: 0.9843 - val_loss: 1.1782 - val_accuracy: 0.7544\n",
            "Epoch 40/50\n",
            "50/50 [==============================] - 1s 17ms/step - loss: 0.0639 - accuracy: 0.9843 - val_loss: 1.2082 - val_accuracy: 0.7544\n",
            "Epoch 41/50\n",
            "50/50 [==============================] - 1s 16ms/step - loss: 0.0635 - accuracy: 0.9843 - val_loss: 1.2219 - val_accuracy: 0.7569\n",
            "Epoch 42/50\n",
            "50/50 [==============================] - 1s 16ms/step - loss: 0.0634 - accuracy: 0.9843 - val_loss: 1.2403 - val_accuracy: 0.7569\n",
            "Epoch 43/50\n",
            "50/50 [==============================] - 1s 16ms/step - loss: 0.0633 - accuracy: 0.9843 - val_loss: 1.2656 - val_accuracy: 0.7569\n",
            "Epoch 44/50\n",
            "50/50 [==============================] - 1s 16ms/step - loss: 0.0631 - accuracy: 0.9843 - val_loss: 1.2800 - val_accuracy: 0.7544\n",
            "Epoch 45/50\n",
            "50/50 [==============================] - 1s 16ms/step - loss: 0.0616 - accuracy: 0.9843 - val_loss: 1.3416 - val_accuracy: 0.7444\n",
            "Epoch 46/50\n",
            "50/50 [==============================] - 1s 16ms/step - loss: 0.0608 - accuracy: 0.9849 - val_loss: 1.2476 - val_accuracy: 0.7594\n",
            "Epoch 47/50\n",
            "50/50 [==============================] - 1s 17ms/step - loss: 0.0600 - accuracy: 0.9849 - val_loss: 1.2634 - val_accuracy: 0.7594\n",
            "Epoch 48/50\n",
            "50/50 [==============================] - 1s 17ms/step - loss: 0.0574 - accuracy: 0.9856 - val_loss: 1.3456 - val_accuracy: 0.7544\n",
            "Epoch 49/50\n",
            "50/50 [==============================] - 1s 17ms/step - loss: 0.0564 - accuracy: 0.9862 - val_loss: 1.2973 - val_accuracy: 0.7594\n",
            "Epoch 50/50\n",
            "50/50 [==============================] - 1s 16ms/step - loss: 0.0563 - accuracy: 0.9856 - val_loss: 1.3367 - val_accuracy: 0.7619\n"
          ],
          "name": "stdout"
        },
        {
          "output_type": "display_data",
          "data": {
            "image/png": "[encoded data removed]",
            "text/plain": [
              "<Figure size 432x288 with 1 Axes>"
            ]
          },
          "metadata": {
            "tags": [],
            "needs_background": "light"
          }
        },
        {
          "output_type": "display_data",
          "data": {
            "image/png": "[encoded data removed]",
            "text/plain": [
              "<Figure size 432x288 with 1 Axes>"
            ]
          },
          "metadata": {
            "tags": [],
            "needs_background": "light"
          }
        },
        {
          "output_type": "stream",
          "text": [
            "WARNING:tensorflow:5 out of the last 5 calls to <function Model.make_predict_function.<locals>.predict_function at 0x7efdd00616a8> triggered tf.function retracing. Tracing is expensive and the excessive number of tracings could be due to (1) creating @tf.function repeatedly in a loop, (2) passing tensors with different shapes, (3) passing Python objects instead of tensors. For (1), please define your @tf.function outside of the loop. For (2), @tf.function has experimental_relax_shapes=True option that relaxes argument shapes that can avoid unnecessary retracing. For (3), please refer to https://www.tensorflow.org/tutorials/customization/performance#python_or_tensor_args and https://www.tensorflow.org/api_docs/python/tf/function for  more details.\n"
          ],
          "name": "stdout"
        },
        {
          "output_type": "stream",
          "text": [
            "WARNING:tensorflow:5 out of the last 5 calls to <function Model.make_predict_function.<locals>.predict_function at 0x7efdd00616a8> triggered tf.function retracing. Tracing is expensive and the excessive number of tracings could be due to (1) creating @tf.function repeatedly in a loop, (2) passing tensors with different shapes, (3) passing Python objects instead of tensors. For (1), please define your @tf.function outside of the loop. For (2), @tf.function has experimental_relax_shapes=True option that relaxes argument shapes that can avoid unnecessary retracing. For (3), please refer to https://www.tensorflow.org/tutorials/customization/performance#python_or_tensor_args and https://www.tensorflow.org/api_docs/python/tf/function for  more details.\n"
          ],
          "name": "stderr"
        },
        {
          "output_type": "stream",
          "text": [
            "[  4 281 336 229 858 416   8 569 547 147 319 776   0   0   0   0   0   0\n",
            "   0   0   0   0   0   0   0   0   0   0   0   0   0   0   0   0   0   0\n",
            "   0   0   0   0   0   0   0   0   0   0   0   0   0   0]\n",
            "I love pure sweet chocolate!\n",
            "[0.9998703]\n",
            "\n",
            "\n",
            "[ 13 329 347 775   7 357  37  15 309 443 844   0   0   0   0   0   0   0\n",
            "   0   0   0   0   0   0   0   0   0   0   0   0   0   0   0   0   0   0\n",
            "   0   0   0   0   0   0   0   0   0   0   0   0   0   0]\n",
            "The restaurant is full of smoke\n",
            "[0.02736145]\n",
            "\n",
            "\n",
            "[ 13 333 107 475 775 124  60  12   7 621 309 133 298   0   0   0   0   0\n",
            "   0   0   0   0   0   0   0   0   0   0   0   0   0   0   0   0   0   0\n",
            "   0   0   0   0   0   0   0   0   0   0   0   0   0   0]\n",
            "The expired cheese is bad smelly\n",
            "[0.02369401]\n",
            "\n",
            "\n",
            "[ 13  93 106 315   7  42 109   8   2 125 265  26 287 851 244 454 858  93\n",
            " 106   0   0   0   0   0   0   0   0   0   0   0   0   0   0   0   0   0\n",
            "   0   0   0   0   0   0   0   0   0   0   0   0   0   0]\n",
            "The weather is so hot and causing children sweat\n",
            "[0.02329593]\n",
            "\n",
            "\n",
            "[ 13 125  85 775 152 391 775 442 196   0   0   0   0   0   0   0   0   0\n",
            "   0   0   0   0   0   0   0   0   0   0   0   0   0   0   0   0   0   0\n",
            "   0   0   0   0   0   0   0   0   0   0   0   0   0   0]\n",
            "The cake has taste problem\n",
            "[0.02407517]\n",
            "\n",
            "\n",
            "[815  12 522  18 407  67  19 498  26 406   0   0   0   0   0   0   0   0\n",
            "   0   0   0   0   0   0   0   0   0   0   0   0   0   0   0   0   0   0\n",
            "   0   0   0   0   0   0   0   0   0   0   0   0   0   0]\n",
            "He do not cook in working day\n",
            "[0.02453463]\n",
            "\n",
            "\n",
            "[211 328 503 775  18 584 775 226  50 117 566 853 850 858   0   0   0   0\n",
            "   0   0   0   0   0   0   0   0   0   0   0   0   0   0   0   0   0   0\n",
            "   0   0   0   0   0   0   0   0   0   0   0   0   0   0]\n",
            "We should not waste any food or drinks\n",
            "[0.02233269]\n",
            "\n",
            "\n"
          ],
          "name": "stdout"
        }
      ]
    },
    {
      "cell_type": "markdown",
      "metadata": {
        "id": "i3xrftWUVW5R",
        "colab_type": "text"
      },
      "source": [
        "# Compare predictions for all the models\n",
        "\n",
        "It can be hard to see which model gives a better prediction for different reviews when you examine each model separately. So for comparison purposes, here we define some more reviews and print out the predictions that each of the three models gives for each review:\n",
        "\n",
        "*   Embeddings and a Global Average Pooling layer\n",
        "*   Embeddings and a Bidirectional LSTM layer\n",
        "*   Embeddings and two Bidirectional LSTM layers\n",
        "\n",
        "The results are not always what you might expect. The input dataset is fairly small, it has less than 2000 reviews. Some of the reviews are fairly short, and some of the short ones are fairly repetitive which reduces their impact on improving the  model, such as these two reviews:\n",
        "\n",
        "*   Bad Quality.\n",
        "*   Low Quality.\n",
        "\n",
        "Feel free to add more reviews of your own, or change the reviews. The results will depend on the combination of words in the reviews, and how well they match to reviews in the training set. \n",
        "\n",
        "How do the different models handle things like \"wasn't good\" which contains a positive word (good) but is a poor review?\n"
      ]
    },
    {
      "cell_type": "code",
      "metadata": {
        "id": "bNoUXzHkVC_T",
        "colab_type": "code",
        "colab": {}
      },
      "source": [
        "my_reviews =[\"The environment is so warmful and cheerful\",\n",
        "             \"The party is annoying and crowded\",\n",
        "             \"The dog is enjoy playing and fun\",\n",
        "             \"Negative comment in internent is hurt people\",\n",
        "             \"The smile is very sweat and cute!\",\n",
        "             \"The car engine is broken\",\n",
        "             \"The algorithm is working very well\",\n",
        "             ]"
      ],
      "execution_count": 28,
      "outputs": []
    },
    {
      "cell_type": "code",
      "metadata": {
        "id": "Yfgo0r0oVx6D",
        "colab_type": "code",
        "colab": {
          "base_uri": "https://localhost:8080/",
          "height": 544
        },
        "outputId": "7bfbb0a1-0e2d-469d-93b0-94ade014866b"
      },
      "source": [
        "print(\"===================================\\n\",\"Embeddings only:\\n\", \"===================================\",)\n",
        "predict_review(model, my_reviews, show_padded_sequence=False)"
      ],
      "execution_count": 29,
      "outputs": [
        {
          "output_type": "stream",
          "text": [
            "===================================\n",
            " Embeddings only:\n",
            " ===================================\n",
            "The environment is so warmful and cheerful\n",
            "[0.9671546]\n",
            "\n",
            "\n",
            "The party is annoying and crowded\n",
            "[0.20091997]\n",
            "\n",
            "\n",
            "The dog is enjoy playing and fun\n",
            "[0.20042777]\n",
            "\n",
            "\n",
            "Negative comment in internent is hurt people\n",
            "[0.38675073]\n",
            "\n",
            "\n",
            "The smile is very sweat and cute!\n",
            "[0.83914167]\n",
            "\n",
            "\n",
            "The car engine is broken\n",
            "[0.89138615]\n",
            "\n",
            "\n",
            "The algorithm is working very well\n",
            "[0.99987423]\n",
            "\n",
            "\n"
          ],
          "name": "stdout"
        }
      ]
    },
    {
      "cell_type": "code",
      "metadata": {
        "id": "fwLl6kDqV0X7",
        "colab_type": "code",
        "colab": {
          "base_uri": "https://localhost:8080/",
          "height": 544
        },
        "outputId": "55d9aceb-6d04-4fc2-b0db-625763cff004"
      },
      "source": [
        "print(\"===================================\\n\", \"With a single bidirectional LSTM:\\n\", \"===================================\")\n",
        "predict_review(model_bidi_lstm, my_reviews, show_padded_sequence=False)"
      ],
      "execution_count": 30,
      "outputs": [
        {
          "output_type": "stream",
          "text": [
            "===================================\n",
            " With a single bidirectional LSTM:\n",
            " ===================================\n",
            "The environment is so warmful and cheerful\n",
            "[0.9947061]\n",
            "\n",
            "\n",
            "The party is annoying and crowded\n",
            "[0.06019598]\n",
            "\n",
            "\n",
            "The dog is enjoy playing and fun\n",
            "[0.9997099]\n",
            "\n",
            "\n",
            "Negative comment in internent is hurt people\n",
            "[0.988889]\n",
            "\n",
            "\n",
            "The smile is very sweat and cute!\n",
            "[0.99944836]\n",
            "\n",
            "\n",
            "The car engine is broken\n",
            "[0.1032549]\n",
            "\n",
            "\n",
            "The algorithm is working very well\n",
            "[0.99999547]\n",
            "\n",
            "\n"
          ],
          "name": "stdout"
        }
      ]
    },
    {
      "cell_type": "code",
      "metadata": {
        "id": "CuoDl2FYV4AR",
        "colab_type": "code",
        "colab": {
          "base_uri": "https://localhost:8080/",
          "height": 544
        },
        "outputId": "d38c02c5-c7a9-4173-df07-3250c9a03f6c"
      },
      "source": [
        "print(\"===================================\\n\",\"With two bidirectional LSTMs:\\n\", \"===================================\")\n",
        "predict_review(model_multiple_bidi_lstm, my_reviews, show_padded_sequence=False)"
      ],
      "execution_count": 31,
      "outputs": [
        {
          "output_type": "stream",
          "text": [
            "===================================\n",
            " With two bidirectional LSTMs:\n",
            " ===================================\n",
            "The environment is so warmful and cheerful\n",
            "[0.9998462]\n",
            "\n",
            "\n",
            "The party is annoying and crowded\n",
            "[0.02351862]\n",
            "\n",
            "\n",
            "The dog is enjoy playing and fun\n",
            "[0.99107975]\n",
            "\n",
            "\n",
            "Negative comment in internent is hurt people\n",
            "[0.99988294]\n",
            "\n",
            "\n",
            "The smile is very sweat and cute!\n",
            "[0.02473121]\n",
            "\n",
            "\n",
            "The car engine is broken\n",
            "[0.99981266]\n",
            "\n",
            "\n",
            "The algorithm is working very well\n",
            "[0.9999751]\n",
            "\n",
            "\n"
          ],
          "name": "stdout"
        }
      ]
    },
    {
      "cell_type": "markdown",
      "metadata": {
        "id": "3uzzKzNZicJf",
        "colab_type": "text"
      },
      "source": [
        "Based on the comparison made on above, it did not clearly determine which approach is generate more reliable results. Some of the review sentence are obviously negative statement, but the model prediction consider it as positive sentiment sentence."
      ]
    }
  ]
}