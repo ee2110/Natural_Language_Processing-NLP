{
  "nbformat": 4,
  "nbformat_minor": 0,
  "metadata": {
    "colab": {
      "name": "Tfds_subwords_technique.ipynb",
      "provenance": []
    },
    "kernelspec": {
      "name": "python3",
      "display_name": "Python 3"
    },
    "accelerator": "GPU"
  },
  "cells": [
    {
      "cell_type": "markdown",
      "metadata": {
        "id": "YdJCb7wbYWWr",
        "colab_type": "text"
      },
      "source": [
        "# **Subwords preprocessing**\n",
        "\n",
        "Subwords are another approach, where individual words are broken up into the more commonly appearing pieces of themselves. This helps avoid marking very rare words as OOV for the most common words in a corpus.\n",
        "\n",
        "Subwords are made up of pieces of words, so that words with similar roots will be tokenized to have at least partially the same value. So, words like “famous” and “famously” might be tokenized similarly, with perhaps an extra subword at the end for the “-ly”."
      ]
    },
    {
      "cell_type": "code",
      "metadata": {
        "id": "VcDrTyVUX21C",
        "colab_type": "code",
        "colab": {}
      },
      "source": [
        "import tensorflow as tf\n",
        "import pandas as pd\n",
        "import numpy as np\n",
        "import matplotlib.pyplot as plt\n",
        "\n",
        "\n",
        "from tensorflow.keras.preprocessing.sequence import pad_sequences\n",
        "import tensorflow_datasets as tfds"
      ],
      "execution_count": 21,
      "outputs": []
    },
    {
      "cell_type": "code",
      "metadata": {
        "id": "lJUb3e7aZxBr",
        "colab_type": "code",
        "colab": {
          "base_uri": "https://localhost:8080/",
          "height": 187
        },
        "outputId": "0b5ca9cf-52c9-489e-f74e-42724efd1093"
      },
      "source": [
        "dataset = pd.read_csv('combined_data.csv')\n",
        "\n",
        "# Just extract out sentences and labels first - we will create subwords here\n",
        "sentences = dataset['text'].tolist()\n",
        "labels = dataset['sentiment'].tolist()\n",
        "\n",
        "sentences[:10]"
      ],
      "execution_count": 3,
      "outputs": [
        {
          "output_type": "execute_result",
          "data": {
            "text/plain": [
              "['So there is no way for me to plug it in here in the US unless I go by a converter.',\n",
              " 'Good case Excellent value.',\n",
              " 'Great for the jawbone.',\n",
              " 'Tied to charger for conversations lasting more than 45 minutes.MAJOR PROBLEMS!!',\n",
              " 'The mic is great.',\n",
              " 'I have to jiggle the plug to get it to line up right to get decent volume.',\n",
              " 'If you have several dozen or several hundred contacts then imagine the fun of sending each of them one by one.',\n",
              " 'If you are Razr owner...you must have this!',\n",
              " 'Needless to say I wasted my money.',\n",
              " 'What a waste of money and time!.']"
            ]
          },
          "metadata": {
            "tags": []
          },
          "execution_count": 3
        }
      ]
    },
    {
      "cell_type": "markdown",
      "metadata": {
        "id": "VEMxMIMp7UZG",
        "colab_type": "text"
      },
      "source": [
        "## **Create a subwords dataset**\n",
        "\n",
        "We also can use the existing Amazon and Yelp reviews dataset with `tensorflow_datasets`'s `SubwordTextEncoder` functionality. `SubwordTextEncoder.build_from_corpus()` will create a tokenizer for us. You could also use this functionality to get subwords from a much larger corpus of text as well, but we'll just use our existing dataset here."
      ]
    },
    {
      "cell_type": "code",
      "metadata": {
        "id": "Z4eXY3l0Z42M",
        "colab_type": "code",
        "colab": {}
      },
      "source": [
        "vocab_size = 1000\n",
        "tokenizer = tfds.features.text.SubwordTextEncoder.build_from_corpus(sentences, vocab_size, max_subword_length=5)"
      ],
      "execution_count": 6,
      "outputs": []
    },
    {
      "cell_type": "code",
      "metadata": {
        "id": "k3f78mZ4-Y0r",
        "colab_type": "code",
        "colab": {
          "base_uri": "https://localhost:8080/",
          "height": 34
        },
        "outputId": "8890f231-b980-4be2-88ab-faf6623fa617"
      },
      "source": [
        "tokenizer"
      ],
      "execution_count": 7,
      "outputs": [
        {
          "output_type": "execute_result",
          "data": {
            "text/plain": [
              "<SubwordTextEncoder vocab_size=999>"
            ]
          },
          "metadata": {
            "tags": []
          },
          "execution_count": 7
        }
      ]
    },
    {
      "cell_type": "code",
      "metadata": {
        "id": "GTcibwtd-YeO",
        "colab_type": "code",
        "colab": {
          "base_uri": "https://localhost:8080/",
          "height": 34
        },
        "outputId": "161599c4-aeff-423f-b46c-b7e6c144dbe7"
      },
      "source": [
        "# Check that the tokenizer works appropriately\n",
        "num = 5\n",
        "print(sentences[num])"
      ],
      "execution_count": 8,
      "outputs": [
        {
          "output_type": "stream",
          "text": [
            "I have to jiggle the plug to get it to line up right to get decent volume.\n"
          ],
          "name": "stdout"
        }
      ]
    },
    {
      "cell_type": "code",
      "metadata": {
        "id": "jzAn1AKR-5ff",
        "colab_type": "code",
        "colab": {
          "base_uri": "https://localhost:8080/",
          "height": 34
        },
        "outputId": "27601a3d-27de-4b74-c813-fcc02b238848"
      },
      "source": [
        "encoded = tokenizer.encode(sentences[num])\n",
        "print(encoded)"
      ],
      "execution_count": 9,
      "outputs": [
        {
          "output_type": "stream",
          "text": [
            "[4, 31, 6, 849, 162, 450, 12, 1, 600, 438, 775, 6, 175, 14, 6, 55, 213, 159, 474, 775, 6, 175, 614, 380, 295, 148, 72, 789]\n"
          ],
          "name": "stdout"
        }
      ]
    },
    {
      "cell_type": "code",
      "metadata": {
        "id": "roc09uJA-855",
        "colab_type": "code",
        "colab": {
          "base_uri": "https://localhost:8080/",
          "height": 493
        },
        "outputId": "4bd4c258-00d8-4593-bcaf-8a23e325f1ec"
      },
      "source": [
        "# Separately print out each subword, decoded\n",
        "for i in encoded:\n",
        "  print(tokenizer.decode([i]))"
      ],
      "execution_count": 10,
      "outputs": [
        {
          "output_type": "stream",
          "text": [
            "I \n",
            "have \n",
            "to \n",
            "j\n",
            "ig\n",
            "gl\n",
            "e \n",
            "the \n",
            "pl\n",
            "ug\n",
            " \n",
            "to \n",
            "get \n",
            "it \n",
            "to \n",
            "li\n",
            "ne \n",
            "up \n",
            "right\n",
            " \n",
            "to \n",
            "get \n",
            "dec\n",
            "ent \n",
            "vo\n",
            "lu\n",
            "me\n",
            ".\n"
          ],
          "name": "stdout"
        }
      ]
    },
    {
      "cell_type": "code",
      "metadata": {
        "id": "B677Roir_Aw2",
        "colab_type": "code",
        "colab": {}
      },
      "source": [
        "# Replace sentence data with encoded subwords\n",
        "for i, sentence in enumerate(sentences):\n",
        "  sentences[i] = tokenizer.encode(sentence)"
      ],
      "execution_count": 14,
      "outputs": []
    },
    {
      "cell_type": "code",
      "metadata": {
        "id": "rQiJx85K_J1C",
        "colab_type": "code",
        "colab": {
          "base_uri": "https://localhost:8080/",
          "height": 54
        },
        "outputId": "6d62fb51-4137-4613-8824-6111ac0c7cfb"
      },
      "source": [
        "# Check the sentences are appropriately replaced\n",
        "print(sentences[:10])"
      ],
      "execution_count": 17,
      "outputs": [
        {
          "output_type": "stream",
          "text": [
            "[[736, 168, 775, 7, 193, 417, 17, 94, 6, 600, 438, 775, 14, 19, 141, 19, 1, 828, 826, 775, 99, 445, 4, 174, 361, 5, 79, 227, 139, 789], [625, 677, 626, 274, 380, 633, 148, 844, 789], [134, 775, 17, 1, 849, 179, 205, 52, 789], [827, 187, 11, 6, 143, 63, 17, 79, 227, 594, 331, 3, 660, 26, 313, 182, 795, 415, 374, 60, 789, 820, 808, 817, 822, 825, 775, 823, 825, 822, 809, 819, 812, 820, 826, 263], [13, 396, 570, 7, 35, 789], [4, 31, 6, 849, 162, 450, 12, 1, 600, 438, 775, 6, 175, 14, 6, 55, 213, 159, 474, 775, 6, 175, 614, 380, 295, 148, 72, 789], [364, 39, 31, 69, 500, 775, 197, 293, 38, 117, 69, 500, 775, 399, 123, 475, 775, 79, 62, 86, 3, 506, 241, 683, 557, 775, 1, 429, 38, 15, 69, 123, 26, 210, 232, 15, 507, 80, 361, 478, 789], [364, 39, 41, 825, 840, 865, 20, 280, 444, 465, 39, 602, 8, 31, 505, 858, 776], [821, 359, 843, 445, 6, 472, 4, 584, 11, 21, 395, 789], [384, 48, 5, 584, 775, 15, 395, 775, 2, 640, 262]]\n"
          ],
          "name": "stdout"
        }
      ]
    },
    {
      "cell_type": "code",
      "metadata": {
        "id": "HZLpEY1vCUOf",
        "colab_type": "code",
        "colab": {}
      },
      "source": [
        "max_length = 50\n",
        "trunc_type='post'\n",
        "padding_type='post'\n",
        "\n",
        "# Pad all sentences\n",
        "sentences_padded = pad_sequences(sentences, maxlen=max_length, \n",
        "                                 padding=padding_type, truncating=trunc_type)\n",
        "\n",
        "# Separate out the sentences and labels into training and test sets\n",
        "training_size = int(len(sentences) * 0.8)\n",
        "\n",
        "training_sentences = sentences_padded[0:training_size]\n",
        "testing_sentences = sentences_padded[training_size:]\n",
        "training_labels = labels[0:training_size]\n",
        "testing_labels = labels[training_size:]\n",
        "\n",
        "# Make labels into numpy arrays for use with the network later\n",
        "training_labels_final = np.array(training_labels)\n",
        "testing_labels_final = np.array(testing_labels)"
      ],
      "execution_count": 18,
      "outputs": []
    },
    {
      "cell_type": "code",
      "metadata": {
        "id": "6mG5fHTeCiqf",
        "colab_type": "code",
        "colab": {
          "base_uri": "https://localhost:8080/",
          "height": 289
        },
        "outputId": "ea5ed1cd-2b8e-49b1-8332-d2fc571ce23a"
      },
      "source": [
        "embedding_dim = 16\n",
        "model = tf.keras.Sequential([\n",
        "    tf.keras.layers.Embedding(vocab_size, embedding_dim, input_length=max_length),\n",
        "    tf.keras.layers.GlobalAveragePooling1D(),\n",
        "    tf.keras.layers.Dense(6, activation='relu'),\n",
        "    tf.keras.layers.Dense(1, activation='sigmoid')\n",
        "])\n",
        "\n",
        "model.summary()"
      ],
      "execution_count": 19,
      "outputs": [
        {
          "output_type": "stream",
          "text": [
            "Model: \"sequential\"\n",
            "_________________________________________________________________\n",
            "Layer (type)                 Output Shape              Param #   \n",
            "=================================================================\n",
            "embedding (Embedding)        (None, 50, 16)            16000     \n",
            "_________________________________________________________________\n",
            "global_average_pooling1d (Gl (None, 16)                0         \n",
            "_________________________________________________________________\n",
            "dense (Dense)                (None, 6)                 102       \n",
            "_________________________________________________________________\n",
            "dense_1 (Dense)              (None, 1)                 7         \n",
            "=================================================================\n",
            "Total params: 16,109\n",
            "Trainable params: 16,109\n",
            "Non-trainable params: 0\n",
            "_________________________________________________________________\n"
          ],
          "name": "stdout"
        }
      ]
    },
    {
      "cell_type": "code",
      "metadata": {
        "id": "LFuESbiiCtxM",
        "colab_type": "code",
        "colab": {
          "base_uri": "https://localhost:8080/",
          "height": 1000
        },
        "outputId": "30fc7f2e-cf8c-4c95-f833-d289bcfa7efd"
      },
      "source": [
        "num_epochs = 50\n",
        "model.compile(loss='binary_crossentropy',optimizer='adam',metrics=['accuracy'])\n",
        "history = model.fit(training_sentences, training_labels_final, epochs=num_epochs, \n",
        "                    validation_data=(testing_sentences, testing_labels_final))"
      ],
      "execution_count": 20,
      "outputs": [
        {
          "output_type": "stream",
          "text": [
            "Epoch 1/50\n",
            "50/50 [==============================] - 0s 6ms/step - loss: 0.6932 - accuracy: 0.5009 - val_loss: 0.6946 - val_accuracy: 0.4135\n",
            "Epoch 2/50\n",
            "50/50 [==============================] - 0s 4ms/step - loss: 0.6910 - accuracy: 0.5292 - val_loss: 0.6963 - val_accuracy: 0.4261\n",
            "Epoch 3/50\n",
            "50/50 [==============================] - 0s 4ms/step - loss: 0.6862 - accuracy: 0.5681 - val_loss: 0.6921 - val_accuracy: 0.5013\n",
            "Epoch 4/50\n",
            "50/50 [==============================] - 0s 3ms/step - loss: 0.6771 - accuracy: 0.6083 - val_loss: 0.6826 - val_accuracy: 0.5589\n",
            "Epoch 5/50\n",
            "50/50 [==============================] - 0s 4ms/step - loss: 0.6621 - accuracy: 0.6899 - val_loss: 0.6673 - val_accuracy: 0.6516\n",
            "Epoch 6/50\n",
            "50/50 [==============================] - 0s 4ms/step - loss: 0.6386 - accuracy: 0.7514 - val_loss: 0.6541 - val_accuracy: 0.6441\n",
            "Epoch 7/50\n",
            "50/50 [==============================] - 0s 4ms/step - loss: 0.6098 - accuracy: 0.7721 - val_loss: 0.6267 - val_accuracy: 0.7193\n",
            "Epoch 8/50\n",
            "50/50 [==============================] - 0s 4ms/step - loss: 0.5740 - accuracy: 0.8073 - val_loss: 0.5985 - val_accuracy: 0.7744\n",
            "Epoch 9/50\n",
            "50/50 [==============================] - 0s 4ms/step - loss: 0.5371 - accuracy: 0.8368 - val_loss: 0.5845 - val_accuracy: 0.7393\n",
            "Epoch 10/50\n",
            "50/50 [==============================] - 0s 4ms/step - loss: 0.5010 - accuracy: 0.8424 - val_loss: 0.5554 - val_accuracy: 0.7845\n",
            "Epoch 11/50\n",
            "50/50 [==============================] - 0s 4ms/step - loss: 0.4672 - accuracy: 0.8519 - val_loss: 0.5456 - val_accuracy: 0.7569\n",
            "Epoch 12/50\n",
            "50/50 [==============================] - 0s 4ms/step - loss: 0.4343 - accuracy: 0.8650 - val_loss: 0.5306 - val_accuracy: 0.7619\n",
            "Epoch 13/50\n",
            "50/50 [==============================] - 0s 4ms/step - loss: 0.4058 - accuracy: 0.8707 - val_loss: 0.5148 - val_accuracy: 0.7669\n",
            "Epoch 14/50\n",
            "50/50 [==============================] - 0s 4ms/step - loss: 0.3806 - accuracy: 0.8795 - val_loss: 0.5127 - val_accuracy: 0.7594\n",
            "Epoch 15/50\n",
            "50/50 [==============================] - 0s 4ms/step - loss: 0.3583 - accuracy: 0.8788 - val_loss: 0.5188 - val_accuracy: 0.7419\n",
            "Epoch 16/50\n",
            "50/50 [==============================] - 0s 4ms/step - loss: 0.3394 - accuracy: 0.8845 - val_loss: 0.4965 - val_accuracy: 0.7619\n",
            "Epoch 17/50\n",
            "50/50 [==============================] - 0s 4ms/step - loss: 0.3189 - accuracy: 0.8927 - val_loss: 0.5086 - val_accuracy: 0.7494\n",
            "Epoch 18/50\n",
            "50/50 [==============================] - 0s 4ms/step - loss: 0.3029 - accuracy: 0.8945 - val_loss: 0.4968 - val_accuracy: 0.7544\n",
            "Epoch 19/50\n",
            "50/50 [==============================] - 0s 4ms/step - loss: 0.2863 - accuracy: 0.9040 - val_loss: 0.5175 - val_accuracy: 0.7469\n",
            "Epoch 20/50\n",
            "50/50 [==============================] - 0s 4ms/step - loss: 0.2749 - accuracy: 0.9046 - val_loss: 0.5161 - val_accuracy: 0.7469\n",
            "Epoch 21/50\n",
            "50/50 [==============================] - 0s 4ms/step - loss: 0.2614 - accuracy: 0.9109 - val_loss: 0.5135 - val_accuracy: 0.7519\n",
            "Epoch 22/50\n",
            "50/50 [==============================] - 0s 4ms/step - loss: 0.2489 - accuracy: 0.9190 - val_loss: 0.5320 - val_accuracy: 0.7469\n",
            "Epoch 23/50\n",
            "50/50 [==============================] - 0s 4ms/step - loss: 0.2398 - accuracy: 0.9153 - val_loss: 0.5087 - val_accuracy: 0.7594\n",
            "Epoch 24/50\n",
            "50/50 [==============================] - 0s 4ms/step - loss: 0.2301 - accuracy: 0.9272 - val_loss: 0.5179 - val_accuracy: 0.7519\n",
            "Epoch 25/50\n",
            "50/50 [==============================] - 0s 4ms/step - loss: 0.2224 - accuracy: 0.9240 - val_loss: 0.5275 - val_accuracy: 0.7444\n",
            "Epoch 26/50\n",
            "50/50 [==============================] - 0s 4ms/step - loss: 0.2122 - accuracy: 0.9297 - val_loss: 0.5361 - val_accuracy: 0.7494\n",
            "Epoch 27/50\n",
            "50/50 [==============================] - 0s 4ms/step - loss: 0.2050 - accuracy: 0.9328 - val_loss: 0.5403 - val_accuracy: 0.7544\n",
            "Epoch 28/50\n",
            "50/50 [==============================] - 0s 4ms/step - loss: 0.1975 - accuracy: 0.9322 - val_loss: 0.5569 - val_accuracy: 0.7469\n",
            "Epoch 29/50\n",
            "50/50 [==============================] - 0s 4ms/step - loss: 0.1897 - accuracy: 0.9416 - val_loss: 0.5552 - val_accuracy: 0.7569\n",
            "Epoch 30/50\n",
            "50/50 [==============================] - 0s 4ms/step - loss: 0.1841 - accuracy: 0.9379 - val_loss: 0.5700 - val_accuracy: 0.7519\n",
            "Epoch 31/50\n",
            "50/50 [==============================] - 0s 4ms/step - loss: 0.1775 - accuracy: 0.9454 - val_loss: 0.5828 - val_accuracy: 0.7469\n",
            "Epoch 32/50\n",
            "50/50 [==============================] - 0s 4ms/step - loss: 0.1714 - accuracy: 0.9510 - val_loss: 0.5960 - val_accuracy: 0.7444\n",
            "Epoch 33/50\n",
            "50/50 [==============================] - 0s 4ms/step - loss: 0.1651 - accuracy: 0.9517 - val_loss: 0.6051 - val_accuracy: 0.7469\n",
            "Epoch 34/50\n",
            "50/50 [==============================] - 0s 4ms/step - loss: 0.1614 - accuracy: 0.9548 - val_loss: 0.6145 - val_accuracy: 0.7469\n",
            "Epoch 35/50\n",
            "50/50 [==============================] - 0s 4ms/step - loss: 0.1546 - accuracy: 0.9611 - val_loss: 0.6341 - val_accuracy: 0.7343\n",
            "Epoch 36/50\n",
            "50/50 [==============================] - 0s 4ms/step - loss: 0.1511 - accuracy: 0.9586 - val_loss: 0.6278 - val_accuracy: 0.7569\n",
            "Epoch 37/50\n",
            "50/50 [==============================] - 0s 4ms/step - loss: 0.1459 - accuracy: 0.9623 - val_loss: 0.6378 - val_accuracy: 0.7544\n",
            "Epoch 38/50\n",
            "50/50 [==============================] - 0s 4ms/step - loss: 0.1400 - accuracy: 0.9636 - val_loss: 0.6469 - val_accuracy: 0.7619\n",
            "Epoch 39/50\n",
            "50/50 [==============================] - 0s 4ms/step - loss: 0.1360 - accuracy: 0.9623 - val_loss: 0.6611 - val_accuracy: 0.7519\n",
            "Epoch 40/50\n",
            "50/50 [==============================] - 0s 4ms/step - loss: 0.1321 - accuracy: 0.9667 - val_loss: 0.6659 - val_accuracy: 0.7569\n",
            "Epoch 41/50\n",
            "50/50 [==============================] - 0s 4ms/step - loss: 0.1282 - accuracy: 0.9661 - val_loss: 0.6921 - val_accuracy: 0.7419\n",
            "Epoch 42/50\n",
            "50/50 [==============================] - 0s 4ms/step - loss: 0.1254 - accuracy: 0.9680 - val_loss: 0.6990 - val_accuracy: 0.7419\n",
            "Epoch 43/50\n",
            "50/50 [==============================] - 0s 4ms/step - loss: 0.1201 - accuracy: 0.9699 - val_loss: 0.7039 - val_accuracy: 0.7494\n",
            "Epoch 44/50\n",
            "50/50 [==============================] - 0s 4ms/step - loss: 0.1159 - accuracy: 0.9724 - val_loss: 0.7147 - val_accuracy: 0.7544\n",
            "Epoch 45/50\n",
            "50/50 [==============================] - 0s 4ms/step - loss: 0.1128 - accuracy: 0.9711 - val_loss: 0.7301 - val_accuracy: 0.7419\n",
            "Epoch 46/50\n",
            "50/50 [==============================] - 0s 4ms/step - loss: 0.1094 - accuracy: 0.9718 - val_loss: 0.7364 - val_accuracy: 0.7494\n",
            "Epoch 47/50\n",
            "50/50 [==============================] - 0s 4ms/step - loss: 0.1063 - accuracy: 0.9749 - val_loss: 0.7486 - val_accuracy: 0.7494\n",
            "Epoch 48/50\n",
            "50/50 [==============================] - 0s 4ms/step - loss: 0.1035 - accuracy: 0.9761 - val_loss: 0.7646 - val_accuracy: 0.7393\n",
            "Epoch 49/50\n",
            "50/50 [==============================] - 0s 4ms/step - loss: 0.1014 - accuracy: 0.9718 - val_loss: 0.7652 - val_accuracy: 0.7619\n",
            "Epoch 50/50\n",
            "50/50 [==============================] - 0s 4ms/step - loss: 0.0998 - accuracy: 0.9743 - val_loss: 0.7778 - val_accuracy: 0.7619\n"
          ],
          "name": "stdout"
        }
      ]
    },
    {
      "cell_type": "code",
      "metadata": {
        "id": "LJwXWyI2C0Av",
        "colab_type": "code",
        "colab": {}
      },
      "source": [
        "def plot_graphs(history, string):\n",
        "  plt.plot(history.history[string])\n",
        "  plt.plot(history.history['val_'+string])\n",
        "  plt.xlabel(\"Epochs\")\n",
        "  plt.ylabel(string)\n",
        "  plt.legend([string, 'val_'+string])\n",
        "  plt.show()"
      ],
      "execution_count": 22,
      "outputs": []
    },
    {
      "cell_type": "code",
      "metadata": {
        "id": "E7PI7dm2C7-o",
        "colab_type": "code",
        "colab": {
          "base_uri": "https://localhost:8080/",
          "height": 545
        },
        "outputId": "c5fe69c0-fb31-41af-f703-9687020db054"
      },
      "source": [
        "plot_graphs(history, \"accuracy\")\n",
        "plot_graphs(history, \"loss\")"
      ],
      "execution_count": 24,
      "outputs": [
        {
          "output_type": "display_data",
          "data": {
            "image/png": "[encoded data removed]",
            "text/plain": [
              "<Figure size 432x288 with 1 Axes>"
            ]
          },
          "metadata": {
            "tags": [],
            "needs_background": "light"
          }
        },
        {
          "output_type": "display_data",
          "data": {
            "image/png": "[encoded data removed]",
            "text/plain": [
              "<Figure size 432x288 with 1 Axes>"
            ]
          },
          "metadata": {
            "tags": [],
            "needs_background": "light"
          }
        }
      ]
    },
    {
      "cell_type": "markdown",
      "metadata": {
        "id": "R-6Kj-WZDDna",
        "colab_type": "text"
      },
      "source": [
        "# **Visualizing the network**"
      ]
    },
    {
      "cell_type": "code",
      "metadata": {
        "id": "8jrg0NmKC9jv",
        "colab_type": "code",
        "colab": {
          "base_uri": "https://localhost:8080/",
          "height": 34
        },
        "outputId": "0c50c589-d1a0-41e1-db59-e0b580471790"
      },
      "source": [
        "# First get the weights of the embedding layer\n",
        "e = model.layers[0]\n",
        "weights = e.get_weights()[0]\n",
        "print(weights.shape) # shape: (vocab_size, embedding_dim)"
      ],
      "execution_count": 25,
      "outputs": [
        {
          "output_type": "stream",
          "text": [
            "(1000, 16)\n"
          ],
          "name": "stdout"
        }
      ]
    },
    {
      "cell_type": "code",
      "metadata": {
        "id": "FLdbWAxkDFdx",
        "colab_type": "code",
        "colab": {}
      },
      "source": [
        "import io\n",
        "\n",
        "# Write out the embedding vectors and metadata\n",
        "out_v = io.open('subword_vecs.tsv', 'w', encoding='utf-8')\n",
        "out_m = io.open('subword_meta.tsv', 'w', encoding='utf-8')\n",
        "for word_num in range(0, vocab_size - 1):\n",
        "  word = tokenizer.decode([word_num])\n",
        "  embeddings = weights[word_num]\n",
        "  out_m.write(word + \"\\n\")\n",
        "  out_v.write('\\t'.join([str(x) for x in embeddings]) + \"\\n\")\n",
        "out_v.close()\n",
        "out_m.close()"
      ],
      "execution_count": 26,
      "outputs": []
    },
    {
      "cell_type": "code",
      "metadata": {
        "id": "Wi7DS_-FJF8o",
        "colab_type": "code",
        "colab": {
          "base_uri": "https://localhost:8080/",
          "height": 17
        },
        "outputId": "8c2ab7df-4944-4bc9-8d47-20248665cd36"
      },
      "source": [
        "# Download the files\n",
        "try:\n",
        "  from google.colab import files\n",
        "except ImportError:\n",
        "  pass\n",
        "else:\n",
        "  files.download('subword_vecs.tsv')\n",
        "  files.download('subword_meta.tsv')"
      ],
      "execution_count": 28,
      "outputs": [
        {
          "output_type": "display_data",
          "data": {
            "application/javascript": [
              "\n",
              "    async function download(id, filename, size) {\n",
              "      if (!google.colab.kernel.accessAllowed) {\n",
              "        return;\n",
              "      }\n",
              "      const div = document.createElement('div');\n",
              "      const label = document.createElement('label');\n",
              "      label.textContent = `Downloading \"${filename}\": `;\n",
              "      div.appendChild(label);\n",
              "      const progress = document.createElement('progress');\n",
              "      progress.max = size;\n",
              "      div.appendChild(progress);\n",
              "      document.body.appendChild(div);\n",
              "\n",
              "      const buffers = [];\n",
              "      let downloaded = 0;\n",
              "\n",
              "      const channel = await google.colab.kernel.comms.open(id);\n",
              "      // Send a message to notify the kernel that we're ready.\n",
              "      channel.send({})\n",
              "\n",
              "      for await (const message of channel.messages) {\n",
              "        // Send a message to notify the kernel that we're ready.\n",
              "        channel.send({})\n",
              "        if (message.buffers) {\n",
              "          for (const buffer of message.buffers) {\n",
              "            buffers.push(buffer);\n",
              "            downloaded += buffer.byteLength;\n",
              "            progress.value = downloaded;\n",
              "          }\n",
              "        }\n",
              "      }\n",
              "      const blob = new Blob(buffers, {type: 'application/binary'});\n",
              "      const a = document.createElement('a');\n",
              "      a.href = window.URL.createObjectURL(blob);\n",
              "      a.download = filename;\n",
              "      div.appendChild(a);\n",
              "      a.click();\n",
              "      div.remove();\n",
              "    }\n",
              "  "
            ],
            "text/plain": [
              "<IPython.core.display.Javascript object>"
            ]
          },
          "metadata": {
            "tags": []
          }
        },
        {
          "output_type": "display_data",
          "data": {
            "application/javascript": [
              "download(\"download_2b96ceaa-7afd-4f28-8a4f-238b1f109382\", \"subword_vecs.tsv\", 186088)"
            ],
            "text/plain": [
              "<IPython.core.display.Javascript object>"
            ]
          },
          "metadata": {
            "tags": []
          }
        },
        {
          "output_type": "display_data",
          "data": {
            "application/javascript": [
              "\n",
              "    async function download(id, filename, size) {\n",
              "      if (!google.colab.kernel.accessAllowed) {\n",
              "        return;\n",
              "      }\n",
              "      const div = document.createElement('div');\n",
              "      const label = document.createElement('label');\n",
              "      label.textContent = `Downloading \"${filename}\": `;\n",
              "      div.appendChild(label);\n",
              "      const progress = document.createElement('progress');\n",
              "      progress.max = size;\n",
              "      div.appendChild(progress);\n",
              "      document.body.appendChild(div);\n",
              "\n",
              "      const buffers = [];\n",
              "      let downloaded = 0;\n",
              "\n",
              "      const channel = await google.colab.kernel.comms.open(id);\n",
              "      // Send a message to notify the kernel that we're ready.\n",
              "      channel.send({})\n",
              "\n",
              "      for await (const message of channel.messages) {\n",
              "        // Send a message to notify the kernel that we're ready.\n",
              "        channel.send({})\n",
              "        if (message.buffers) {\n",
              "          for (const buffer of message.buffers) {\n",
              "            buffers.push(buffer);\n",
              "            downloaded += buffer.byteLength;\n",
              "            progress.value = downloaded;\n",
              "          }\n",
              "        }\n",
              "      }\n",
              "      const blob = new Blob(buffers, {type: 'application/binary'});\n",
              "      const a = document.createElement('a');\n",
              "      a.href = window.URL.createObjectURL(blob);\n",
              "      a.download = filename;\n",
              "      div.appendChild(a);\n",
              "      a.click();\n",
              "      div.remove();\n",
              "    }\n",
              "  "
            ],
            "text/plain": [
              "<IPython.core.display.Javascript object>"
            ]
          },
          "metadata": {
            "tags": []
          }
        },
        {
          "output_type": "display_data",
          "data": {
            "application/javascript": [
              "download(\"download_1b2bc8b1-49cd-4be8-9497-d758b7358d5f\", \"subword_meta.tsv\", 3901)"
            ],
            "text/plain": [
              "<IPython.core.display.Javascript object>"
            ]
          },
          "metadata": {
            "tags": []
          }
        }
      ]
    },
    {
      "cell_type": "code",
      "metadata": {
        "id": "pGLSXSGqKiY7",
        "colab_type": "code",
        "colab": {}
      },
      "source": [
        ""
      ],
      "execution_count": null,
      "outputs": []
    }
  ]
}