{
  "nbformat": 4,
  "nbformat_minor": 0,
  "metadata": {
    "colab": {
      "name": "Text generator using LSTM RNN.ipynb",
      "version": "0.3.2",
      "provenance": [],
      "collapsed_sections": []
    },
    "kernelspec": {
      "name": "python3",
      "display_name": "Python 3"
    }
  },
  "cells": [
    {
      "cell_type": "code",
      "metadata": {
        "id": "Ak_VIMZohMsR",
        "colab_type": "code",
        "colab": {
          "base_uri": "https://localhost:8080/",
          "height": 340
        },
        "outputId": "4a5b39f8-891f-455d-b382-71e8c8b9267e"
      },
      "source": [
        "!wget https://github.com/huseinzol05/Malaya-Dataset/raw/master/news-30k/news-30k.json.zip\n",
        "!unzip news-30k.json.zip"
      ],
      "execution_count": 2,
      "outputs": [
        {
          "output_type": "stream",
          "text": [
            "--2019-09-11 06:26:39--  https://github.com/huseinzol05/Malaya-Dataset/raw/master/news-30k/news-30k.json.zip\n",
            "Resolving github.com (github.com)... 192.30.253.113\n",
            "Connecting to github.com (github.com)|192.30.253.113|:443... connected.\n",
            "HTTP request sent, awaiting response... 302 Found\n",
            "Location: https://raw.githubusercontent.com/huseinzol05/Malaya-Dataset/master/news-30k/news-30k.json.zip [following]\n",
            "--2019-09-11 06:26:39--  https://raw.githubusercontent.com/huseinzol05/Malaya-Dataset/master/news-30k/news-30k.json.zip\n",
            "Resolving raw.githubusercontent.com (raw.githubusercontent.com)... 151.101.0.133, 151.101.64.133, 151.101.128.133, ...\n",
            "Connecting to raw.githubusercontent.com (raw.githubusercontent.com)|151.101.0.133|:443... connected.\n",
            "HTTP request sent, awaiting response... 200 OK\n",
            "Length: 21671789 (21M) [application/zip]\n",
            "Saving to: ‘news-30k.json.zip.1’\n",
            "\n",
            "news-30k.json.zip.1 100%[===================>]  20.67M   138MB/s    in 0.2s    \n",
            "\n",
            "2019-09-11 06:26:40 (138 MB/s) - ‘news-30k.json.zip.1’ saved [21671789/21671789]\n",
            "\n",
            "Archive:  news-30k.json.zip\n",
            "replace news-30k.json? [y]es, [n]o, [A]ll, [N]one, [r]ename: n\n",
            "replace __MACOSX/._news-30k.json? [y]es, [n]o, [A]ll, [N]one, [r]ename: n\n"
          ],
          "name": "stdout"
        }
      ]
    },
    {
      "cell_type": "code",
      "metadata": {
        "id": "q6koIRfMhWjH",
        "colab_type": "code",
        "colab": {}
      },
      "source": [
        "import json\n",
        "\n",
        "with open('news-30k.json') as fopen:\n",
        "  news = json.load(fopen)"
      ],
      "execution_count": 0,
      "outputs": []
    },
    {
      "cell_type": "code",
      "metadata": {
        "id": "ypQpRBYeqXCw",
        "colab_type": "code",
        "colab": {}
      },
      "source": [
        "news = news[:50]\n",
        "\n",
        "texts = [n['text'] for n in news]"
      ],
      "execution_count": 0,
      "outputs": []
    },
    {
      "cell_type": "code",
      "metadata": {
        "id": "vgYAntofqaG8",
        "colab_type": "code",
        "colab": {}
      },
      "source": [
        "import re\n",
        "\n",
        "def cleaning(string):\n",
        "  string = re.sub('[^A-Za-z ]+', ' ', string.lower())\n",
        "  string = re.sub(r'[ ]+', ' ', string).strip()\n",
        "  return string"
      ],
      "execution_count": 0,
      "outputs": []
    },
    {
      "cell_type": "code",
      "metadata": {
        "id": "atscmoyeqccl",
        "colab_type": "code",
        "colab": {}
      },
      "source": [
        "for i in range(len(texts)):\n",
        "  texts[i] = cleaning(texts[i])"
      ],
      "execution_count": 0,
      "outputs": []
    },
    {
      "cell_type": "code",
      "metadata": {
        "id": "K2OJL-1aqfOU",
        "colab_type": "code",
        "colab": {
          "base_uri": "https://localhost:8080/",
          "height": 34
        },
        "outputId": "9bda0a1d-a08b-4c2c-964c-da43f8b090b1"
      },
      "source": [
        "combined_texts = ' '.join(texts).split()\n",
        "vocab = list(set(combined_texts))\n",
        "\n",
        "len(combined_texts)"
      ],
      "execution_count": 7,
      "outputs": [
        {
          "output_type": "execute_result",
          "data": {
            "text/plain": [
              "10829"
            ]
          },
          "metadata": {
            "tags": []
          },
          "execution_count": 7
        }
      ]
    },
    {
      "cell_type": "code",
      "metadata": {
        "id": "wC8tLeojqhg8",
        "colab_type": "code",
        "colab": {}
      },
      "source": [
        "def embed_to_onehot(data, vocab):\n",
        "    onehot = np.zeros((len(data)), dtype = np.int32)\n",
        "    for i in range(len(data)):\n",
        "        onehot[i] = vocab.index(data[i])\n",
        "    return onehot"
      ],
      "execution_count": 0,
      "outputs": []
    },
    {
      "cell_type": "code",
      "metadata": {
        "id": "KfR99ijOqjiY",
        "colab_type": "code",
        "colab": {}
      },
      "source": [
        "text_vocab = vocab\n",
        "text = combined_texts"
      ],
      "execution_count": 0,
      "outputs": []
    },
    {
      "cell_type": "code",
      "metadata": {
        "id": "kI82SfFeqlq9",
        "colab_type": "code",
        "colab": {}
      },
      "source": [
        "learning_rate = 0.001\n",
        "batch_size = 16\n",
        "sequence_length = 32\n",
        "epoch = 500\n",
        "num_layers = 2\n",
        "size_layer = 256\n",
        "possible_batch_id = range(len(texts) - sequence_length - 1)\n",
        "\n",
        "class Model:\n",
        "    def __init__(\n",
        "        self, num_layers, size_layer, dimension, sequence_length, learning_rate\n",
        "    ):\n",
        "        def lstm_cell():\n",
        "            return tf.nn.rnn_cell.LSTMCell(\n",
        "                size_layer, sequence_length, state_is_tuple = False\n",
        "            )\n",
        "\n",
        "        self.rnn_cells = tf.nn.rnn_cell.MultiRNNCell(\n",
        "            [lstm_cell() for _ in range(num_layers)], state_is_tuple = False\n",
        "        )\n",
        "        self.X = tf.placeholder(tf.int32, (None, None))\n",
        "        self.Y = tf.placeholder(tf.int32, (None, None))\n",
        "        \n",
        "        embeddings = tf.Variable(\n",
        "            tf.random_uniform([len(text_vocab), size_layer], -1, 1)\n",
        "        )\n",
        "        encoder_embedded = tf.nn.embedding_lookup(embeddings, self.X)\n",
        "        \n",
        "        self.hidden_layer = tf.placeholder(\n",
        "            tf.float32, (None, num_layers * 2 * size_layer)\n",
        "        )\n",
        "        self.outputs, self.last_state = tf.nn.dynamic_rnn(\n",
        "            self.rnn_cells,\n",
        "            encoder_embedded,\n",
        "            initial_state = self.hidden_layer,\n",
        "            dtype = tf.float32,\n",
        "        )\n",
        "        \n",
        "        self.logits = tf.layers.dense(self.outputs, dimension)\n",
        "        \n",
        "        logits_long = tf.reshape(self.logits, [-1, dimension])\n",
        "        y_batch_long = tf.reshape(self.Y, [-1])\n",
        "        self.cost = tf.reduce_mean(\n",
        "            tf.nn.sparse_softmax_cross_entropy_with_logits(\n",
        "                logits = logits_long, labels = y_batch_long\n",
        "            )\n",
        "        )\n",
        "        self.optimizer = tf.train.AdamOptimizer(learning_rate).minimize(\n",
        "            self.cost\n",
        "        )\n",
        "        self.correct_pred = tf.equal(\n",
        "            tf.argmax(logits_long, 1), tf.cast(y_batch_long, tf.int64)\n",
        "        )\n",
        "        self.accuracy = tf.reduce_mean(tf.cast(self.correct_pred, tf.float32))\n",
        "        self.final_outputs = tf.nn.softmax(self.logits)"
      ],
      "execution_count": 0,
      "outputs": []
    },
    {
      "cell_type": "code",
      "metadata": {
        "id": "nWSk8KlPqojN",
        "colab_type": "code",
        "colab": {
          "base_uri": "https://localhost:8080/",
          "height": 377
        },
        "outputId": "8f69f74e-908e-450a-99ca-b3fa5262af5a"
      },
      "source": [
        "import tensorflow as tf\n",
        "\n",
        "tf.reset_default_graph()\n",
        "sess = tf.InteractiveSession()\n",
        "model = Model(num_layers, size_layer, len(text_vocab), sequence_length, learning_rate)\n",
        "sess.run(tf.global_variables_initializer())"
      ],
      "execution_count": 11,
      "outputs": [
        {
          "output_type": "stream",
          "text": [
            "WARNING:tensorflow:From <ipython-input-10-d8a0068f0f09>:15: LSTMCell.__init__ (from tensorflow.python.ops.rnn_cell_impl) is deprecated and will be removed in a future version.\n",
            "Instructions for updating:\n",
            "This class is equivalent as tf.keras.layers.LSTMCell, and will be replaced by that in Tensorflow 2.0.\n",
            "WARNING:tensorflow:<tensorflow.python.ops.rnn_cell_impl.LSTMCell object at 0x7fdb4cfd7160>: Using a concatenated state is slower and will soon be deprecated.  Use state_is_tuple=True.\n",
            "WARNING:tensorflow:<tensorflow.python.ops.rnn_cell_impl.LSTMCell object at 0x7fdb4cfd7cc0>: Using a concatenated state is slower and will soon be deprecated.  Use state_is_tuple=True.\n",
            "WARNING:tensorflow:From <ipython-input-10-d8a0068f0f09>:19: MultiRNNCell.__init__ (from tensorflow.python.ops.rnn_cell_impl) is deprecated and will be removed in a future version.\n",
            "Instructions for updating:\n",
            "This class is equivalent as tf.keras.layers.StackedRNNCells, and will be replaced by that in Tensorflow 2.0.\n",
            "WARNING:tensorflow:From <ipython-input-10-d8a0068f0f09>:36: dynamic_rnn (from tensorflow.python.ops.rnn) is deprecated and will be removed in a future version.\n",
            "Instructions for updating:\n",
            "Please use `keras.layers.RNN(cell)`, which is equivalent to this API\n",
            "WARNING:tensorflow:From /usr/local/lib/python3.6/dist-packages/tensorflow/python/ops/init_ops.py:1251: calling VarianceScaling.__init__ (from tensorflow.python.ops.init_ops) with dtype is deprecated and will be removed in a future version.\n",
            "Instructions for updating:\n",
            "Call initializer instance with the dtype argument instead of passing it to the constructor\n",
            "WARNING:tensorflow:From /usr/local/lib/python3.6/dist-packages/tensorflow/python/ops/rnn_cell_impl.py:961: calling Zeros.__init__ (from tensorflow.python.ops.init_ops) with dtype is deprecated and will be removed in a future version.\n",
            "Instructions for updating:\n",
            "Call initializer instance with the dtype argument instead of passing it to the constructor\n",
            "WARNING:tensorflow:From <ipython-input-10-d8a0068f0f09>:39: dense (from tensorflow.python.layers.core) is deprecated and will be removed in a future version.\n",
            "Instructions for updating:\n",
            "Use keras.layers.dense instead.\n"
          ],
          "name": "stdout"
        }
      ]
    },
    {
      "cell_type": "code",
      "metadata": {
        "id": "bKPC8JRWqrFG",
        "colab_type": "code",
        "colab": {
          "base_uri": "https://localhost:8080/",
          "height": 34
        },
        "outputId": "7ae83a6f-685a-4830-84d3-9f4d4fd91525"
      },
      "source": [
        "from tqdm import tqdm\n",
        "import time\n",
        "import numpy as np\n",
        "import random\n",
        "\n",
        "def train_random_sequence():\n",
        "    LOST, ACCURACY = [], []\n",
        "    pbar = tqdm(range(epoch), desc = 'epoch')\n",
        "    for i in pbar:\n",
        "        last_time = time.time()\n",
        "        init_value = np.zeros((batch_size, num_layers * 2 * size_layer))\n",
        "        batch_x = np.zeros((batch_size, sequence_length))\n",
        "        batch_y = np.zeros((batch_size, sequence_length))\n",
        "        batch_id = random.sample(possible_batch_id, batch_size)\n",
        "        for n in range(sequence_length):\n",
        "            id1 = embed_to_onehot([text[k + n] for k in batch_id],text_vocab)\n",
        "            id2 = embed_to_onehot([text[k + n + 1] for k in batch_id],text_vocab)\n",
        "            batch_x[:,n] = id1\n",
        "            batch_y[:,n] = id2\n",
        "        last_state, _, loss = sess.run([model.last_state, model.optimizer, model.cost], \n",
        "                                       feed_dict = {model.X: batch_x, \n",
        "                                                    model.Y: batch_y,\n",
        "                                                    model.hidden_layer: init_value})\n",
        "        accuracy = sess.run(model.accuracy, feed_dict = {model.X: batch_x, \n",
        "                                                         model.Y: batch_y, \n",
        "                                                         model.hidden_layer: init_value})\n",
        "        ACCURACY.append(accuracy); LOST.append(loss)\n",
        "        init_value = last_state\n",
        "        pbar.set_postfix(cost = loss, accuracy = accuracy)\n",
        "    return LOST, ACCURACY\n",
        "\n",
        "LOST, ACCURACY = train_random_sequence()\n"
      ],
      "execution_count": 12,
      "outputs": [
        {
          "output_type": "stream",
          "text": [
            "epoch: 100%|██████████| 500/500 [04:11<00:00,  2.04it/s, accuracy=1, cost=0.0221]\n"
          ],
          "name": "stderr"
        }
      ]
    },
    {
      "cell_type": "code",
      "metadata": {
        "id": "AB9aTQdqqtyG",
        "colab_type": "code",
        "colab": {
          "base_uri": "https://localhost:8080/",
          "height": 337
        },
        "outputId": "cb4d9084-b1e9-4903-ffba-7289948629e1"
      },
      "source": [
        "import matplotlib.pyplot as plt\n",
        "\n",
        "plt.figure(figsize = (15, 5))\n",
        "plt.subplot(1, 2, 1)\n",
        "EPOCH = np.arange(len(LOST))\n",
        "plt.plot(EPOCH, LOST)\n",
        "plt.xlabel('epoch')\n",
        "plt.ylabel('loss')\n",
        "plt.subplot(1, 2, 2)\n",
        "plt.plot(EPOCH, ACCURACY)\n",
        "plt.xlabel('epoch')\n",
        "plt.ylabel('accuracy')\n",
        "plt.show()"
      ],
      "execution_count": 13,
      "outputs": [
        {
          "output_type": "display_data",
          "data": {
            "image/png": "[encoded data removed]",
            "text/plain": [
              "<Figure size 1080x360 with 2 Axes>"
            ]
          },
          "metadata": {
            "tags": []
          }
        }
      ]
    },
    {
      "cell_type": "code",
      "metadata": {
        "id": "wlLS32WLqwDO",
        "colab_type": "code",
        "colab": {
          "base_uri": "https://localhost:8080/",
          "height": 34
        },
        "outputId": "b26f77d8-8b26-418f-b668-f4dd09f3846a"
      },
      "source": [
        "split_text = text\n",
        "selected_index = np.random.randint(0, len(split_text) - 5)\n",
        "tag = split_text[selected_index:selected_index + 5]\n",
        "print(tag)"
      ],
      "execution_count": 14,
      "outputs": [
        {
          "output_type": "stream",
          "text": [
            "['shah', 'alam', 'yang', 'di', 'pertuan']\n"
          ],
          "name": "stdout"
        }
      ]
    },
    {
      "cell_type": "code",
      "metadata": {
        "id": "CQ58qLCvqxu-",
        "colab_type": "code",
        "colab": {
          "base_uri": "https://localhost:8080/",
          "height": 54
        },
        "outputId": "74b69c67-282a-4b8c-d3f8-022584940f7e"
      },
      "source": [
        "def generate_based_sequence(length_sentence, argmax = False):\n",
        "    sentence_generated = tag[:]\n",
        "    onehot = embed_to_onehot(tag, text_vocab)\n",
        "    init_value = np.zeros((1, num_layers * 2 * size_layer))\n",
        "    for i in range(len(tag)):\n",
        "        batch_x = np.zeros((1, 1))\n",
        "        batch_x[0] = onehot[i]\n",
        "        last_state, prob = sess.run(\n",
        "            [model.last_state, model.final_outputs],\n",
        "            feed_dict = {model.X: batch_x, model.hidden_layer: init_value},\n",
        "        )\n",
        "        init_value = last_state\n",
        "\n",
        "    for i in range(length_sentence):\n",
        "        if argmax:\n",
        "            char = np.argmax(prob[0][0])\n",
        "        else:\n",
        "            char = np.random.choice(range(len(text_vocab)), p = prob[0][0])\n",
        "        element = [text_vocab[char]]\n",
        "        sentence_generated += element\n",
        "        onehot = embed_to_onehot(element, text_vocab)\n",
        "        batch_x = np.zeros((1, 1))\n",
        "        batch_x[0] = onehot[0]\n",
        "        last_state, prob = sess.run(\n",
        "            [model.last_state, model.final_outputs],\n",
        "            feed_dict = {model.X: batch_x, model.hidden_layer: init_value},\n",
        "        )\n",
        "        init_value = last_state\n",
        "\n",
        "    return ' '.join(sentence_generated)\n",
        "\n",
        "print(generate_based_sequence(100,False))"
      ],
      "execution_count": 15,
      "outputs": [
        {
          "output_type": "stream",
          "text": [
            "shah alam yang di pertuan di di christchurch new zealand pada mac lepas melahirkan rasa terharu akan sokongan diberi rakyat malaysia semasa perhimpunan solidariti kedamaian zarina shuib ibu saudara muhammad haziq memanjatkan kesyukuran kepada allah swt kerana berkesempatan menyertai dalam malaysia dalam malaysia solidariti kedamaian zarina shuib muhammad haziq memanjatkan kesyukuran kepada allah swt kerana berkesempatan menyertai rakyat malaysia dalam perhimpunan solidariti kedamaian zarina shuib muhammad muhammad haziq memanjatkan kesyukuran kepada allah swt kerana berkesempatan menyertai berkesempatan menyertai rakyat malaysia dalam rakyat perhimpunan solidariti kedamaian zarina shuib ibu saudara muhammad haziq memanjatkan kesyukuran kepada allah swt kerana berkesempatan menyertai rakyat malaysia dalam perhimpunan solidariti kedamaian\n"
          ],
          "name": "stdout"
        }
      ]
    },
    {
      "cell_type": "code",
      "metadata": {
        "id": "aOyJPaJrHJID",
        "colab_type": "code",
        "colab": {
          "base_uri": "https://localhost:8080/",
          "height": 34
        },
        "outputId": "66e9c3b0-ff69-4f87-80fa-77c1caa4ac82"
      },
      "source": [
        "split_text = text\n",
        "selected_index = np.random.randint(0, len(split_text) - 5)\n",
        "tag = split_text[selected_index:selected_index + 5]\n",
        "print(tag)"
      ],
      "execution_count": 19,
      "outputs": [
        {
          "output_type": "stream",
          "text": [
            "['bangladesh', 'diserang', 'sakit', 'jantung', 'dan']\n"
          ],
          "name": "stdout"
        }
      ]
    },
    {
      "cell_type": "code",
      "metadata": {
        "id": "EOaXR6fgHmbm",
        "colab_type": "code",
        "colab": {
          "base_uri": "https://localhost:8080/",
          "height": 54
        },
        "outputId": "11428d54-6b29-4c17-cfc5-bc94b0ca3c89"
      },
      "source": [
        "def generate_based_sequence(length_sentence, argmax = False):\n",
        "    sentence_generated = tag[:]\n",
        "    onehot = embed_to_onehot(tag, text_vocab)\n",
        "    init_value = np.zeros((1, num_layers * 2 * size_layer))\n",
        "    for i in range(len(tag)):\n",
        "        batch_x = np.zeros((1, 1))\n",
        "        batch_x[0] = onehot[i]\n",
        "        last_state, prob = sess.run(\n",
        "            [model.last_state, model.final_outputs],\n",
        "            feed_dict = {model.X: batch_x, model.hidden_layer: init_value},\n",
        "        )\n",
        "        init_value = last_state\n",
        "\n",
        "    for i in range(length_sentence):\n",
        "        if argmax:\n",
        "            char = np.argmax(prob[0][0])\n",
        "        else:\n",
        "            char = np.random.choice(range(len(text_vocab)), p = prob[0][0])\n",
        "        element = [text_vocab[char]]\n",
        "        sentence_generated += element\n",
        "        onehot = embed_to_onehot(element, text_vocab)\n",
        "        batch_x = np.zeros((1, 1))\n",
        "        batch_x[0] = onehot[0]\n",
        "        last_state, prob = sess.run(\n",
        "            [model.last_state, model.final_outputs],\n",
        "            feed_dict = {model.X: batch_x, model.hidden_layer: init_value},\n",
        "        )\n",
        "        init_value = last_state\n",
        "\n",
        "    return ' '.join(sentence_generated)\n",
        "\n",
        "print(generate_based_sequence(100,False))"
      ],
      "execution_count": 20,
      "outputs": [
        {
          "output_type": "stream",
          "text": [
            "bangladesh diserang sakit jantung dan dalam tragedi tembakan di christchurch new zealand pada mac lepas melahirkan rasa terharu akan sokongan diberi rakyat malaysia semasa perhimpunan solidariti kedamaian zarina shuib ibu saudara muhammad haziq memanjatkan kesyukuran kepada allah swt kerana berkesempatan menyertai dalam rakyat malaysia semasa perhimpunan solidariti kedamaian ibu saudara muhammad haziq memanjatkan kesyukuran kepada swt kerana berkesempatan menyertai rakyat malaysia dalam perhimpunan solidariti kedamaian zarina ibu saudara muhammad haziq memanjatkan kesyukuran kepada allah swt kerana berkesempatan menyertai rakyat malaysia dalam perhimpunan solidariti shuib ibu saudara muhammad haziq memanjatkan kesyukuran kepada allah swt kerana berkesempatan menyertai rakyat malaysia dalam perhimpunan solidariti kedamaian shuib ibu saudara\n"
          ],
          "name": "stdout"
        }
      ]
    },
    {
      "cell_type": "code",
      "metadata": {
        "id": "8LxHWq_THpgq",
        "colab_type": "code",
        "colab": {
          "base_uri": "https://localhost:8080/",
          "height": 54
        },
        "outputId": "f1bda04a-db91-4391-b811-6b7f915f4fba"
      },
      "source": [
        "tag = ['shah', 'alam', 'yang', 'di', 'pertuan']\n",
        "\n",
        "def generate_based_sequence(length_sentence, argmax = False):\n",
        "    sentence_generated = tag[:]\n",
        "    onehot = embed_to_onehot(tag, text_vocab)\n",
        "    init_value = np.zeros((1, num_layers * 2 * size_layer))\n",
        "    for i in range(len(tag)):\n",
        "        batch_x = np.zeros((1, 1))\n",
        "        batch_x[0] = onehot[i]\n",
        "        last_state, prob = sess.run(\n",
        "            [model.last_state, model.final_outputs],\n",
        "            feed_dict = {model.X: batch_x, model.hidden_layer: init_value},\n",
        "        )\n",
        "        init_value = last_state\n",
        "\n",
        "    for i in range(length_sentence):\n",
        "        if argmax:\n",
        "            char = np.argmax(prob[0][0])\n",
        "        else:\n",
        "            char = np.random.choice(range(len(text_vocab)), p = prob[0][0])\n",
        "        element = [text_vocab[char]]\n",
        "        sentence_generated += element\n",
        "        onehot = embed_to_onehot(element, text_vocab)\n",
        "        batch_x = np.zeros((1, 1))\n",
        "        batch_x[0] = onehot[0]\n",
        "        last_state, prob = sess.run(\n",
        "            [model.last_state, model.final_outputs],\n",
        "            feed_dict = {model.X: batch_x, model.hidden_layer: init_value},\n",
        "        )\n",
        "        init_value = last_state\n",
        "\n",
        "    return ' '.join(sentence_generated)\n",
        "\n",
        "print(generate_based_sequence(100,False))"
      ],
      "execution_count": 25,
      "outputs": [
        {
          "output_type": "stream",
          "text": [
            "shah alam yang di pertuan christchurch zealand pada mac lepas melahirkan rasa terharu akan sokongan diberi rakyat malaysia semasa perhimpunan solidariti kedamaian zarina shuib ibu saudara muhammad haziq memanjatkan kesyukuran kepada allah swt swt kerana berkesempatan menyertai rakyat malaysia dalam perhimpunan solidariti kedamaian zarina shuib ibu muhammad haziq memanjatkan kesyukuran kepada allah swt kerana berkesempatan menyertai rakyat malaysia dalam perhimpunan solidariti kedamaian zarina shuib ibu haziq memanjatkan kesyukuran kepada allah swt kerana berkesempatan menyertai rakyat malaysia dalam perhimpunan solidariti kedamaian ibu saudara muhammad haziq memanjatkan kesyukuran kepada allah swt kerana berkesempatan menyertai rakyat malaysia dalam perhimpunan solidariti kedamaian zarina shuib ibu muhammad haziq memanjatkan kesyukuran\n"
          ],
          "name": "stdout"
        }
      ]
    },
    {
      "cell_type": "code",
      "metadata": {
        "id": "nmFmNMIlLerg",
        "colab_type": "code",
        "colab": {
          "base_uri": "https://localhost:8080/",
          "height": 54
        },
        "outputId": "c4b63e1b-5512-4c43-e4ce-d79098a35418"
      },
      "source": [
        "tag = ['apa', 'dia', 'rasa']\n",
        "\n",
        "def generate_based_sequence(length_sentence, argmax = False):\n",
        "    sentence_generated = tag[:]\n",
        "    onehot = embed_to_onehot(tag, text_vocab)\n",
        "    init_value = np.zeros((1, num_layers * 2 * size_layer))\n",
        "    for i in range(len(tag)):\n",
        "        batch_x = np.zeros((1, 1))\n",
        "        batch_x[0] = onehot[i]\n",
        "        last_state, prob = sess.run(\n",
        "            [model.last_state, model.final_outputs],\n",
        "            feed_dict = {model.X: batch_x, model.hidden_layer: init_value},\n",
        "        )\n",
        "        init_value = last_state\n",
        "\n",
        "    for i in range(length_sentence):\n",
        "        if argmax:\n",
        "            char = np.argmax(prob[0][0])\n",
        "        else:\n",
        "            char = np.random.choice(range(len(text_vocab)), p = prob[0][0])\n",
        "        element = [text_vocab[char]]\n",
        "        sentence_generated += element\n",
        "        onehot = embed_to_onehot(element, text_vocab)\n",
        "        batch_x = np.zeros((1, 1))\n",
        "        batch_x[0] = onehot[0]\n",
        "        last_state, prob = sess.run(\n",
        "            [model.last_state, model.final_outputs],\n",
        "            feed_dict = {model.X: batch_x, model.hidden_layer: init_value},\n",
        "        )\n",
        "        init_value = last_state\n",
        "\n",
        "    return ' '.join(sentence_generated)\n",
        "\n",
        "print(generate_based_sequence(100,False))"
      ],
      "execution_count": 28,
      "outputs": [
        {
          "output_type": "stream",
          "text": [
            "apa dia rasa dalam tragedi tembakan di christchurch new zealand pada mac lepas melahirkan rasa terharu akan sokongan diberi rakyat malaysia semasa perhimpunan solidariti kedamaian zarina shuib ibu saudara muhammad haziq memanjatkan kesyukuran kepada allah swt kerana berkesempatan menyertai rakyat malaysia dalam perhimpunan solidariti kedamaian shuib ibu saudara muhammad haziq memanjatkan kesyukuran kepada allah swt kerana berkesempatan menyertai rakyat perhimpunan malaysia dalam perhimpunan zarina zarina ibu muhammad haziq memanjatkan kesyukuran kepada allah swt kerana berkesempatan menyertai rakyat malaysia dalam perhimpunan solidariti kedamaian zarina shuib ibu muhammad haziq memanjatkan kesyukuran kepada allah swt kerana berkesempatan menyertai rakyat malaysia dalam perhimpunan shuib shuib ibu saudara\n"
          ],
          "name": "stdout"
        }
      ]
    },
    {
      "cell_type": "code",
      "metadata": {
        "id": "F6Wz0KG3MAz1",
        "colab_type": "code",
        "colab": {}
      },
      "source": [
        ""
      ],
      "execution_count": 0,
      "outputs": []
    }
  ]
}