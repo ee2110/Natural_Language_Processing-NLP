{
  "nbformat": 4,
  "nbformat_minor": 0,
  "metadata": {
    "colab": {
      "name": "bow-tfidf-multinomial-sgd.ipynb",
      "version": "0.3.2",
      "provenance": [],
      "collapsed_sections": []
    },
    "kernelspec": {
      "name": "python3",
      "display_name": "Python 3"
    },
    "accelerator": "GPU"
  },
  "cells": [
    {
      "cell_type": "code",
      "metadata": {
        "id": "8xsVTUeh9DKG",
        "colab_type": "code",
        "colab": {
          "base_uri": "https://localhost:8080/",
          "height": 391
        },
        "outputId": "aaa84c67-96f2-4944-925f-07b5211b7526"
      },
      "source": [
        "# Download dataset\n",
        "!wget https://raw.githubusercontent.com/huseinzol05/Malaya-Dataset/master/subjectivity/subjectivity-negative-bm.txt\n",
        "!wget https://raw.githubusercontent.com/huseinzol05/Malaya-Dataset/master/subjectivity/subjectivity-positive-bm.txt"
      ],
      "execution_count": 1,
      "outputs": [
        {
          "output_type": "stream",
          "text": [
            "--2019-09-11 01:44:41--  https://raw.githubusercontent.com/huseinzol05/Malaya-Dataset/master/subjectivity/subjectivity-negative-bm.txt\n",
            "Resolving raw.githubusercontent.com (raw.githubusercontent.com)... 151.101.0.133, 151.101.64.133, 151.101.128.133, ...\n",
            "Connecting to raw.githubusercontent.com (raw.githubusercontent.com)|151.101.0.133|:443... connected.\n",
            "HTTP request sent, awaiting response... 200 OK\n",
            "Length: 700425 (684K) [text/plain]\n",
            "Saving to: ‘subjectivity-negative-bm.txt’\n",
            "\n",
            "\r          subjectiv   0%[                    ]       0  --.-KB/s               \rsubjectivity-negati 100%[===================>] 684.01K  --.-KB/s    in 0.07s   \n",
            "\n",
            "2019-09-11 01:44:42 (9.84 MB/s) - ‘subjectivity-negative-bm.txt’ saved [700425/700425]\n",
            "\n",
            "--2019-09-11 01:44:45--  https://raw.githubusercontent.com/huseinzol05/Malaya-Dataset/master/subjectivity/subjectivity-positive-bm.txt\n",
            "Resolving raw.githubusercontent.com (raw.githubusercontent.com)... 151.101.0.133, 151.101.64.133, 151.101.128.133, ...\n",
            "Connecting to raw.githubusercontent.com (raw.githubusercontent.com)|151.101.0.133|:443... connected.\n",
            "HTTP request sent, awaiting response... 200 OK\n",
            "Length: 651624 (636K) [text/plain]\n",
            "Saving to: ‘subjectivity-positive-bm.txt’\n",
            "\n",
            "subjectivity-positi 100%[===================>] 636.35K  --.-KB/s    in 0.06s   \n",
            "\n",
            "2019-09-11 01:44:46 (10.2 MB/s) - ‘subjectivity-positive-bm.txt’ saved [651624/651624]\n",
            "\n"
          ],
          "name": "stdout"
        }
      ]
    },
    {
      "cell_type": "code",
      "metadata": {
        "id": "MTpBlh1-_i7P",
        "colab_type": "code",
        "colab": {
          "base_uri": "https://localhost:8080/",
          "height": 34
        },
        "outputId": "21ba3bcd-d0ac-4142-d70f-c003e80c21f7"
      },
      "source": [
        "# Check if have the dataset downloaded\n",
        "!ls"
      ],
      "execution_count": 2,
      "outputs": [
        {
          "output_type": "stream",
          "text": [
            "sample_data  subjectivity-negative-bm.txt  subjectivity-positive-bm.txt\n"
          ],
          "name": "stdout"
        }
      ]
    },
    {
      "cell_type": "code",
      "metadata": {
        "id": "LozHHmXK_4oi",
        "colab_type": "code",
        "colab": {}
      },
      "source": [
        "with open('subjectivity-negative-bm.txt') as fopen:\n",
        "  negative = fopen.read().split('\\n')[:-1]\n",
        "\n",
        "with open('subjectivity-positive-bm.txt') as fopen:\n",
        "  positive = fopen.read().split('\\n')[:-1]"
      ],
      "execution_count": 0,
      "outputs": []
    },
    {
      "cell_type": "code",
      "metadata": {
        "id": "YBjizl5iA6hP",
        "colab_type": "code",
        "colab": {
          "base_uri": "https://localhost:8080/",
          "height": 34
        },
        "outputId": "f0b57aeb-6218-4fac-a612-c4e86dd87c09"
      },
      "source": [
        "len(negative), len(positive)"
      ],
      "execution_count": 6,
      "outputs": [
        {
          "output_type": "execute_result",
          "data": {
            "text/plain": [
              "(4989, 4971)"
            ]
          },
          "metadata": {
            "tags": []
          },
          "execution_count": 6
        }
      ]
    },
    {
      "cell_type": "markdown",
      "metadata": {
        "id": "trk4W2sItGIF",
        "colab_type": "text"
      },
      "source": [
        "RegEx, or Regular Expression, is a sequence of characters that forms a search pattern. RegEx can be used to check if a string contains the specified search pattern. "
      ]
    },
    {
      "cell_type": "code",
      "metadata": {
        "id": "McxRi1GaBB3V",
        "colab_type": "code",
        "colab": {}
      },
      "source": [
        "# Import regular expression\n",
        "import re\n",
        "\n",
        "def cleaning(string):\n",
        "  #\n",
        "  string = re.sub('[^A-Za-z ]+', ' ', string.lower())\n",
        "  string = re.sub(r'[ ]+', ' ', string).strip()\n",
        "  return string"
      ],
      "execution_count": 0,
      "outputs": []
    },
    {
      "cell_type": "code",
      "metadata": {
        "id": "jqrcgq-GBMlm",
        "colab_type": "code",
        "colab": {
          "base_uri": "https://localhost:8080/",
          "height": 34
        },
        "outputId": "02dfd3f4-4574-44d5-983b-6df98eeb3e69"
      },
      "source": [
        "cleaning(negative[0])"
      ],
      "execution_count": 8,
      "outputs": [
        {
          "output_type": "execute_result",
          "data": {
            "text/plain": [
              "'filem bermula pada masa lalu di mana seorang budak lelaki bernama sam cuba menyelamatkan celebi dari pemburu'"
            ]
          },
          "metadata": {
            "tags": []
          },
          "execution_count": 8
        }
      ]
    },
    {
      "cell_type": "code",
      "metadata": {
        "id": "z2kT80HzBfzC",
        "colab_type": "code",
        "colab": {}
      },
      "source": [
        "for i in range(len(negative)):\n",
        "  negative[i] = cleaning(negative[i])\n",
        "\n",
        "for i in range(len(positive)):\n",
        "  positive[i] = cleaning(positive[i])"
      ],
      "execution_count": 0,
      "outputs": []
    },
    {
      "cell_type": "code",
      "metadata": {
        "id": "Qpg0iVoMBw9d",
        "colab_type": "code",
        "colab": {
          "base_uri": "https://localhost:8080/",
          "height": 34
        },
        "outputId": "44521102-d7c9-447d-93b7-8a9f777ebad8"
      },
      "source": [
        "X = negative + positive\n",
        "Y = [0] * len(negative) + [1] * len(positive)\n",
        "len(X), len(Y)"
      ],
      "execution_count": 10,
      "outputs": [
        {
          "output_type": "execute_result",
          "data": {
            "text/plain": [
              "(9960, 9960)"
            ]
          },
          "metadata": {
            "tags": []
          },
          "execution_count": 10
        }
      ]
    },
    {
      "cell_type": "code",
      "metadata": {
        "id": "EAZVLOc7FKRp",
        "colab_type": "code",
        "colab": {}
      },
      "source": [
        "from sklearn.feature_extraction.text import CountVectorizer, TfidfVectorizer"
      ],
      "execution_count": 0,
      "outputs": []
    },
    {
      "cell_type": "code",
      "metadata": {
        "id": "6DhZe6wtFMUB",
        "colab_type": "code",
        "colab": {}
      },
      "source": [
        "bow = CountVectorizer().fit(X)\n",
        "tfidf = TfidfVectorizer().fit(X)"
      ],
      "execution_count": 0,
      "outputs": []
    },
    {
      "cell_type": "markdown",
      "metadata": {
        "id": "C3pJlbavGzwi",
        "colab_type": "text"
      },
      "source": [
        "CountVectorizer to make it become table form, then tfid will calculate the log value"
      ]
    },
    {
      "cell_type": "code",
      "metadata": {
        "id": "8lFcZ5i2FNsN",
        "colab_type": "code",
        "colab": {
          "base_uri": "https://localhost:8080/",
          "height": 34
        },
        "outputId": "90635a2d-42b6-4f09-a2ba-61ddf0e5ca16"
      },
      "source": [
        "bow_X = bow.transform(X)\n",
        "tfidf_X = tfidf.transform(X)\n",
        "bow_X.shape, tfidf_X.shape"
      ],
      "execution_count": 13,
      "outputs": [
        {
          "output_type": "execute_result",
          "data": {
            "text/plain": [
              "((9960, 16959), (9960, 16959))"
            ]
          },
          "metadata": {
            "tags": []
          },
          "execution_count": 13
        }
      ]
    },
    {
      "cell_type": "code",
      "metadata": {
        "id": "YyAu7kGPFTgj",
        "colab_type": "code",
        "colab": {}
      },
      "source": [
        "from sklearn.model_selection import train_test_split\n",
        "\n",
        "train_bow_X, test_bow_X, train_bow_Y, test_bow_Y = train_test_split(bow_X, Y, test_size = 0.2)\n",
        "train_tfidf_X, test_tfidf_X, train_tfidf_Y, test_tfidf_Y = train_test_split(tfidf_X, Y, test_size = 0.2)"
      ],
      "execution_count": 0,
      "outputs": []
    },
    {
      "cell_type": "code",
      "metadata": {
        "id": "9IoCy08dJBSP",
        "colab_type": "code",
        "colab": {}
      },
      "source": [
        "from sklearn.naive_bayes import MultinomialNB"
      ],
      "execution_count": 0,
      "outputs": []
    },
    {
      "cell_type": "code",
      "metadata": {
        "id": "2CHFYFp6JajY",
        "colab_type": "code",
        "colab": {}
      },
      "source": [
        "nb_bow = MultinomialNB().fit(train_bow_X,train_bow_Y)\n",
        "nb_tfidf = MultinomialNB().fit(train_tfidf_X,train_tfidf_Y)"
      ],
      "execution_count": 0,
      "outputs": []
    },
    {
      "cell_type": "code",
      "metadata": {
        "id": "PI-1k5nXJcx3",
        "colab_type": "code",
        "colab": {
          "base_uri": "https://localhost:8080/",
          "height": 170
        },
        "outputId": "dcd3eb24-40ea-4256-8d25-570f5307dd61"
      },
      "source": [
        "from sklearn import metrics\n",
        "\n",
        "predict_Y = nb_bow.predict(test_bow_X)\n",
        "\n",
        "print(\n",
        "    metrics.classification_report(\n",
        "        test_bow_Y, predict_Y, target_names = ['negative', 'positive'], digits = 6\n",
        "    )\n",
        ")"
      ],
      "execution_count": 18,
      "outputs": [
        {
          "output_type": "stream",
          "text": [
            "              precision    recall  f1-score   support\n",
            "\n",
            "    negative   0.924195  0.871694  0.897177      1021\n",
            "    positive   0.872692  0.924820  0.898000       971\n",
            "\n",
            "    accuracy                       0.897590      1992\n",
            "   macro avg   0.898444  0.898257  0.897589      1992\n",
            "weighted avg   0.899090  0.897590  0.897578      1992\n",
            "\n"
          ],
          "name": "stdout"
        }
      ]
    },
    {
      "cell_type": "code",
      "metadata": {
        "id": "_qD3RlVUJigN",
        "colab_type": "code",
        "colab": {
          "base_uri": "https://localhost:8080/",
          "height": 170
        },
        "outputId": "b554c12a-eab9-4080-9a43-cf1d295f495a"
      },
      "source": [
        "predict_Y = nb_tfidf.predict(test_tfidf_X)\n",
        "\n",
        "print(\n",
        "    metrics.classification_report(\n",
        "        test_tfidf_Y, predict_Y, target_names = ['negative', 'positive'], digits = 6\n",
        "    )\n",
        ")"
      ],
      "execution_count": 19,
      "outputs": [
        {
          "output_type": "stream",
          "text": [
            "              precision    recall  f1-score   support\n",
            "\n",
            "    negative   0.930818  0.852207  0.889780      1042\n",
            "    positive   0.851638  0.930526  0.889336       950\n",
            "\n",
            "    accuracy                       0.889558      1992\n",
            "   macro avg   0.891228  0.891367  0.889558      1992\n",
            "weighted avg   0.893056  0.889558  0.889568      1992\n",
            "\n"
          ],
          "name": "stdout"
        }
      ]
    },
    {
      "cell_type": "code",
      "metadata": {
        "id": "a1m2XOYeMYyj",
        "colab_type": "code",
        "colab": {}
      },
      "source": [
        "from sklearn.linear_model import SGDClassifier"
      ],
      "execution_count": 0,
      "outputs": []
    },
    {
      "cell_type": "code",
      "metadata": {
        "id": "tEjki0ytMcVO",
        "colab_type": "code",
        "colab": {}
      },
      "source": [
        "sgd_bow = SGDClassifier().fit(train_bow_X,train_bow_Y)\n",
        "sgd_tfidf = SGDClassifier().fit(train_tfidf_X,train_tfidf_Y)"
      ],
      "execution_count": 0,
      "outputs": []
    },
    {
      "cell_type": "code",
      "metadata": {
        "id": "YnjR0Ew8MeGe",
        "colab_type": "code",
        "colab": {}
      },
      "source": [
        "predict_Y = sgd_bow.predict(test_bow_X)"
      ],
      "execution_count": 0,
      "outputs": []
    },
    {
      "cell_type": "code",
      "metadata": {
        "id": "-4zGbffAMga2",
        "colab_type": "code",
        "colab": {
          "base_uri": "https://localhost:8080/",
          "height": 170
        },
        "outputId": "707c289c-b677-47dd-cc52-0824046ca221"
      },
      "source": [
        "print(\n",
        "    metrics.classification_report(\n",
        "        test_bow_Y, predict_Y, target_names = ['negative', 'positive'], digits = 6\n",
        "    )\n",
        ")"
      ],
      "execution_count": 23,
      "outputs": [
        {
          "output_type": "stream",
          "text": [
            "              precision    recall  f1-score   support\n",
            "\n",
            "    negative   0.870906  0.885406  0.878096      1021\n",
            "    positive   0.877358  0.861998  0.869610       971\n",
            "\n",
            "    accuracy                       0.873996      1992\n",
            "   macro avg   0.874132  0.873702  0.873853      1992\n",
            "weighted avg   0.874051  0.873996  0.873960      1992\n",
            "\n"
          ],
          "name": "stdout"
        }
      ]
    },
    {
      "cell_type": "code",
      "metadata": {
        "id": "g3aaMX_6MiWn",
        "colab_type": "code",
        "colab": {}
      },
      "source": [
        "predict_Y = sgd_tfidf.predict(test_tfidf_X)"
      ],
      "execution_count": 0,
      "outputs": []
    },
    {
      "cell_type": "code",
      "metadata": {
        "id": "Yt25lUvQMmJI",
        "colab_type": "code",
        "colab": {
          "base_uri": "https://localhost:8080/",
          "height": 170
        },
        "outputId": "1b6a4528-b817-4b45-87ba-1c78a01e11e0"
      },
      "source": [
        "print(\n",
        "    metrics.classification_report(\n",
        "        test_tfidf_Y, predict_Y, target_names = ['negative', 'positive'], digits = 6\n",
        "    )\n",
        ")"
      ],
      "execution_count": 25,
      "outputs": [
        {
          "output_type": "stream",
          "text": [
            "              precision    recall  f1-score   support\n",
            "\n",
            "    negative   0.895626  0.864683  0.879883      1042\n",
            "    positive   0.856998  0.889474  0.872934       950\n",
            "\n",
            "    accuracy                       0.876506      1992\n",
            "   macro avg   0.876312  0.877078  0.876408      1992\n",
            "weighted avg   0.877204  0.876506  0.876569      1992\n",
            "\n"
          ],
          "name": "stdout"
        }
      ]
    },
    {
      "cell_type": "code",
      "metadata": {
        "id": "erSac1N_Mn2v",
        "colab_type": "code",
        "colab": {}
      },
      "source": [
        ""
      ],
      "execution_count": 0,
      "outputs": []
    }
  ]
}